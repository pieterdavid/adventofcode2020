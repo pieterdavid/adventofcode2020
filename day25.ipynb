{
 "cells": [
  {
   "cell_type": "markdown",
   "metadata": {},
   "source": [
    "# Advent of code 2020: day 25\n",
    "\n",
    "Problem [here](https://adventofcode.com/2020/day/25)"
   ]
  },
  {
   "cell_type": "code",
   "execution_count": 1,
   "metadata": {
    "execution": {
     "iopub.execute_input": "2020-12-26T11:17:23.178131Z",
     "iopub.status.busy": "2020-12-26T11:17:23.175357Z",
     "iopub.status.idle": "2020-12-26T11:17:23.183785Z",
     "shell.execute_reply": "2020-12-26T11:17:23.185066Z"
    }
   },
   "outputs": [
    {
     "name": "stdout",
     "output_type": "stream",
     "text": [
      "5764801 17807724\n",
      "14897079 14897079\n"
     ]
    }
   ],
   "source": [
    "def cryptTransform1(subject, loopSize=1):\n",
    "    value = 1\n",
    "    for i in range(loopSize):\n",
    "        value = (value*subject) % 20201227\n",
    "    return value\n",
    "\n",
    "print(cryptTransform1(7, 8), cryptTransform1(7, 11))\n",
    "print(cryptTransform1(17807724, 8), cryptTransform1(5764801, 11))"
   ]
  },
  {
   "cell_type": "code",
   "execution_count": 2,
   "metadata": {
    "execution": {
     "iopub.execute_input": "2020-12-26T11:17:23.194577Z",
     "iopub.status.busy": "2020-12-26T11:17:23.193371Z",
     "iopub.status.idle": "2020-12-26T11:17:23.196655Z",
     "shell.execute_reply": "2020-12-26T11:17:23.197245Z"
    }
   },
   "outputs": [
    {
     "name": "stdout",
     "output_type": "stream",
     "text": [
      "{5764801: 8, 17807724: 11}\n",
      "{5764801: 8}\n"
     ]
    }
   ],
   "source": [
    "def findLoopSizes(subject, values, findAny=False):\n",
    "    sizes = dict()\n",
    "    value = 1\n",
    "    i = 0\n",
    "    while len(sizes) != len(values):\n",
    "        if value in values:\n",
    "            sizes[value] = i\n",
    "            if findAny:\n",
    "                return sizes\n",
    "        value = (value*subject) % 20201227\n",
    "        i += 1\n",
    "    return sizes\n",
    "\n",
    "print(findLoopSizes(7, [17807724, 5764801]))\n",
    "print(findLoopSizes(7, [17807724, 5764801], findAny=True))"
   ]
  },
  {
   "cell_type": "code",
   "execution_count": 3,
   "metadata": {
    "execution": {
     "iopub.execute_input": "2020-12-26T11:17:23.271612Z",
     "iopub.status.busy": "2020-12-26T11:17:23.235563Z",
     "iopub.status.idle": "2020-12-26T11:17:24.408852Z",
     "shell.execute_reply": "2020-12-26T11:17:24.408380Z"
    }
   },
   "outputs": [
    {
     "name": "stdout",
     "output_type": "stream",
     "text": [
      "{19072108: 7177897}\n"
     ]
    }
   ],
   "source": [
    "print(findLoopSizes(7, [1965712, 19072108], findAny=True))"
   ]
  },
  {
   "cell_type": "code",
   "execution_count": 4,
   "metadata": {
    "execution": {
     "iopub.execute_input": "2020-12-26T11:17:24.482252Z",
     "iopub.status.busy": "2020-12-26T11:17:24.446496Z",
     "iopub.status.idle": "2020-12-26T11:17:25.075634Z",
     "shell.execute_reply": "2020-12-26T11:17:25.075181Z"
    }
   },
   "outputs": [
    {
     "name": "stdout",
     "output_type": "stream",
     "text": [
      "16881444\n"
     ]
    }
   ],
   "source": [
    "print(cryptTransform1(1965712, 7177897))"
   ]
  }
 ],
 "metadata": {
  "kernelspec": {
   "display_name": "Python 3",
   "language": "python",
   "name": "python3"
  },
  "language_info": {
   "codemirror_mode": {
    "name": "ipython",
    "version": 3
   },
   "file_extension": ".py",
   "mimetype": "text/x-python",
   "name": "python",
   "nbconvert_exporter": "python",
   "pygments_lexer": "ipython3",
   "version": "3.9.1"
  }
 },
 "nbformat": 4,
 "nbformat_minor": 4
}
