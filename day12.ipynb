{
 "cells": [
  {
   "cell_type": "markdown",
   "metadata": {},
   "source": [
    "# Advent of code 2020: day 12\n",
    "\n",
    "Problem [here](https://adventofcode.com/2020/day/12)"
   ]
  },
  {
   "cell_type": "code",
   "execution_count": 1,
   "metadata": {
    "execution": {
     "iopub.execute_input": "2020-12-12T14:58:31.073415Z",
     "iopub.status.busy": "2020-12-12T14:58:31.071366Z",
     "iopub.status.idle": "2020-12-12T14:58:31.082266Z",
     "shell.execute_reply": "2020-12-12T14:58:31.080311Z"
    },
    "lines_to_end_of_cell_marker": 0,
    "lines_to_next_cell": 1
   },
   "outputs": [
    {
     "name": "stdout",
     "output_type": "stream",
     "text": [
      "[('F', 10.0), ('N', 3.0), ('F', 7.0), ('R', 90.0), ('F', 11.0)]\n"
     ]
    }
   ],
   "source": [
    "example_instructions = [ (ln[0], float(ln.strip()[1:])) for ln in  \"\"\"\n",
    "F10\n",
    "N3\n",
    "F7\n",
    "R90\n",
    "F11\n",
    "\"\"\".split(\"\\n\") if ln.strip() ]\n",
    "\n",
    "with open(\"inputs/day12.txt\") as inF:\n",
    "    puzzle_instructions = [ (ln[0], float(ln.strip()[1:])) for ln in inF if ln.strip() ]\n",
    "\n",
    "print(example_instructions)"
   ]
  },
  {
   "cell_type": "markdown",
   "metadata": {},
   "source": [
    "## Part 1"
   ]
  },
  {
   "cell_type": "code",
   "execution_count": 2,
   "metadata": {
    "execution": {
     "iopub.execute_input": "2020-12-12T14:58:31.105862Z",
     "iopub.status.busy": "2020-12-12T14:58:31.104085Z",
     "iopub.status.idle": "2020-12-12T14:58:31.110199Z",
     "shell.execute_reply": "2020-12-12T14:58:31.111543Z"
    }
   },
   "outputs": [
    {
     "name": "stdout",
     "output_type": "stream",
     "text": [
      "east 17.000000, north 8.000000 (facing 180.000000)\n",
      "Manhattan distance: 25.0\n"
     ]
    }
   ],
   "source": [
    "def toGeoStr(x, y):\n",
    "    s_x = (f\"east {x:f}\" if x > 0 else f\"west {-x:f}\")\n",
    "    s_y = (f\"north {y:f}\" if y > 0 else f\"north {-y:f}\")\n",
    "    return \", \".join((s_x, s_y))\n",
    "\n",
    "import math\n",
    "class BoatPosition:\n",
    "    def __init__(self, x, y, q):\n",
    "        self.x = x\n",
    "        self.y = y\n",
    "        self.q = q # note: in degrees, from east up, angle from north: 90-self.q\n",
    "    def move(self, arg, val):\n",
    "        if arg == \"N\":\n",
    "            self.y += val\n",
    "        elif arg == \"S\":\n",
    "            self.y -= val\n",
    "        elif arg == \"E\":\n",
    "            self.x += val\n",
    "        elif arg == \"W\":\n",
    "            self.x -= val\n",
    "        elif arg == \"L\":\n",
    "            self.q += val\n",
    "        elif arg == \"R\":\n",
    "            self.q -= val\n",
    "        elif arg == \"F\":\n",
    "            theta = math.pi*self.q/180\n",
    "            self.x += val*math.cos(theta)\n",
    "            self.y += val*math.sin(theta)\n",
    "    def __str__(self):\n",
    "        return f\"{toGeoStr(self.x, self.y)} (facing {90-self.q:f})\"\n",
    "\n",
    "example_boat = BoatPosition(0, 0, 0)\n",
    "for arg, val in example_instructions:\n",
    "    example_boat.move(arg, val)\n",
    "print(example_boat)\n",
    "print(f\"Manhattan distance: {abs(example_boat.x)+abs(example_boat.y)}\")"
   ]
  },
  {
   "cell_type": "code",
   "execution_count": 3,
   "metadata": {
    "execution": {
     "iopub.execute_input": "2020-12-12T14:58:31.123925Z",
     "iopub.status.busy": "2020-12-12T14:58:31.122199Z",
     "iopub.status.idle": "2020-12-12T14:58:31.127768Z",
     "shell.execute_reply": "2020-12-12T14:58:31.129043Z"
    }
   },
   "outputs": [
    {
     "name": "stdout",
     "output_type": "stream",
     "text": [
      "west 889.000000, north 121.000000 (facing 180.000000)\n",
      "Manhattan distance: 1010\n"
     ]
    }
   ],
   "source": [
    "puzzle1_boat = BoatPosition(0, 0, 0)\n",
    "for arg, val in puzzle_instructions:\n",
    "    puzzle1_boat.move(arg, val)\n",
    "print(puzzle1_boat)\n",
    "print(f\"Manhattan distance: {round(abs(puzzle1_boat.x)+abs(puzzle1_boat.y))}\")\n",
    "# -"
   ]
  },
  {
   "cell_type": "markdown",
   "metadata": {},
   "source": [
    "## Part 2"
   ]
  },
  {
   "cell_type": "code",
   "execution_count": 4,
   "metadata": {
    "execution": {
     "iopub.execute_input": "2020-12-12T14:58:31.145409Z",
     "iopub.status.busy": "2020-12-12T14:58:31.140113Z",
     "iopub.status.idle": "2020-12-12T14:58:31.148932Z",
     "shell.execute_reply": "2020-12-12T14:58:31.148175Z"
    }
   },
   "outputs": [
    {
     "name": "stdout",
     "output_type": "stream",
     "text": [
      "east 100.000000, north 10.000000, waypoint at east 10.000000, north 1.000000\n",
      "east 100.000000, north 10.000000, waypoint at east 10.000000, north 4.000000\n",
      "east 170.000000, north 38.000000, waypoint at east 10.000000, north 4.000000\n",
      "east 170.000000, north 38.000000, waypoint at east 4.000000, north 10.000000\n",
      "east 214.000000, north 72.000000, waypoint at east 4.000000, north 10.000000\n",
      "Manhattan distance: 286.0\n"
     ]
    }
   ],
   "source": [
    "class BoatPosition2:\n",
    "    def __init__(self, x, y, wx, wy):\n",
    "        self.x = x\n",
    "        self.y = y\n",
    "        self.wx = wx\n",
    "        self.wy = wy\n",
    "    def move(self, arg, val):\n",
    "        if arg == \"N\":\n",
    "            self.wy += val\n",
    "        elif arg == \"S\":\n",
    "            self.wy -= val\n",
    "        elif arg == \"E\":\n",
    "            self.wx += val\n",
    "        elif arg == \"W\":\n",
    "            self.wx -= val\n",
    "        elif arg == \"L\" or arg == \"R\":\n",
    "            if arg == \"R\":\n",
    "                val = -val\n",
    "            vr = val*math.pi/180.\n",
    "            cq, sq = math.cos(vr), math.sin(vr)\n",
    "            self.wx, self.wy = (cq*self.wx-sq*self.wy), (cq*self.wy+sq*self.wx)\n",
    "        elif arg == \"F\":\n",
    "            self.x += val*self.wx\n",
    "            self.y += val*self.wy\n",
    "    def __str__(self):\n",
    "        return f\"{toGeoStr(self.x, self.y)}, waypoint at {toGeoStr(self.wx, self.wy)}\"\n",
    "\n",
    "example_boat2 = BoatPosition2(0, 0, 10, 1)\n",
    "for arg, val in example_instructions:\n",
    "    example_boat2.move(arg, val)\n",
    "    print(example_boat2)\n",
    "print(f\"Manhattan distance: {abs(example_boat2.x)+abs(example_boat2.y)}\")"
   ]
  },
  {
   "cell_type": "code",
   "execution_count": 5,
   "metadata": {
    "execution": {
     "iopub.execute_input": "2020-12-12T14:58:31.154751Z",
     "iopub.status.busy": "2020-12-12T14:58:31.154063Z",
     "iopub.status.idle": "2020-12-12T14:58:31.157081Z",
     "shell.execute_reply": "2020-12-12T14:58:31.156439Z"
    }
   },
   "outputs": [
    {
     "name": "stdout",
     "output_type": "stream",
     "text": [
      "west 40501.000000, north 12241.000000, waypoint at east 22.000000, north 95.000000\n",
      "Manhattan distance: 52742.000000000015\n"
     ]
    }
   ],
   "source": [
    "puzzle2_boat = BoatPosition2(0, 0, 10, 1)\n",
    "for arg, val in puzzle_instructions:\n",
    "    puzzle2_boat.move(arg, val)\n",
    "print(puzzle2_boat)\n",
    "print(f\"Manhattan distance: {abs(puzzle2_boat.x)+abs(puzzle2_boat.y)}\")"
   ]
  }
 ],
 "metadata": {
  "kernelspec": {
   "display_name": "Python 3",
   "language": "python",
   "name": "python3"
  },
  "language_info": {
   "codemirror_mode": {
    "name": "ipython",
    "version": 3
   },
   "file_extension": ".py",
   "mimetype": "text/x-python",
   "name": "python",
   "nbconvert_exporter": "python",
   "pygments_lexer": "ipython3",
   "version": "3.9.0"
  }
 },
 "nbformat": 4,
 "nbformat_minor": 4
}
