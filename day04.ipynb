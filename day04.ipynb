{
 "cells": [
  {
   "cell_type": "code",
   "execution_count": 1,
   "metadata": {},
   "outputs": [],
   "source": [
    "from itertools import groupby\n",
    "with open(\"inputs/day04.txt\") as inF:\n",
    "    inLines = [ ln.strip() for ln in inF ]\n",
    "\n",
    "passports_unparsed = [\" \".join(ln.strip() for ln in passLines) for isNotSep,passLines in groupby(inLines, bool) if isNotSep]\n",
    "passports_parsed = [ dict(word.split(\":\") for word in unp.split()) for unp in passports_unparsed ]"
   ]
  },
  {
   "cell_type": "markdown",
   "metadata": {},
   "source": [
    "# Part 1"
   ]
  },
  {
   "cell_type": "code",
   "execution_count": 2,
   "metadata": {},
   "outputs": [
    {
     "name": "stdout",
     "output_type": "stream",
     "text": [
      "192\n"
     ]
    }
   ],
   "source": [
    "print(sum(1 for p in passports_parsed if all(ky in p for ky in (\"byr\", \"iyr\", \"eyr\", \"hgt\", \"hcl\", \"ecl\", \"pid\"))))"
   ]
  },
  {
   "cell_type": "markdown",
   "metadata": {},
   "source": [
    "# Part 2"
   ]
  },
  {
   "cell_type": "code",
   "execution_count": 3,
   "metadata": {},
   "outputs": [
    {
     "name": "stdout",
     "output_type": "stream",
     "text": [
      "101\n"
     ]
    }
   ],
   "source": [
    "def isValid2(passport):\n",
    "    if not all(ky in passport for ky in (\"byr\", \"iyr\", \"eyr\", \"hgt\", \"hcl\", \"ecl\", \"pid\")):\n",
    "        return False\n",
    "    byr = int(passport[\"byr\"])\n",
    "    if byr < 1920 or byr > 2002:\n",
    "        return False\n",
    "    iyr = int(passport[\"iyr\"])\n",
    "    if iyr < 2010 or iyr > 2020:\n",
    "        return False\n",
    "    eyr = int(passport[\"eyr\"])\n",
    "    if eyr < 2020 or eyr > 2030:\n",
    "        return False\n",
    "    if ( not passport[\"hgt\"].endswith(\"cm\") ) and ( not passport[\"hgt\"].endswith(\"in\") ):\n",
    "        return False\n",
    "    hgt = int(passport[\"hgt\"][:-2])\n",
    "    hgtU = passport[\"hgt\"][-2:]\n",
    "    if hgtU == \"cm\":\n",
    "        if hgt < 150 or hgt > 193:\n",
    "            return False\n",
    "    elif hgtU == \"in\":\n",
    "        if hgt < 59 or hgt > 76:\n",
    "            return False\n",
    "    else:\n",
    "        return False\n",
    "    if not ( len(passport[\"hcl\"]) == 7 and passport[\"hcl\"][0] == \"#\" and all(c.isnumeric() or c in \"abcdef\" for c in passport[\"hcl\"][1:]) ):\n",
    "        return False\n",
    "    if passport[\"ecl\"] not in (\"amb\", \"blu\", \"brn\", \"gry\", \"grn\", \"hzl\", \"oth\"):\n",
    "        return False\n",
    "    if not ( passport[\"pid\"].isnumeric() and len(passport[\"pid\"]) == 9 ):\n",
    "        return False\n",
    "    return True\n",
    "\n",
    "print(sum(1 for p in passports_parsed if isValid2(p)))"
   ]
  },
  {
   "cell_type": "code",
   "execution_count": null,
   "metadata": {},
   "outputs": [],
   "source": []
  }
 ],
 "metadata": {
  "kernelspec": {
   "display_name": "Python 3",
   "language": "python",
   "name": "python3"
  },
  "language_info": {
   "codemirror_mode": {
    "name": "ipython",
    "version": 3
   },
   "file_extension": ".py",
   "mimetype": "text/x-python",
   "name": "python",
   "nbconvert_exporter": "python",
   "pygments_lexer": "ipython3",
   "version": "3.9.0"
  }
 },
 "nbformat": 4,
 "nbformat_minor": 4
}
