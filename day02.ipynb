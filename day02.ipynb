{
 "cells": [
  {
   "cell_type": "code",
   "execution_count": 1,
   "metadata": {},
   "outputs": [],
   "source": [
    "with open(\"inputs/day02.txt\") as inF:\n",
    "    passLines = [ ln.strip() for ln in inF ]"
   ]
  },
  {
   "cell_type": "code",
   "execution_count": 2,
   "metadata": {},
   "outputs": [
    {
     "name": "stdout",
     "output_type": "stream",
     "text": [
      "422\n"
     ]
    }
   ],
   "source": [
    "invalidPasswords = []\n",
    "for aLine in passLines:\n",
    "    policy, passWord = aLine.split(\": \")\n",
    "    counts, mandLetter = policy.split()\n",
    "    nMin, nMax = tuple(int(tk) for tk in counts.split(\"-\"))\n",
    "    nFound = passWord.count(mandLetter)\n",
    "    if nFound < nMin or nFound > nMax:\n",
    "        invalidPasswords.append(aLine)\n",
    "\n",
    "print(len(passLines)-len(invalidPasswords))"
   ]
  },
  {
   "cell_type": "code",
   "execution_count": 3,
   "metadata": {},
   "outputs": [
    {
     "name": "stdout",
     "output_type": "stream",
     "text": [
      "451\n"
     ]
    }
   ],
   "source": [
    "invalidPasswords_policy2 = []\n",
    "for aLine in passLines:\n",
    "    policy, passWord = aLine.split(\": \")\n",
    "    positions, mandLetter = policy.split()\n",
    "    positions = tuple(int(tk)-1 for tk in positions.split(\"-\"))\n",
    "    nInPos = sum((1 if passWord[iPos] == mandLetter else 0) for iPos in positions)\n",
    "    if nInPos != 1:\n",
    "        invalidPasswords_policy2.append(aLine)\n",
    "\n",
    "print(len(passLines)-len(invalidPasswords_policy2))"
   ]
  },
  {
   "cell_type": "code",
   "execution_count": null,
   "metadata": {},
   "outputs": [],
   "source": []
  }
 ],
 "metadata": {
  "kernelspec": {
   "display_name": "Python 3",
   "language": "python",
   "name": "python3"
  },
  "language_info": {
   "codemirror_mode": {
    "name": "ipython",
    "version": 3
   },
   "file_extension": ".py",
   "mimetype": "text/x-python",
   "name": "python",
   "nbconvert_exporter": "python",
   "pygments_lexer": "ipython3",
   "version": "3.9.0"
  }
 },
 "nbformat": 4,
 "nbformat_minor": 4
}
