{
 "cells": [
  {
   "cell_type": "markdown",
   "metadata": {},
   "source": [
    "# Advent of code 2020: day 2\n",
    "\n",
    "Problem [here](https://adventofcode.com/2020/day/2)"
   ]
  },
  {
   "cell_type": "code",
   "execution_count": 1,
   "metadata": {
    "execution": {
     "iopub.execute_input": "2020-12-12T14:32:04.340637Z",
     "iopub.status.busy": "2020-12-12T14:32:04.339909Z",
     "iopub.status.idle": "2020-12-12T14:32:04.343787Z",
     "shell.execute_reply": "2020-12-12T14:32:04.344310Z"
    }
   },
   "outputs": [],
   "source": [
    "with open(\"inputs/day02.txt\") as inF:\n",
    "    passLines = [ ln.strip() for ln in inF ]"
   ]
  },
  {
   "cell_type": "markdown",
   "metadata": {},
   "source": [
    "## Part 1"
   ]
  },
  {
   "cell_type": "code",
   "execution_count": 2,
   "metadata": {
    "execution": {
     "iopub.execute_input": "2020-12-12T14:32:04.351858Z",
     "iopub.status.busy": "2020-12-12T14:32:04.351208Z",
     "iopub.status.idle": "2020-12-12T14:32:04.353661Z",
     "shell.execute_reply": "2020-12-12T14:32:04.354189Z"
    }
   },
   "outputs": [
    {
     "name": "stdout",
     "output_type": "stream",
     "text": [
      "422\n"
     ]
    }
   ],
   "source": [
    "invalidPasswords = []\n",
    "for aLine in passLines:\n",
    "    policy, passWord = aLine.split(\": \")\n",
    "    counts, mandLetter = policy.split()\n",
    "    nMin, nMax = tuple(int(tk) for tk in counts.split(\"-\"))\n",
    "    nFound = passWord.count(mandLetter)\n",
    "    if nFound < nMin or nFound > nMax:\n",
    "        invalidPasswords.append(aLine)\n",
    "print(len(passLines)-len(invalidPasswords))"
   ]
  },
  {
   "cell_type": "markdown",
   "metadata": {},
   "source": [
    "## Part 2"
   ]
  },
  {
   "cell_type": "code",
   "execution_count": 3,
   "metadata": {
    "execution": {
     "iopub.execute_input": "2020-12-12T14:32:04.361934Z",
     "iopub.status.busy": "2020-12-12T14:32:04.361274Z",
     "iopub.status.idle": "2020-12-12T14:32:04.363470Z",
     "shell.execute_reply": "2020-12-12T14:32:04.363992Z"
    }
   },
   "outputs": [
    {
     "name": "stdout",
     "output_type": "stream",
     "text": [
      "451\n"
     ]
    }
   ],
   "source": [
    "invalidPasswords_policy2 = []\n",
    "for aLine in passLines:\n",
    "    policy, passWord = aLine.split(\": \")\n",
    "    positions, mandLetter = policy.split()\n",
    "    positions = tuple(int(tk)-1 for tk in positions.split(\"-\"))\n",
    "    nInPos = sum((1 if passWord[iPos] == mandLetter else 0) for iPos in positions)\n",
    "    if nInPos != 1:\n",
    "        invalidPasswords_policy2.append(aLine)\n",
    "print(len(passLines)-len(invalidPasswords_policy2))"
   ]
  }
 ],
 "metadata": {
  "kernelspec": {
   "display_name": "Python 3",
   "language": "python",
   "name": "python3"
  },
  "language_info": {
   "codemirror_mode": {
    "name": "ipython",
    "version": 3
   },
   "file_extension": ".py",
   "mimetype": "text/x-python",
   "name": "python",
   "nbconvert_exporter": "python",
   "pygments_lexer": "ipython3",
   "version": "3.9.0"
  }
 },
 "nbformat": 4,
 "nbformat_minor": 4
}
