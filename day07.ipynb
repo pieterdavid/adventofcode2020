{
 "cells": [
  {
   "cell_type": "markdown",
   "metadata": {},
   "source": [
    "# Advent of code 2020: day 7\n",
    "\n",
    "Problem [here](https://adventofcode.com/2020/day/7)\n",
    "\n",
    "## Part 1"
   ]
  },
  {
   "cell_type": "code",
   "execution_count": 1,
   "metadata": {
    "execution": {
     "iopub.execute_input": "2020-12-12T14:43:34.751416Z",
     "iopub.status.busy": "2020-12-12T14:43:34.748942Z",
     "iopub.status.idle": "2020-12-12T14:43:34.753686Z",
     "shell.execute_reply": "2020-12-12T14:43:34.755210Z"
    }
   },
   "outputs": [],
   "source": [
    "example_input = \"\"\"\n",
    "light red bags contain 1 bright white bag, 2 muted yellow bags.\n",
    "dark orange bags contain 3 bright white bags, 4 muted yellow bags.\n",
    "bright white bags contain 1 shiny gold bag.\n",
    "muted yellow bags contain 2 shiny gold bags, 9 faded blue bags.\n",
    "shiny gold bags contain 1 dark olive bag, 2 vibrant plum bags.\n",
    "dark olive bags contain 3 faded blue bags, 4 dotted black bags.\n",
    "vibrant plum bags contain 5 faded blue bags, 6 dotted black bags.\n",
    "faded blue bags contain no other bags.\n",
    "dotted black bags contain no other bags.\n",
    "\"\"\""
   ]
  },
  {
   "cell_type": "code",
   "execution_count": 2,
   "metadata": {
    "execution": {
     "iopub.execute_input": "2020-12-12T14:43:34.774750Z",
     "iopub.status.busy": "2020-12-12T14:43:34.774026Z",
     "iopub.status.idle": "2020-12-12T14:43:34.777306Z",
     "shell.execute_reply": "2020-12-12T14:43:34.777994Z"
    }
   },
   "outputs": [
    {
     "name": "stdout",
     "output_type": "stream",
     "text": [
      "4 ['light red', 'dark orange', 'bright white', 'muted yellow']\n"
     ]
    }
   ],
   "source": [
    "def parseRule(line):\n",
    "    ## parse a rule to { colour: [ (number, colour) ] }\n",
    "    colour, contPart = line.split(\" bags contain \")\n",
    "    contents = []\n",
    "    if contPart != \"no other bags.\":\n",
    "        contTokens = contPart.rstrip(\".\").split(\", \")\n",
    "        for contTk in contTokens:\n",
    "            nr,c1,c2,_ = contTk.split()\n",
    "            contents.append((int(nr), \" \".join((c1,c2))))\n",
    "    return colour, contents\n",
    "\n",
    "def _check_contains(testColour, rules, colour, memo):\n",
    "    ## recursive part of find_that_contains: fill up the cache up until colour\n",
    "    doesContain = False\n",
    "    for _,cl in rules[colour]:\n",
    "        if cl == testColour:\n",
    "            doesContain = True\n",
    "        else:\n",
    "            if cl not in memo:\n",
    "                _check_contains(testColour, rules, cl, memo)\n",
    "            if memo[cl]:\n",
    "                doesContain = True\n",
    "    memo[colour] = doesContain\n",
    "\n",
    "def find_that_contain(testColour, rules):\n",
    "    ## find colours (in rules) that (recursively) contain at least one of testColour\n",
    "    memo = dict()\n",
    "    goodColours = []\n",
    "    for aCol in rules:\n",
    "        if aCol not in memo:\n",
    "            _check_contains(testColour, rules, aCol, memo)\n",
    "        if memo[aCol]:\n",
    "            goodColours.append(aCol)\n",
    "    return goodColours\n",
    "\n",
    "example_rules = dict(parseRule(ln.strip()) for ln in example_input.split(\"\\n\") if ln.strip())\n",
    "example_contain_shinygold = find_that_contain(\"shiny gold\", example_rules)\n",
    "print(len(example_contain_shinygold), example_contain_shinygold)"
   ]
  },
  {
   "cell_type": "code",
   "execution_count": 3,
   "metadata": {
    "execution": {
     "iopub.execute_input": "2020-12-12T14:43:34.783837Z",
     "iopub.status.busy": "2020-12-12T14:43:34.783165Z",
     "iopub.status.idle": "2020-12-12T14:43:34.791510Z",
     "shell.execute_reply": "2020-12-12T14:43:34.790842Z"
    }
   },
   "outputs": [
    {
     "name": "stdout",
     "output_type": "stream",
     "text": [
      "316\n"
     ]
    }
   ],
   "source": [
    "with open(\"inputs/day07.txt\") as inF:\n",
    "    puzzle_rules = dict(parseRule(ln.strip()) for ln in inF if ln.strip())\n",
    "print(len(find_that_contain(\"shiny gold\", puzzle_rules)))"
   ]
  },
  {
   "cell_type": "markdown",
   "metadata": {},
   "source": [
    "## Part 2"
   ]
  },
  {
   "cell_type": "code",
   "execution_count": 4,
   "metadata": {
    "execution": {
     "iopub.execute_input": "2020-12-12T14:43:34.796529Z",
     "iopub.status.busy": "2020-12-12T14:43:34.795912Z",
     "iopub.status.idle": "2020-12-12T14:43:34.798243Z",
     "shell.execute_reply": "2020-12-12T14:43:34.798721Z"
    }
   },
   "outputs": [
    {
     "name": "stdout",
     "output_type": "stream",
     "text": [
      "126\n"
     ]
    }
   ],
   "source": [
    "example2_input = \"\"\"\n",
    "shiny gold bags contain 2 dark red bags.\n",
    "dark red bags contain 2 dark orange bags.\n",
    "dark orange bags contain 2 dark yellow bags.\n",
    "dark yellow bags contain 2 dark green bags.\n",
    "dark green bags contain 2 dark blue bags.\n",
    "dark blue bags contain 2 dark violet bags.\n",
    "dark violet bags contain no other bags.\n",
    "\"\"\"\n",
    "\n",
    "def number_inside(colour, rules):\n",
    "    return sum(n*(1+number_inside(aCol, rules)) for n, aCol in rules[colour])\n",
    "\n",
    "example2_rules = dict(parseRule(ln.strip()) for ln in example2_input.split(\"\\n\") if ln.strip())\n",
    "print(number_inside(\"shiny gold\", example2_rules))"
   ]
  },
  {
   "cell_type": "code",
   "execution_count": 5,
   "metadata": {
    "execution": {
     "iopub.execute_input": "2020-12-12T14:43:34.802747Z",
     "iopub.status.busy": "2020-12-12T14:43:34.802094Z",
     "iopub.status.idle": "2020-12-12T14:43:34.805050Z",
     "shell.execute_reply": "2020-12-12T14:43:34.804429Z"
    }
   },
   "outputs": [
    {
     "name": "stdout",
     "output_type": "stream",
     "text": [
      "11310\n"
     ]
    }
   ],
   "source": [
    "print(number_inside(\"shiny gold\", puzzle_rules))"
   ]
  }
 ],
 "metadata": {
  "kernelspec": {
   "display_name": "Python 3",
   "language": "python",
   "name": "python3"
  },
  "language_info": {
   "codemirror_mode": {
    "name": "ipython",
    "version": 3
   },
   "file_extension": ".py",
   "mimetype": "text/x-python",
   "name": "python",
   "nbconvert_exporter": "python",
   "pygments_lexer": "ipython3",
   "version": "3.9.0"
  }
 },
 "nbformat": 4,
 "nbformat_minor": 4
}
