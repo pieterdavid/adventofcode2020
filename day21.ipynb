{
 "cells": [
  {
   "cell_type": "markdown",
   "metadata": {},
   "source": [
    "# Advent of code 2020: day 21\n",
    "\n",
    "Problem [here](https://adventofcode.com/2020/day/21)"
   ]
  },
  {
   "cell_type": "markdown",
   "metadata": {},
   "source": [
    "## Part 1"
   ]
  },
  {
   "cell_type": "code",
   "execution_count": 1,
   "metadata": {
    "execution": {
     "iopub.execute_input": "2020-12-21T12:50:37.459685Z",
     "iopub.status.busy": "2020-12-21T12:50:37.458776Z",
     "iopub.status.idle": "2020-12-21T12:50:37.461847Z",
     "shell.execute_reply": "2020-12-21T12:50:37.462613Z"
    }
   },
   "outputs": [
    {
     "name": "stdout",
     "output_type": "stream",
     "text": [
      "[(['mxmxvkd', 'kfcds', 'sqjhc', 'nhms'], ['dairy', 'fish']), (['trh', 'fvjkl', 'sbzzf', 'mxmxvkd'], ['dairy']), (['sqjhc', 'fvjkl'], ['soy']), (['sqjhc', 'mxmxvkd', 'sbzzf'], ['fish'])]\n"
     ]
    }
   ],
   "source": [
    "ex_in = \"\"\"mxmxvkd kfcds sqjhc nhms (contains dairy, fish)\n",
    "trh fvjkl sbzzf mxmxvkd (contains dairy)\n",
    "sqjhc fvjkl (contains soy)\n",
    "sqjhc mxmxvkd sbzzf (contains fish)\"\"\"\n",
    "\n",
    "def readFoodList(lines):\n",
    "    ingredAllergens = []\n",
    "    for ln in lines:\n",
    "        pIngred, pAllerg = ln.split(\" (contains \")\n",
    "        ingred = list(pIngred.split())\n",
    "        allerg = list(pAllerg.rstrip(\")\").split(\", \"))\n",
    "        ingredAllergens.append((ingred, allerg))\n",
    "    return ingredAllergens\n",
    "\n",
    "ex_food = readFoodList(ex_in.split(\"\\n\"))\n",
    "print(ex_food)"
   ]
  },
  {
   "cell_type": "code",
   "execution_count": 2,
   "metadata": {
    "execution": {
     "iopub.execute_input": "2020-12-21T12:50:37.475299Z",
     "iopub.status.busy": "2020-12-21T12:50:37.474112Z",
     "iopub.status.idle": "2020-12-21T12:50:37.483541Z",
     "shell.execute_reply": "2020-12-21T12:50:37.485106Z"
    }
   },
   "outputs": [
    {
     "name": "stdout",
     "output_type": "stream",
     "text": [
      "Ingredient kfcds occurs 1 times\n",
      "Ingredient nhms occurs 1 times\n",
      "Ingredient trh occurs 1 times\n",
      "Ingredient sbzzf occurs 2 times\n",
      "Sum: 5\n"
     ]
    }
   ],
   "source": [
    "from collections import defaultdict\n",
    "\n",
    "def findAllergens(foodList):\n",
    "    options_perAllerg = {}\n",
    "    allIngredients = defaultdict(int)\n",
    "    for f_ingred, f_allerg in foodList:\n",
    "        for allerg in f_allerg:\n",
    "            if allerg in options_perAllerg: # already have options: interesect\n",
    "                presentOpts = options_perAllerg[allerg]\n",
    "                options_perAllerg[allerg] = [ ingred for ingred in f_ingred if ingred in presentOpts ]\n",
    "            else: # otherwise, all these are possible\n",
    "                options_perAllerg[allerg] = f_ingred\n",
    "        for ingred in f_ingred:\n",
    "            allIngredients[ingred] += 1\n",
    "\n",
    "    nAllergens = len(options_perAllerg)\n",
    "    allergens = dict()\n",
    "    while nAllergens != len(allergens):\n",
    "        aFound, iFound = [], []\n",
    "        ## find those with 1\n",
    "        for allerg, options in options_perAllerg.items():\n",
    "            if len(options) == 1:\n",
    "                allergens[allerg] = options[0]\n",
    "                aFound.append(allerg)\n",
    "                iFound.append(options[0])\n",
    "        ## update options: if found -> empty,\n",
    "        for fnd in aFound:\n",
    "            del options_perAllerg[fnd]\n",
    "        for allerg in options_perAllerg.keys():\n",
    "            options_perAllerg[allerg] = [ ingred for ingred in options_perAllerg[allerg] if ingred not in iFound ]\n",
    "        if not aFound:\n",
    "            raise RuntimeError(\"None assigned this round, exiting loop\")\n",
    "    return allergens, allIngredients\n",
    "\n",
    "ex_allergens, ex_allIngredients = findAllergens(ex_food)\n",
    "ex_allergIngred = set(ex_allergens.values())\n",
    "ex_sum = 0\n",
    "for ingred,cnt in ex_allIngredients.items():\n",
    "    if ingred not in ex_allergIngred:\n",
    "        print(f\"Ingredient {ingred} occurs {cnt:d} times\")\n",
    "        ex_sum += cnt\n",
    "print(f\"Sum: {ex_sum:d}\")"
   ]
  },
  {
   "cell_type": "code",
   "execution_count": 3,
   "metadata": {
    "execution": {
     "iopub.execute_input": "2020-12-21T12:50:37.496225Z",
     "iopub.status.busy": "2020-12-21T12:50:37.494227Z",
     "iopub.status.idle": "2020-12-21T12:50:37.507185Z",
     "shell.execute_reply": "2020-12-21T12:50:37.506028Z"
    }
   },
   "outputs": [
    {
     "name": "stdout",
     "output_type": "stream",
     "text": [
      "Sum: 2125\n"
     ]
    }
   ],
   "source": [
    "with open(\"inputs/day21.txt\") as inF:\n",
    "    p_food = readFoodList((ln.strip() for ln in inF))\n",
    "\n",
    "p_allergens, p_allIngredients = findAllergens(p_food)\n",
    "p_allergIngred = set(p_allergens.values())\n",
    "p_sum = 0\n",
    "for ingred,cnt in p_allIngredients.items():\n",
    "    if ingred not in p_allergIngred:\n",
    "        p_sum += cnt\n",
    "print(f\"Sum: {p_sum:d}\")"
   ]
  },
  {
   "cell_type": "markdown",
   "metadata": {},
   "source": [
    "## Part 2"
   ]
  },
  {
   "cell_type": "code",
   "execution_count": 4,
   "metadata": {
    "execution": {
     "iopub.execute_input": "2020-12-21T12:50:37.518871Z",
     "iopub.status.busy": "2020-12-21T12:50:37.514996Z",
     "iopub.status.idle": "2020-12-21T12:50:37.521695Z",
     "shell.execute_reply": "2020-12-21T12:50:37.522346Z"
    }
   },
   "outputs": [
    {
     "name": "stdout",
     "output_type": "stream",
     "text": [
      "mxmxvkd,sqjhc,fvjkl\n",
      "phc,spnd,zmsdzh,pdt,fqqcnm,lsgqf,rjc,lzvh\n"
     ]
    }
   ],
   "source": [
    "print(\",\".join(ingred for allerg,ingred in sorted(ex_allergens.items(), key=lambda elm : elm[0])))\n",
    "print(\",\".join(ingred for allerg,ingred in sorted(p_allergens.items(), key=lambda elm : elm[0])))"
   ]
  }
 ],
 "metadata": {
  "kernelspec": {
   "display_name": "Python 3",
   "language": "python",
   "name": "python3"
  },
  "language_info": {
   "codemirror_mode": {
    "name": "ipython",
    "version": 3
   },
   "file_extension": ".py",
   "mimetype": "text/x-python",
   "name": "python",
   "nbconvert_exporter": "python",
   "pygments_lexer": "ipython3",
   "version": "3.9.1"
  }
 },
 "nbformat": 4,
 "nbformat_minor": 4
}
