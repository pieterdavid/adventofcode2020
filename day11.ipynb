{
 "cells": [
  {
   "cell_type": "markdown",
   "metadata": {},
   "source": [
    "# Advent of code 2020: day 11\n",
    "\n",
    "Problem [here](https://adventofcode.com/2020/day/11)\n",
    "\n",
    "## Part 1"
   ]
  },
  {
   "cell_type": "code",
   "execution_count": 1,
   "metadata": {
    "execution": {
     "iopub.execute_input": "2020-12-12T14:56:30.608646Z",
     "iopub.status.busy": "2020-12-12T14:56:30.607906Z",
     "iopub.status.idle": "2020-12-12T14:56:30.679550Z",
     "shell.execute_reply": "2020-12-12T14:56:30.678888Z"
    }
   },
   "outputs": [],
   "source": [
    "import numpy as np\n",
    "example_layout = np.array([ [ elm == \"L\" for elm in ln.strip() ] for ln in\n",
    "\"\"\"L.LL.LL.LL\n",
    "LLLLLLL.LL\n",
    "L.L.L..L..\n",
    "LLLL.LL.LL\n",
    "L.LL.LL.LL\n",
    "L.LLLLL.LL\n",
    "..L.L.....\n",
    "LLLLLLLLLL\n",
    "L.LLLLLL.L\n",
    "L.LLLLL.LL\"\"\".split(\"\\n\") if ln.strip() ] )"
   ]
  },
  {
   "cell_type": "code",
   "execution_count": 2,
   "metadata": {
    "execution": {
     "iopub.execute_input": "2020-12-12T14:56:30.690353Z",
     "iopub.status.busy": "2020-12-12T14:56:30.689808Z",
     "iopub.status.idle": "2020-12-12T14:56:30.692676Z",
     "shell.execute_reply": "2020-12-12T14:56:30.692251Z"
    }
   },
   "outputs": [
    {
     "name": "stdout",
     "output_type": "stream",
     "text": [
      "Seating step 1 went from 0 to 71 occupied seats\n",
      "#.##.##.##\n",
      "#######.##\n",
      "#.#.#..#..\n",
      "####.##.##\n",
      "#.##.##.##\n",
      "#.#####.##\n",
      "..#.#.....\n",
      "##########\n",
      "#.######.#\n",
      "#.#####.##\n",
      "Seating step 2 went from 71 to 20 occupied seats\n",
      "#.LL.L#.##\n",
      "#LLLLLL.L#\n",
      "L.L.L..L..\n",
      "#LLL.LL.L#\n",
      "#.LL.LL.LL\n",
      "#.LLLL#.##\n",
      "..L.L.....\n",
      "#LLLLLLLL#\n",
      "#.LLLLLL.L\n",
      "#.#LLLL.##\n",
      "Seating step 3 went from 20 to 51 occupied seats\n",
      "#.##.L#.##\n",
      "#L###LL.L#\n",
      "L.#.#..#..\n",
      "#L##.##.L#\n",
      "#.##.LL.LL\n",
      "#.###L#.##\n",
      "..#.#.....\n",
      "#L######L#\n",
      "#.LL###L.L\n",
      "#.#L###.##\n",
      "Seating step 4 went from 51 to 30 occupied seats\n",
      "#.#L.L#.##\n",
      "#LLL#LL.L#\n",
      "L.L.L..#..\n",
      "#LLL.##.L#\n",
      "#.LL.LL.LL\n",
      "#.LL#L#.##\n",
      "..L.L.....\n",
      "#L#LLLL#L#\n",
      "#.LLLLLL.L\n",
      "#.#L#L#.##\n",
      "Seating step 5 went from 30 to 37 occupied seats\n",
      "#.#L.L#.##\n",
      "#LLL#LL.L#\n",
      "L.#.L..#..\n",
      "#L##.##.L#\n",
      "#.#L.LL.LL\n",
      "#.#L#L#.##\n",
      "..L.L.....\n",
      "#L#L##L#L#\n",
      "#.LLLLLL.L\n",
      "#.#L#L#.##\n",
      "Seating step 6 went from 37 to 37 occupied seats\n",
      "#.#L.L#.##\n",
      "#LLL#LL.L#\n",
      "L.#.L..#..\n",
      "#L##.##.L#\n",
      "#.#L.LL.LL\n",
      "#.#L#L#.##\n",
      "..L.L.....\n",
      "#L#L##L#L#\n",
      "#.LLLLLL.L\n",
      "#.#L#L#.##\n",
      "Example input: 37 seats taken when stable, after 5 steps\n"
     ]
    }
   ],
   "source": [
    "def seatOneStep(seating, layout, debug=False):\n",
    "    ## seating (changed in place) should be integer, layout boolean\n",
    "    def _getSlices(d):\n",
    "        if d > 0:\n",
    "            return slice(d, None), slice(-d)\n",
    "        elif d < 0:\n",
    "            return slice(d), slice(-d, None)\n",
    "        else:\n",
    "            return slice(None), slice(None)\n",
    "    ## calculate number of adjacent occupied\n",
    "    nAdj = np.zeros(layout.shape, dtype=np.int)\n",
    "    for dx in range(-1, 2):\n",
    "        x_from, x_to = _getSlices(dx)\n",
    "        for dy in range(-1, 2):\n",
    "            y_from, y_to = _getSlices(dy)\n",
    "            if dx != 0 or dy != 0:\n",
    "                nAdj[x_to,y_to] += seating[x_from,y_from]\n",
    "    ## apply the seating rules\n",
    "    s_ones = np.ones(seating.shape, dtype=seating.dtype)\n",
    "    s_zeros = np.zeros(seating.shape, dtype=seating.dtype)\n",
    "    nextSeating = np.array(seating)\n",
    "    ## empty and empty around -> occupy\n",
    "    msk_fill = np.logical_and(seating == 0, nAdj == 0)\n",
    "    nextSeating += np.where(layout, np.where(msk_fill, s_ones, s_zeros), s_zeros)\n",
    "    ## taken and >= 4 -> empty\n",
    "    msk_empty = np.logical_and(seating == 1, nAdj >= 4)\n",
    "    nextSeating -= np.where(layout, np.where(msk_empty, s_ones, s_zeros), s_zeros)\n",
    "\n",
    "    return nextSeating\n",
    "\n",
    "def printSeating(seating, layout):\n",
    "    print(\"\\n\".join(\"\".join(\n",
    "        (\".\" if not iL else (\"#\" if iS else \"L\")) for iS, iL in zip(sRow, lRow))\n",
    "        for sRow,lRow in zip(seating, layout)))\n",
    "\n",
    "def run_until_stable(layout, debug=True, oneStep=None):\n",
    "    prevSeating = np.ones(layout.shape, dtype=np.int) # placeholder, irrelevant\n",
    "    seating = np.zeros(layout.shape, dtype=np.int)\n",
    "    i = 0\n",
    "    while not np.array_equal(prevSeating, seating):\n",
    "        prevSeating, seating = seating, oneStep(seating, layout)\n",
    "        if debug:\n",
    "            print(f\"Seating step {i+1:d} went from {np.sum(prevSeating):d} to {np.sum(seating):d} occupied seats\")\n",
    "            printSeating(seating, layout)\n",
    "        i += 1\n",
    "    return i-1, seating\n",
    "\n",
    "example_steps, example_stable = run_until_stable(example_layout, debug=True, oneStep=seatOneStep)\n",
    "print(f\"Example input: {np.sum(example_stable):d} seats taken when stable, after {example_steps:d} steps\")"
   ]
  },
  {
   "cell_type": "code",
   "execution_count": 3,
   "metadata": {
    "execution": {
     "iopub.execute_input": "2020-12-12T14:56:30.696504Z",
     "iopub.status.busy": "2020-12-12T14:56:30.695992Z",
     "iopub.status.idle": "2020-12-12T14:56:30.722521Z",
     "shell.execute_reply": "2020-12-12T14:56:30.722075Z"
    },
    "lines_to_end_of_cell_marker": 0,
    "lines_to_next_cell": 1
   },
   "outputs": [
    {
     "name": "stdout",
     "output_type": "stream",
     "text": [
      "Puzzle input: 2238 seats taken when stable, after 99 steps\n"
     ]
    }
   ],
   "source": [
    "with open(\"inputs/day11.txt\") as inF:\n",
    "    puzzle_layout = np.array([ [ char != \".\" for char in ln.strip() ] for ln in inF if ln.strip() ])\n",
    "    \n",
    "puzzle_steps, puzzle_stable = run_until_stable(puzzle_layout, debug=False, oneStep=seatOneStep)\n",
    "print(f\"Puzzle input: {np.sum(puzzle_stable):d} seats taken when stable, after {puzzle_steps:d} steps\")"
   ]
  },
  {
   "cell_type": "markdown",
   "metadata": {},
   "source": [
    "## Part 2"
   ]
  },
  {
   "cell_type": "code",
   "execution_count": 4,
   "metadata": {
    "execution": {
     "iopub.execute_input": "2020-12-12T14:56:30.734685Z",
     "iopub.status.busy": "2020-12-12T14:56:30.734249Z",
     "iopub.status.idle": "2020-12-12T14:56:30.736909Z",
     "shell.execute_reply": "2020-12-12T14:56:30.736448Z"
    }
   },
   "outputs": [
    {
     "name": "stdout",
     "output_type": "stream",
     "text": [
      "Seating step 1 went from 0 to 71 occupied seats\n",
      "#.##.##.##\n",
      "#######.##\n",
      "#.#.#..#..\n",
      "####.##.##\n",
      "#.##.##.##\n",
      "#.#####.##\n",
      "..#.#.....\n",
      "##########\n",
      "#.######.#\n",
      "#.#####.##\n",
      "Seating step 2 went from 71 to 7 occupied seats\n",
      "#.LL.LL.L#\n",
      "#LLLLLL.LL\n",
      "L.L.L..L..\n",
      "LLLL.LL.LL\n",
      "L.LL.LL.LL\n",
      "L.LLLLL.LL\n",
      "..L.L.....\n",
      "LLLLLLLLL#\n",
      "#.LLLLLL.L\n",
      "#.LLLLL.L#\n",
      "Seating step 3 went from 7 to 53 occupied seats\n",
      "#.L#.##.L#\n",
      "#L#####.LL\n",
      "L.#.#..#..\n",
      "##L#.##.##\n",
      "#.##.#L.##\n",
      "#.#####.#L\n",
      "..#.#.....\n",
      "LLL####LL#\n",
      "#.L#####.L\n",
      "#.L####.L#\n",
      "Seating step 4 went from 53 to 18 occupied seats\n",
      "#.L#.L#.L#\n",
      "#LLLLLL.LL\n",
      "L.L.L..#..\n",
      "##LL.LL.L#\n",
      "L.LL.LL.L#\n",
      "#.LLLLL.LL\n",
      "..L.L.....\n",
      "LLLLLLLLL#\n",
      "#.LLLLL#.L\n",
      "#.L#LL#.L#\n",
      "Seating step 5 went from 18 to 31 occupied seats\n",
      "#.L#.L#.L#\n",
      "#LLLLLL.LL\n",
      "L.L.L..#..\n",
      "##L#.#L.L#\n",
      "L.L#.#L.L#\n",
      "#.L####.LL\n",
      "..#.#.....\n",
      "LLL###LLL#\n",
      "#.LLLLL#.L\n",
      "#.L#LL#.L#\n",
      "Seating step 6 went from 31 to 26 occupied seats\n",
      "#.L#.L#.L#\n",
      "#LLLLLL.LL\n",
      "L.L.L..#..\n",
      "##L#.#L.L#\n",
      "L.L#.LL.L#\n",
      "#.LLLL#.LL\n",
      "..#.L.....\n",
      "LLL###LLL#\n",
      "#.LLLLL#.L\n",
      "#.L#LL#.L#\n",
      "Seating step 7 went from 26 to 26 occupied seats\n",
      "#.L#.L#.L#\n",
      "#LLLLLL.LL\n",
      "L.L.L..#..\n",
      "##L#.#L.L#\n",
      "L.L#.LL.L#\n",
      "#.LLLL#.LL\n",
      "..#.L.....\n",
      "LLL###LLL#\n",
      "#.LLLLL#.L\n",
      "#.L#LL#.L#\n",
      "Example input: 26 seats taken when stable, after 6 steps\n"
     ]
    }
   ],
   "source": [
    "def seatOneStep2(seating, layout, debug=False):\n",
    "    ## seating (changed in place) should be integer, layout boolean\n",
    "    ## calculate number of adjacent occupied\n",
    "    nVis = np.zeros(layout.shape, dtype=np.int)\n",
    "    for dx in range(-1, 2):\n",
    "        for dy in range(-1, 2):\n",
    "            if dx != 0 or dy != 0:\n",
    "                with np.nditer(seating, flags=['multi_index']) as itSeat:\n",
    "                    for elm in itSeat:\n",
    "                        idx = itSeat.multi_index\n",
    "                        visInDir = None\n",
    "                        i,j = idx[0]+dx, idx[1]+dy\n",
    "                        while i >= 0 and i < layout.shape[0] and j >= 0 and j < layout.shape[1]:\n",
    "                            if layout[i,j]: # first seat in that direction\n",
    "                                visInDir = seating[i,j]\n",
    "                                break\n",
    "                            else:\n",
    "                                i += dx\n",
    "                                j += dy\n",
    "                        if visInDir == 1:\n",
    "                            nVis[idx] += 1\n",
    "    ## apply the seating rules\n",
    "    s_ones = np.ones(seating.shape, dtype=seating.dtype)\n",
    "    s_zeros = np.zeros(seating.shape, dtype=seating.dtype)\n",
    "    nextSeating = np.array(seating)\n",
    "    ## empty and empty around -> occupy\n",
    "    msk_fill = np.logical_and(seating == 0, nVis == 0)\n",
    "    nextSeating += np.where(layout, np.where(msk_fill, s_ones, s_zeros), s_zeros)\n",
    "    ## taken and >= 5 -> empty\n",
    "    msk_empty = np.logical_and(seating == 1, nVis >= 5)\n",
    "    nextSeating -= np.where(layout, np.where(msk_empty, s_ones, s_zeros), s_zeros)\n",
    "\n",
    "    return nextSeating\n",
    "\n",
    "example_steps2, example_stable2 = run_until_stable(example_layout, debug=True, oneStep=seatOneStep2)\n",
    "print(f\"Example input: {np.sum(example_stable2):d} seats taken when stable, after {example_steps2:d} steps\")"
   ]
  },
  {
   "cell_type": "code",
   "execution_count": 5,
   "metadata": {
    "execution": {
     "iopub.execute_input": "2020-12-12T14:56:30.740337Z",
     "iopub.status.busy": "2020-12-12T14:56:30.739864Z",
     "iopub.status.idle": "2020-12-12T14:56:38.437984Z",
     "shell.execute_reply": "2020-12-12T14:56:38.437535Z"
    }
   },
   "outputs": [
    {
     "name": "stdout",
     "output_type": "stream",
     "text": [
      "Puzzle input with rules v2: 2013 seats taken when stable, after 85 steps\n"
     ]
    }
   ],
   "source": [
    "puzzle_steps2, puzzle_stable2 = run_until_stable(puzzle_layout, debug=False, oneStep=seatOneStep2)\n",
    "print(f\"Puzzle input with rules v2: {np.sum(puzzle_stable2):d} seats taken when stable, after {puzzle_steps2:d} steps\")"
   ]
  }
 ],
 "metadata": {
  "kernelspec": {
   "display_name": "Python 3",
   "language": "python",
   "name": "python3"
  },
  "language_info": {
   "codemirror_mode": {
    "name": "ipython",
    "version": 3
   },
   "file_extension": ".py",
   "mimetype": "text/x-python",
   "name": "python",
   "nbconvert_exporter": "python",
   "pygments_lexer": "ipython3",
   "version": "3.9.0"
  }
 },
 "nbformat": 4,
 "nbformat_minor": 4
}
