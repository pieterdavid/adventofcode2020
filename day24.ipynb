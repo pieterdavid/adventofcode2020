{
 "cells": [
  {
   "cell_type": "markdown",
   "metadata": {},
   "source": [
    "# Advent of code 2020: day 24\n",
    "\n",
    "Problem [here](https://adventofcode.com/2020/day/24)"
   ]
  },
  {
   "cell_type": "code",
   "execution_count": 1,
   "metadata": {
    "execution": {
     "iopub.execute_input": "2020-12-26T11:16:46.493129Z",
     "iopub.status.busy": "2020-12-26T11:16:46.490531Z",
     "iopub.status.idle": "2020-12-26T11:16:46.500269Z",
     "shell.execute_reply": "2020-12-26T11:16:46.497755Z"
    }
   },
   "outputs": [],
   "source": [
    "ex_in = \"\"\"sesenwnenenewseeswwswswwnenewsewsw\n",
    "neeenesenwnwwswnenewnwwsewnenwseswesw\n",
    "seswneswswsenwwnwse\n",
    "nwnwneseeswswnenewneswwnewseswneseene\n",
    "swweswneswnenwsewnwneneseenw\n",
    "eesenwseswswnenwswnwnwsewwnwsene\n",
    "sewnenenenesenwsewnenwwwse\n",
    "wenwwweseeeweswwwnwwe\n",
    "wsweesenenewnwwnwsenewsenwwsesesenwne\n",
    "neeswseenwwswnwswswnw\n",
    "nenwswwsewswnenenewsenwsenwnesesenew\n",
    "enewnwewneswsewnwswenweswnenwsenwsw\n",
    "sweneswneswneneenwnewenewwneswswnese\n",
    "swwesenesewenwneswnwwneseswwne\n",
    "enesenwswwswneneswsenwnewswseenwsese\n",
    "wnwnesenesenenwwnenwsewesewsesesew\n",
    "nenewswnwewswnenesenwnesewesw\n",
    "eneswnwswnwsenenwnwnwwseeswneewsenese\n",
    "neswnwewnwnwseenwseesewsenwsweewe\n",
    "wseweeenwnesenwwwswnew\"\"\"\n",
    "\n",
    "def parseInstructions(lines):\n",
    "    out = []\n",
    "    for ln in lines:\n",
    "        lnOut = []\n",
    "        chars = iter(ln)\n",
    "        ch = next(chars)\n",
    "        try:\n",
    "            prev = None\n",
    "            while True:\n",
    "                if ch in (\"e\", \"w\"):\n",
    "                    if prev:\n",
    "                        lnOut.append(\"\".join((prev, ch)))\n",
    "                    else:\n",
    "                        lnOut.append(ch)\n",
    "                    prev = None\n",
    "                else:\n",
    "                    prev = ch\n",
    "                ch = next(chars)\n",
    "        except StopIteration:\n",
    "            pass\n",
    "        out.append(lnOut)\n",
    "    return out\n",
    "\n",
    "ex_instructions = parseInstructions(ex_in.split(\"\\n\"))"
   ]
  },
  {
   "cell_type": "code",
   "execution_count": 2,
   "metadata": {
    "execution": {
     "iopub.execute_input": "2020-12-26T11:16:46.521165Z",
     "iopub.status.busy": "2020-12-26T11:16:46.518911Z",
     "iopub.status.idle": "2020-12-26T11:16:46.610450Z",
     "shell.execute_reply": "2020-12-26T11:16:46.610859Z"
    }
   },
   "outputs": [
    {
     "name": "stdout",
     "output_type": "stream",
     "text": [
      "Flipping 9,0 to black\n",
      "Flipping 4,5 to black\n",
      "Flipping 10,7 to black\n",
      "Flipping 5,7 to black\n",
      "Flipping 5,6 to black\n",
      "Flipping 7,6 to black\n",
      "Flipping 4,5 back to white\n",
      "Flipping 7,5 to black\n",
      "Flipping 6,6 to black\n",
      "Flipping 8,6 to black\n",
      "Flipping 5,5 to black\n",
      "Flipping 5,5 back to white\n",
      "Flipping 4,7 to black\n",
      "Flipping 7,6 back to white\n",
      "Flipping 9,9 to black\n",
      "Flipping 7,7 to black\n",
      "Flipping 5,6 back to white\n",
      "Flipping 5,7 back to white\n",
      "Flipping 7,9 to black\n",
      "Flipping 6,5 to black\n",
      "10\n"
     ]
    }
   ],
   "source": [
    "import numpy as np\n",
    "\n",
    "def tileRoom1(instructions, debug=False):\n",
    "    center = 1,1\n",
    "    roomTiles = np.full((3,3), False, dtype=np.bool)\n",
    "    for inLn in instructions:\n",
    "        i,j = center\n",
    "        for step in inLn:\n",
    "            if step == \"e\":\n",
    "                j += 1\n",
    "            elif step == \"w\":\n",
    "                j -= 1\n",
    "            elif step == \"ne\":\n",
    "                i -= 1\n",
    "            elif step == \"sw\":\n",
    "                i += 1\n",
    "            elif step == \"nw\":\n",
    "                i -= 1\n",
    "                j -= 1\n",
    "            elif step == \"se\":\n",
    "                i += 1\n",
    "                j += 1\n",
    "            if i < 0:\n",
    "                nExt = roomTiles.shape[0]\n",
    "                roomTiles = np.vstack((np.full(roomTiles.shape, False, dtype=np.bool), roomTiles))\n",
    "                i += nExt\n",
    "                center = center[0]+nExt, center[1]\n",
    "            elif i == roomTiles.shape[0]:\n",
    "                roomTiles = np.vstack((roomTiles, np.full(roomTiles.shape, False, dtype=np.bool)))\n",
    "            if j < 0:\n",
    "                nExt = roomTiles.shape[1]\n",
    "                roomTiles = np.hstack((np.full(roomTiles.shape, False, dtype=np.bool), roomTiles))\n",
    "                j += nExt\n",
    "                center = center[0], center[1]+nExt\n",
    "            elif j == roomTiles.shape[1]:\n",
    "                roomTiles = np.hstack((roomTiles, np.full(roomTiles.shape, False, dtype=np.bool)))\n",
    "        if debug:\n",
    "            if roomTiles[i,j]:\n",
    "                print(f\"Flipping {i:d},{j:d} back to white\")\n",
    "            else:\n",
    "                print(f\"Flipping {i:d},{j:d} to black\")\n",
    "        roomTiles[i,j] = not roomTiles[i,j]\n",
    "    return roomTiles\n",
    "\n",
    "ex_tiled = tileRoom1(ex_instructions, debug=True)\n",
    "print(np.sum(ex_tiled))"
   ]
  },
  {
   "cell_type": "code",
   "execution_count": 3,
   "metadata": {
    "execution": {
     "iopub.execute_input": "2020-12-26T11:16:46.614520Z",
     "iopub.status.busy": "2020-12-26T11:16:46.613997Z",
     "iopub.status.idle": "2020-12-26T11:16:46.622373Z",
     "shell.execute_reply": "2020-12-26T11:16:46.622801Z"
    }
   },
   "outputs": [
    {
     "name": "stdout",
     "output_type": "stream",
     "text": [
      "332\n"
     ]
    }
   ],
   "source": [
    "with open(\"inputs/day24.txt\") as inF:\n",
    "    p_instructions = parseInstructions((ln.strip() for ln in inF if ln.strip()))\n",
    "\n",
    "p_tiled = tileRoom1(p_instructions)\n",
    "print(np.sum(p_tiled))"
   ]
  },
  {
   "cell_type": "markdown",
   "metadata": {},
   "source": [
    "## Part 2"
   ]
  },
  {
   "cell_type": "code",
   "execution_count": 4,
   "metadata": {
    "execution": {
     "iopub.execute_input": "2020-12-26T11:16:46.634438Z",
     "iopub.status.busy": "2020-12-26T11:16:46.630200Z",
     "iopub.status.idle": "2020-12-26T11:16:46.655063Z",
     "shell.execute_reply": "2020-12-26T11:16:46.654550Z"
    }
   },
   "outputs": [
    {
     "name": "stdout",
     "output_type": "stream",
     "text": [
      "Day 1: 15\n",
      "Day 2: 12\n",
      "Day 3: 25\n",
      "Day 4: 14\n",
      "Day 5: 23\n",
      "Day 6: 28\n",
      "Day 7: 41\n",
      "Day 8: 37\n",
      "Day 9: 49\n",
      "Day 10: 37\n",
      "Day 20: 132\n",
      "Day 30: 259\n",
      "Day 40: 406\n",
      "Day 50: 566\n",
      "Day 60: 788\n",
      "Day 70: 1106\n",
      "Day 80: 1373\n",
      "Day 90: 1844\n",
      "Day 100: 2208\n"
     ]
    }
   ],
   "source": [
    "def evolveTiles(tiles, nDays):\n",
    "    for i in range(nDays):\n",
    "        extShp = tuple(dm+2 for dm in tiles.shape)\n",
    "        nBN = np.zeros(extShp, dtype=np.int)\n",
    "        nBN[:-2,1:-1]   += tiles # E\n",
    "        nBN[2: ,1:-1]   += tiles # W\n",
    "        nBN[1:-1,:-2]   += tiles # SW\n",
    "        nBN[1:-1,2: ]   += tiles # NE\n",
    "        nBN[:-2,:-2]    += tiles # SE\n",
    "        nBN[2:,2:]      += tiles # NW\n",
    "        if np.any(nBN[0,:] == 2):\n",
    "            tiles = np.vstack((np.full((1, tiles.shape[1]), False, dtype=np.bool), tiles))\n",
    "        else:\n",
    "            nBN = nBN[1:,:]\n",
    "        if np.any(nBN[-1,:] == 2):\n",
    "            tiles = np.vstack((tiles, np.full((1, tiles.shape[1]), False, dtype=np.bool)))\n",
    "        else:\n",
    "            nBN = nBN[:-1,:]\n",
    "        if np.any(nBN[:,0] == 2):\n",
    "            tiles = np.hstack((np.full((tiles.shape[0], 1), False, dtype=np.bool), tiles))\n",
    "        else:\n",
    "            nBN = nBN[:,1:]\n",
    "        if np.any(nBN[:,-1] == 2):\n",
    "            tiles = np.hstack((tiles, np.full((tiles.shape[0], 1), False, dtype=np.bool)))\n",
    "        else:\n",
    "            nBN = nBN[:,:-1]\n",
    "        assert nBN.shape == tiles.shape\n",
    "        msk_toFlip = np.logical_or(\n",
    "            np.logical_and(tiles, # black and 0 or >2 black -> white\n",
    "                           np.logical_or(nBN == 0, nBN > 2)),\n",
    "            np.logical_and(np.logical_not(tiles), # white and 2 black neighbours -> black\n",
    "                           nBN == 2)\n",
    "        )\n",
    "        tiles[msk_toFlip] = np.logical_not(tiles[msk_toFlip])\n",
    "    return tiles\n",
    "\n",
    "ex_tiled2 = tileRoom1(ex_instructions, debug=False)\n",
    "for i in range(10):\n",
    "    ex_tiled2 = evolveTiles(ex_tiled2, 1)\n",
    "    print(f\"Day {i+1:d}: {np.sum(ex_tiled2):d}\")\n",
    "for i in range(20, 101, 10):\n",
    "    ex_tiled2 = evolveTiles(ex_tiled2, 10)\n",
    "    print(f\"Day {i:d}: {np.sum(ex_tiled2):d}\")"
   ]
  },
  {
   "cell_type": "code",
   "execution_count": 5,
   "metadata": {
    "execution": {
     "iopub.execute_input": "2020-12-26T11:16:46.660832Z",
     "iopub.status.busy": "2020-12-26T11:16:46.660344Z",
     "iopub.status.idle": "2020-12-26T11:16:46.687762Z",
     "shell.execute_reply": "2020-12-26T11:16:46.687331Z"
    }
   },
   "outputs": [
    {
     "name": "stdout",
     "output_type": "stream",
     "text": [
      "3900\n"
     ]
    }
   ],
   "source": [
    "p_tiled = tileRoom1(p_instructions)\n",
    "p_tiled = evolveTiles(p_tiled, 100)\n",
    "print(np.sum(p_tiled))"
   ]
  }
 ],
 "metadata": {
  "kernelspec": {
   "display_name": "Python 3",
   "language": "python",
   "name": "python3"
  },
  "language_info": {
   "codemirror_mode": {
    "name": "ipython",
    "version": 3
   },
   "file_extension": ".py",
   "mimetype": "text/x-python",
   "name": "python",
   "nbconvert_exporter": "python",
   "pygments_lexer": "ipython3",
   "version": "3.9.1"
  }
 },
 "nbformat": 4,
 "nbformat_minor": 4
}
