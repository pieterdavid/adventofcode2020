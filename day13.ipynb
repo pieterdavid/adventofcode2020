{
 "cells": [
  {
   "cell_type": "markdown",
   "metadata": {},
   "source": [
    "# Advent of code 2020: day 13\n",
    "\n",
    "Problem [here](https://adventofcode.com/2020/day/13)"
   ]
  },
  {
   "cell_type": "markdown",
   "metadata": {},
   "source": [
    "## Part 1"
   ]
  },
  {
   "cell_type": "code",
   "execution_count": 1,
   "metadata": {
    "execution": {
     "iopub.execute_input": "2020-12-13T13:57:09.342618Z",
     "iopub.status.busy": "2020-12-13T13:57:09.340517Z",
     "iopub.status.idle": "2020-12-13T13:57:09.349194Z",
     "shell.execute_reply": "2020-12-13T13:57:09.347382Z"
    }
   },
   "outputs": [
    {
     "name": "stdout",
     "output_type": "stream",
     "text": [
      "939 [7, 13, 59, 31, 19]\n"
     ]
    }
   ],
   "source": [
    "example_input = \"\"\"939\n",
    "7,13,x,x,59,x,31,19\"\"\"\n",
    "\n",
    "def parse_input1(l1, l2):\n",
    "    return int(l1), [ int(tk) for tk in l2.split(\",\") if tk != \"x\" ]\n",
    "\n",
    "example_dep, example_buses = parse_input1(*example_input.split(\"\\n\"))\n",
    "print(example_dep, example_buses)"
   ]
  },
  {
   "cell_type": "code",
   "execution_count": 2,
   "metadata": {
    "execution": {
     "iopub.execute_input": "2020-12-13T13:57:09.357889Z",
     "iopub.status.busy": "2020-12-13T13:57:09.356050Z",
     "iopub.status.idle": "2020-12-13T13:57:09.360790Z",
     "shell.execute_reply": "2020-12-13T13:57:09.361765Z"
    }
   },
   "outputs": [
    {
     "name": "stdout",
     "output_type": "stream",
     "text": [
      "[(7, 6), (13, 10), (59, 5), (31, 22), (19, 11)]\n"
     ]
    }
   ],
   "source": [
    "example_time_until_bus = [ (bus, bus - (example_dep % bus)) for bus in example_buses ]\n",
    "print(example_time_until_bus)"
   ]
  },
  {
   "cell_type": "code",
   "execution_count": 3,
   "metadata": {
    "execution": {
     "iopub.execute_input": "2020-12-13T13:57:09.368573Z",
     "iopub.status.busy": "2020-12-13T13:57:09.367613Z",
     "iopub.status.idle": "2020-12-13T13:57:09.370716Z",
     "shell.execute_reply": "2020-12-13T13:57:09.371487Z"
    }
   },
   "outputs": [
    {
     "name": "stdout",
     "output_type": "stream",
     "text": [
      "295\n"
     ]
    }
   ],
   "source": [
    "def earliest_bus(dep, buses):\n",
    "    return min(((bus, bus - (dep%bus)) for bus in buses), key=(lambda elm : elm[1]))\n",
    "\n",
    "ex_firstbus, ex_wait = earliest_bus(example_dep, example_buses)\n",
    "print(ex_firstbus*ex_wait)"
   ]
  },
  {
   "cell_type": "code",
   "execution_count": 4,
   "metadata": {
    "execution": {
     "iopub.execute_input": "2020-12-13T13:57:09.376006Z",
     "iopub.status.busy": "2020-12-13T13:57:09.375428Z",
     "iopub.status.idle": "2020-12-13T13:57:09.377970Z",
     "shell.execute_reply": "2020-12-13T13:57:09.377408Z"
    }
   },
   "outputs": [
    {
     "name": "stdout",
     "output_type": "stream",
     "text": [
      "2382\n"
     ]
    }
   ],
   "source": [
    "with open(\"inputs/day13.txt\") as inF:\n",
    "    puzzle_dep, puzzle_buses = parse_input1(*(ln.strip() for ln in inF if ln.strip()))\n",
    "p1_firstbus, p1_wait = earliest_bus(puzzle_dep, puzzle_buses)\n",
    "print(p1_firstbus*p1_wait)"
   ]
  },
  {
   "cell_type": "markdown",
   "metadata": {},
   "source": [
    "## Part 2"
   ]
  },
  {
   "cell_type": "code",
   "execution_count": 5,
   "metadata": {
    "execution": {
     "iopub.execute_input": "2020-12-13T13:57:09.381683Z",
     "iopub.status.busy": "2020-12-13T13:57:09.381138Z",
     "iopub.status.idle": "2020-12-13T13:57:09.383491Z",
     "shell.execute_reply": "2020-12-13T13:57:09.382910Z"
    }
   },
   "outputs": [
    {
     "name": "stdout",
     "output_type": "stream",
     "text": [
      "[(0, 7), (1, 13), (4, 59), (6, 31), (7, 19)]\n"
     ]
    }
   ],
   "source": [
    "example_buses2 = [ (i, int(tk)) for i,tk in enumerate(example_input.split(\"\\n\")[1].split(\",\")) if tk != \"x\" ]\n",
    "print(example_buses2)"
   ]
  },
  {
   "cell_type": "code",
   "execution_count": 6,
   "metadata": {
    "execution": {
     "iopub.execute_input": "2020-12-13T13:57:09.387032Z",
     "iopub.status.busy": "2020-12-13T13:57:09.386496Z",
     "iopub.status.idle": "2020-12-13T13:57:09.388540Z",
     "shell.execute_reply": "2020-12-13T13:57:09.388961Z"
    }
   },
   "outputs": [
    {
     "name": "stdout",
     "output_type": "stream",
     "text": [
      "Common for 7 and 13: t=77\n"
     ]
    }
   ],
   "source": [
    "import math\n",
    "i = 0\n",
    "while ((i*7) % 13) != 12:\n",
    "    i += 1\n",
    "print(f\"Common for 7 and 13: t={i*7:d}\")"
   ]
  },
  {
   "cell_type": "code",
   "execution_count": 7,
   "metadata": {
    "execution": {
     "iopub.execute_input": "2020-12-13T13:57:09.398158Z",
     "iopub.status.busy": "2020-12-13T13:57:09.397587Z",
     "iopub.status.idle": "2020-12-13T13:57:09.400593Z",
     "shell.execute_reply": "2020-12-13T13:57:09.401037Z"
    }
   },
   "outputs": [
    {
     "name": "stdout",
     "output_type": "stream",
     "text": [
      "Common up until bus 7#0: 0, new increment: 7\n",
      "Common up until bus 13#1: 77, new increment: 91\n",
      "Common up until bus 59#4: 350, new increment: 5369\n",
      "Common up until bus 31#6: 70147, new increment: 166439\n",
      "Common up until bus 19#7: 1068781, new increment: 3162341\n"
     ]
    },
    {
     "data": {
      "text/plain": [
       "1068781"
      ]
     },
     "execution_count": 1,
     "metadata": {},
     "output_type": "execute_result"
    }
   ],
   "source": [
    "def find_leave_in_sequence(buses):\n",
    "    inc = 1\n",
    "    t = 0\n",
    "    for bI,bus in buses:\n",
    "        targ = (bus-bI)%bus\n",
    "        while (t%bus) != targ:\n",
    "            t += inc\n",
    "        inc = math.lcm(inc, bus) # time until this happens next\n",
    "        pbI = bI\n",
    "        print(f\"Common up until bus {bus:d}#{bI:d}: {t:d}, new increment: {inc:d}\")\n",
    "    return t\n",
    "\n",
    "find_leave_in_sequence([ (0,7), (1,13), (4,59), (6,31), (7,19) ])"
   ]
  },
  {
   "cell_type": "code",
   "execution_count": 8,
   "metadata": {
    "execution": {
     "iopub.execute_input": "2020-12-13T13:57:09.405255Z",
     "iopub.status.busy": "2020-12-13T13:57:09.404703Z",
     "iopub.status.idle": "2020-12-13T13:57:09.406512Z",
     "shell.execute_reply": "2020-12-13T13:57:09.406959Z"
    }
   },
   "outputs": [
    {
     "name": "stdout",
     "output_type": "stream",
     "text": [
      "[(0, 17), (7, 41), (17, 983), (19, 29), (36, 19), (40, 23), (48, 397), (54, 37), (61, 13)]\n"
     ]
    }
   ],
   "source": [
    "with open(\"inputs/day13.txt\") as inF:\n",
    "    inLines = [ ln.strip() for ln in inF if ln.strip() ]\n",
    "    puzzle_buses2 = [ (i, int(tk)) for i,tk in enumerate(inLines[1].split(\",\")) if tk != \"x\" ]\n",
    "print(puzzle_buses2)"
   ]
  },
  {
   "cell_type": "code",
   "execution_count": 9,
   "metadata": {
    "execution": {
     "iopub.execute_input": "2020-12-13T13:57:09.410506Z",
     "iopub.status.busy": "2020-12-13T13:57:09.409972Z",
     "iopub.status.idle": "2020-12-13T13:57:09.413392Z",
     "shell.execute_reply": "2020-12-13T13:57:09.412838Z"
    }
   },
   "outputs": [
    {
     "name": "stdout",
     "output_type": "stream",
     "text": [
      "Common up until bus 17#0: 0, new increment: 17\n",
      "Common up until bus 41#7: 34, new increment: 697\n",
      "Common up until bus 983#17: 635001, new increment: 685151\n",
      "Common up until bus 29#19: 8856813, new increment: 19869379\n",
      "Common up until bus 19#36: 287028119, new increment: 377518201\n",
      "Common up until bus 23#40: 664546320, new increment: 8682918623\n",
      "Common up until bus 397#48: 3187295680961, new increment: 3447118693331\n",
      "Common up until bus 37#54: 13528651760954, new increment: 127543391653247\n",
      "Common up until bus 13#61: 906332393333683, new increment: 1658064091492211\n"
     ]
    },
    {
     "data": {
      "text/plain": [
       "906332393333683"
      ]
     },
     "execution_count": 1,
     "metadata": {},
     "output_type": "execute_result"
    }
   ],
   "source": [
    "find_leave_in_sequence(puzzle_buses2)"
   ]
  }
 ],
 "metadata": {
  "kernelspec": {
   "display_name": "Python 3",
   "language": "python",
   "name": "python3"
  },
  "language_info": {
   "codemirror_mode": {
    "name": "ipython",
    "version": 3
   },
   "file_extension": ".py",
   "mimetype": "text/x-python",
   "name": "python",
   "nbconvert_exporter": "python",
   "pygments_lexer": "ipython3",
   "version": "3.9.0"
  }
 },
 "nbformat": 4,
 "nbformat_minor": 4
}
