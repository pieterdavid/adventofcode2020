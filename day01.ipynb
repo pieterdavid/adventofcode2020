{
 "cells": [
  {
   "cell_type": "markdown",
   "metadata": {},
   "source": [
    "# Advent of code 2020: day 1\n",
    "\n",
    "Problem [here](https://adventofcode.com/2020/day/1)"
   ]
  },
  {
   "cell_type": "code",
   "execution_count": 1,
   "metadata": {
    "execution": {
     "iopub.execute_input": "2020-12-12T14:30:17.113530Z",
     "iopub.status.busy": "2020-12-12T14:30:17.112770Z",
     "iopub.status.idle": "2020-12-12T14:30:17.114444Z",
     "shell.execute_reply": "2020-12-12T14:30:17.114984Z"
    }
   },
   "outputs": [],
   "source": [
    "with open(\"inputs/day01.txt\") as inF:\n",
    "    numbers = [ int(ln.strip()) for ln in inF ]"
   ]
  },
  {
   "cell_type": "markdown",
   "metadata": {},
   "source": [
    "## Part 1"
   ]
  },
  {
   "cell_type": "code",
   "execution_count": 2,
   "metadata": {
    "execution": {
     "iopub.execute_input": "2020-12-12T14:30:17.120479Z",
     "iopub.status.busy": "2020-12-12T14:30:17.119834Z",
     "iopub.status.idle": "2020-12-12T14:30:17.122254Z",
     "shell.execute_reply": "2020-12-12T14:30:17.122804Z"
    }
   },
   "outputs": [
    {
     "name": "stdout",
     "output_type": "stream",
     "text": [
      "(32, 1988) 63616\n"
     ]
    }
   ],
   "source": [
    "from itertools import combinations\n",
    "a,b = next((ia, ib) for ia,ib in combinations(numbers, 2) if ia+ib == 2020)\n",
    "print((a,b), a*b)"
   ]
  },
  {
   "cell_type": "markdown",
   "metadata": {},
   "source": [
    "## Part 2"
   ]
  },
  {
   "cell_type": "code",
   "execution_count": 3,
   "metadata": {
    "execution": {
     "iopub.execute_input": "2020-12-12T14:30:17.188613Z",
     "iopub.status.busy": "2020-12-12T14:30:17.160991Z",
     "iopub.status.idle": "2020-12-12T14:30:17.190902Z",
     "shell.execute_reply": "2020-12-12T14:30:17.190520Z"
    }
   },
   "outputs": [
    {
     "name": "stdout",
     "output_type": "stream",
     "text": [
      "(72, 897, 1051) 67877784\n"
     ]
    }
   ],
   "source": [
    "a,b,c = next((ia, ib, ic) for ia,ib,ic in combinations(numbers, 3) if ia+ib+ic == 2020)\n",
    "print((a,b,c), a*b*c)"
   ]
  }
 ],
 "metadata": {
  "kernelspec": {
   "display_name": "Python 3",
   "language": "python",
   "name": "python3"
  },
  "language_info": {
   "codemirror_mode": {
    "name": "ipython",
    "version": 3
   },
   "file_extension": ".py",
   "mimetype": "text/x-python",
   "name": "python",
   "nbconvert_exporter": "python",
   "pygments_lexer": "ipython3",
   "version": "3.9.0"
  }
 },
 "nbformat": 4,
 "nbformat_minor": 4
}
