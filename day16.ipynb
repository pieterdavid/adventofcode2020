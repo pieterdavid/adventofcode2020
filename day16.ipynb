{
 "cells": [
  {
   "cell_type": "markdown",
   "metadata": {},
   "source": [
    "# Advent of code 2020: day 16\n",
    "\n",
    "Problem [here](https://adventofcode.com/2020/day/16)"
   ]
  },
  {
   "cell_type": "markdown",
   "metadata": {},
   "source": [
    "## Part 1"
   ]
  },
  {
   "cell_type": "code",
   "execution_count": 1,
   "metadata": {
    "execution": {
     "iopub.execute_input": "2020-12-16T17:56:40.517498Z",
     "iopub.status.busy": "2020-12-16T17:56:40.516366Z",
     "iopub.status.idle": "2020-12-16T17:56:40.520038Z",
     "shell.execute_reply": "2020-12-16T17:56:40.520868Z"
    }
   },
   "outputs": [
    {
     "name": "stdout",
     "output_type": "stream",
     "text": [
      "{'class': <__main__.Field object at 0x7ffb98a2eb50>, 'row': <__main__.Field object at 0x7ffb98a2e910>, 'seat': <__main__.Field object at 0x7ffb98a2ea90>}\n",
      "[7, 1, 14]\n",
      "[[7, 3, 47], [40, 4, 50], [55, 2, 20], [38, 6, 12]]\n",
      "Value 4 in nearby ticket [40, 4, 50] is invalid\n",
      "Value 55 in nearby ticket [55, 2, 20] is invalid\n",
      "Value 12 in nearby ticket [38, 6, 12] is invalid\n",
      "Example scanning error rate: 71\n"
     ]
    }
   ],
   "source": [
    "ex_input = \"\"\"class: 1-3 or 5-7\n",
    "row: 6-11 or 33-44\n",
    "seat: 13-40 or 45-50\n",
    "\n",
    "your ticket:\n",
    "7,1,14\n",
    "\n",
    "nearby tickets:\n",
    "7,3,47\n",
    "40,4,50\n",
    "55,2,20\n",
    "38,6,12\"\"\"\n",
    "\n",
    "class Field:\n",
    "    def __init__(self, validRanges):\n",
    "        self.validRanges = validRanges\n",
    "    def maybeValid(self, num):\n",
    "        return any(lw <= num and num <= up for lw, up in self.validRanges)\n",
    "    @staticmethod\n",
    "    def parse(spec):\n",
    "        return Field([ tuple(int(vl) for vl in tok.split(\"-\")) for tok in spec.split(\" or \") ])\n",
    "    def __str__(self):\n",
    "        return \" or \".join(\"-\".join(rng) for rng in self.validRanges)\n",
    "\n",
    "def parseNotes(lines):\n",
    "    iLines = iter(lines)\n",
    "    fields, mine, nearby = {}, None, []\n",
    "    while ln := next(iLines): ## read fields\n",
    "        fNm, opts = ln.split(\": \")\n",
    "        fields[fNm] = Field.parse(opts)\n",
    "    assert next(iLines) == \"your ticket:\"\n",
    "    mine = [ int(val) for val in next(iLines).split(\",\") ]\n",
    "    assert not next(iLines) ## skip empty\n",
    "    assert next(iLines) == \"nearby tickets:\"\n",
    "    try:\n",
    "        while ln := next(iLines): ## read nearby\n",
    "            nearby.append([ int(val) for val in ln.split(\",\") ])\n",
    "    except StopIteration:\n",
    "        pass\n",
    "    return fields, mine, nearby\n",
    "\n",
    "ex_fields, ex_mine, ex_nearby = parseNotes(ex_input.split(\"\\n\"))\n",
    "print(ex_fields)\n",
    "print(ex_mine)\n",
    "print(ex_nearby)\n",
    "ex_errRate = 0\n",
    "for nbTk in ex_nearby:\n",
    "    for val in nbTk:\n",
    "        if not any(field.maybeValid(val) for field in ex_fields.values()):\n",
    "            print(f\"Value {val:d} in nearby ticket {nbTk!r} is invalid\")\n",
    "            ex_errRate += val\n",
    "print(f\"Example scanning error rate: {ex_errRate:d}\")"
   ]
  },
  {
   "cell_type": "code",
   "execution_count": 2,
   "metadata": {
    "execution": {
     "iopub.execute_input": "2020-12-16T17:56:40.528072Z",
     "iopub.status.busy": "2020-12-16T17:56:40.526949Z",
     "iopub.status.idle": "2020-12-16T17:56:40.542735Z",
     "shell.execute_reply": "2020-12-16T17:56:40.541736Z"
    }
   },
   "outputs": [
    {
     "name": "stdout",
     "output_type": "stream",
     "text": [
      "Puzzle scanning error rate: 24110\n"
     ]
    }
   ],
   "source": [
    "with open(\"inputs/day16.txt\") as inF:\n",
    "    p1_fields, p1_mine, p1_nearby = parseNotes(( ln.strip() for ln in inF ))\n",
    "    \n",
    "p1_errRate = 0\n",
    "valid_nearby = []\n",
    "for nbTk in p1_nearby:\n",
    "    isValid = True\n",
    "    for val in nbTk:\n",
    "        if not any(field.maybeValid(val) for field in p1_fields.values()):\n",
    "            p1_errRate += val\n",
    "            isValid = False\n",
    "    if isValid:\n",
    "        valid_nearby.append(nbTk)\n",
    "print(f\"Puzzle scanning error rate: {p1_errRate:d}\")"
   ]
  },
  {
   "cell_type": "markdown",
   "metadata": {},
   "source": [
    "## Part 2"
   ]
  },
  {
   "cell_type": "code",
   "execution_count": 3,
   "metadata": {
    "execution": {
     "iopub.execute_input": "2020-12-16T17:56:40.607433Z",
     "iopub.status.busy": "2020-12-16T17:56:40.578541Z",
     "iopub.status.idle": "2020-12-16T17:56:40.612640Z",
     "shell.execute_reply": "2020-12-16T17:56:40.610190Z"
    }
   },
   "outputs": [
    {
     "name": "stdout",
     "output_type": "stream",
     "text": [
      "[5, 14, 3, 2, 18, 13, 11, 10, 19, 15, 20, 17, 12, 8, 7, 6, 4, 1, 9, 16]\n",
      "['arrival location', 'class', 'route', 'train', 'arrival platform', 'type', 'departure station', 'departure track', 'row', 'seat', 'arrival track', 'zone', 'departure date', 'departure platform', 'departure time', 'duration', 'price', 'wagon', 'departure location', 'arrival station']\n",
      "[131, 239, 109, 73, 157, 173]\n",
      "6766503490793\n"
     ]
    }
   ],
   "source": [
    "compat_fields_per_col = [\n",
    "    [ fNm for fNm,f in p1_fields.items() if all(f.maybeValid(nbTk[iCol]) for nbTk in valid_nearby ) ]\n",
    "    for iCol in range(len(p1_fields)) ]\n",
    "print([len(compat) for compat in compat_fields_per_col])\n",
    "colNames = [ None for f in p1_fields ]\n",
    "while any(cn is None for cn in colNames):\n",
    "    assigned = []\n",
    "    for iCol, compat in enumerate(compat_fields_per_col):\n",
    "        if len(compat) == 1:\n",
    "            name = compat[0]\n",
    "            colNames[iCol] = name\n",
    "            assigned.append(name)\n",
    "    if not assigned:\n",
    "        print(\"I'm stuck :-(\")\n",
    "        break\n",
    "    assert len(assigned) == len(set(assigned))\n",
    "    for compat in compat_fields_per_col:\n",
    "        for name in assigned:\n",
    "            if name in compat:\n",
    "                del compat[compat.index(name)]\n",
    "print(colNames)\n",
    "depVals = [ mnVal for mnVal,colNm in zip(p1_mine, colNames) if colNm.startswith(\"departure\") ]\n",
    "print(depVals)\n",
    "prod = 1\n",
    "for v in depVals:\n",
    "    prod *= v\n",
    "print(prod)"
   ]
  }
 ],
 "metadata": {
  "kernelspec": {
   "display_name": "Python 3",
   "language": "python",
   "name": "python3"
  },
  "language_info": {
   "codemirror_mode": {
    "name": "ipython",
    "version": 3
   },
   "file_extension": ".py",
   "mimetype": "text/x-python",
   "name": "python",
   "nbconvert_exporter": "python",
   "pygments_lexer": "ipython3",
   "version": "3.9.1"
  }
 },
 "nbformat": 4,
 "nbformat_minor": 4
}
