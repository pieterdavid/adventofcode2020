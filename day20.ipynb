{
 "cells": [
  {
   "cell_type": "markdown",
   "metadata": {},
   "source": [
    "# Advent of code 2020: day 20\n",
    "\n",
    "Problem [here](https://adventofcode.com/2020/day/20)"
   ]
  },
  {
   "cell_type": "markdown",
   "metadata": {},
   "source": [
    "## Part 1"
   ]
  },
  {
   "cell_type": "code",
   "execution_count": 1,
   "metadata": {
    "execution": {
     "iopub.execute_input": "2020-12-21T12:50:29.174470Z",
     "iopub.status.busy": "2020-12-21T12:50:29.173480Z",
     "iopub.status.idle": "2020-12-21T12:50:29.289306Z",
     "shell.execute_reply": "2020-12-21T12:50:29.289838Z"
    }
   },
   "outputs": [],
   "source": [
    "def boolsToInt(values):\n",
    "    return sum(1<<i for i,v in enumerate(reversed(values)) if v)\n",
    "\n",
    "class Tile:\n",
    "    \"\"\"\n",
    "    Tile, storing id and edges converted to integer (normal and reversed, so 8 possibilities)\n",
    "    \"\"\"\n",
    "    def __init__(self, uid, values):\n",
    "        self.uid = uid\n",
    "        self.edges = Tile.makeEdges(values)\n",
    "        self.values = values\n",
    "    @staticmethod\n",
    "    def makeEdges(values):\n",
    "        return tuple([\n",
    "            boolsToInt(values[0,:]),     ## N: top row, L->R\n",
    "            boolsToInt(values[:,-1]),    ## E: rightmost column, T->B\n",
    "            boolsToInt(values[-1,:]),    ## S: bottom row, L->R\n",
    "            boolsToInt(values[:,0]),     ## W: leftmost column, T->B\n",
    "            boolsToInt(values[0,::-1]),  ## -N\n",
    "            boolsToInt(values[::-1,-1]), ## -E\n",
    "            boolsToInt(values[-1,::-1]), ## -S\n",
    "            boolsToInt(values[::-1,0])   ## -W\n",
    "        ])\n",
    "\n",
    "import numpy as np\n",
    "def readTiles(iLines):\n",
    "    tiles = {}\n",
    "    try:\n",
    "        while True:\n",
    "            hdr = next(iLines)\n",
    "            assert hdr.startswith(\"Tile \") and hdr.endswith(\":\")\n",
    "            tileId = int(hdr[5:-1])\n",
    "            tileVals = []\n",
    "            while ln := next(iLines):\n",
    "                tileVals.append([ (ch == \"#\") for ch in ln ])\n",
    "            tiles[tileId] = Tile(tileId, np.array(tileVals))\n",
    "    except StopIteration:\n",
    "        tiles[tileId] = Tile(tileId, np.array(tileVals))\n",
    "    return tiles\n",
    "\n",
    "with open(\"inputs/day20_ex1.txt\") as exInF:\n",
    "    ex1_tiles = readTiles((ln.strip() for ln in exInF))"
   ]
  },
  {
   "cell_type": "code",
   "execution_count": 2,
   "metadata": {
    "execution": {
     "iopub.execute_input": "2020-12-21T12:50:29.297387Z",
     "iopub.status.busy": "2020-12-21T12:50:29.296664Z",
     "iopub.status.idle": "2020-12-21T12:50:29.299238Z",
     "shell.execute_reply": "2020-12-21T12:50:29.299786Z"
    }
   },
   "outputs": [
    {
     "name": "stdout",
     "output_type": "stream",
     "text": [
      "Number of edges present in 1 tiles: 24\n",
      "Number of edges present in 2 tiles: 24\n"
     ]
    }
   ],
   "source": [
    "from collections import defaultdict\n",
    "\n",
    "def getTilesStats(tiles):\n",
    "    tilesPerEdge = defaultdict(list)\n",
    "    for tl in tiles:\n",
    "        for ed in tl.edges:\n",
    "            tilesPerEdge[ed].append(tl.uid)\n",
    "    h_edgesPerTile = defaultdict(int)\n",
    "    for ed,edTiles in tilesPerEdge.items():\n",
    "        h_edgesPerTile[len(edTiles)] += 1\n",
    "    return tilesPerEdge, h_edgesPerTile\n",
    "\n",
    "ex1_tPerEdge, ex1_hEdgesPerTile = getTilesStats(ex1_tiles.values())\n",
    "for nTiles in sorted(ex1_hEdgesPerTile.keys()):\n",
    "    print(f\"Number of edges present in {nTiles:d} tiles: {ex1_hEdgesPerTile[nTiles]:d}\")"
   ]
  },
  {
   "cell_type": "code",
   "execution_count": 3,
   "metadata": {
    "execution": {
     "iopub.execute_input": "2020-12-21T12:50:29.308334Z",
     "iopub.status.busy": "2020-12-21T12:50:29.307668Z",
     "iopub.status.idle": "2020-12-21T12:50:29.310550Z",
     "shell.execute_reply": "2020-12-21T12:50:29.312117Z"
    }
   },
   "outputs": [
    {
     "name": "stdout",
     "output_type": "stream",
     "text": [
      "Corner tile(s): 1951, 1171, 2971, 3079\n",
      "Product of corner tile IDs: 20899048083289\n"
     ]
    }
   ],
   "source": [
    "tileOrientations = [\n",
    "    (0, 1, 2, 3), #  N E S W = leave\n",
    "    (1, 6, 3, 4), #  E-S W-N = np.rot90\n",
    "    (6, 7, 4, 5), # -S-W-N-E = np.rot90(, k=2)\n",
    "    (7, 0, 5, 2), # -W N-E S = np.rot90(, k=-1)\n",
    "    (4, 3, 6, 1), # -N W-S E = fliplr\n",
    "    (5, 4, 7, 6), # -E-N-W-S = np.rot90(fliplr, k=-1)\n",
    "    (2, 5, 0, 7), #  S-E N-W = flipud\n",
    "    (3, 2, 1, 0)] #  W S E N = transpose\n",
    "edgeOfOther = (2, 3, 0, 1) # N<->S, E<->W\n",
    "\n",
    "def getCorners(tiles, perEdge):\n",
    "    corners = []\n",
    "    for tl in tiles:\n",
    "        unMatched = []\n",
    "        for i,ed in enumerate(tl.edges):\n",
    "            tlForEd = perEdge[ed]\n",
    "            if len(tlForEd) == 1:\n",
    "                unMatched.append(i)\n",
    "        if min(sum(1 for ie in ori if ie in unMatched) for ori in tileOrientations) == 2:\n",
    "            corners.append(tl)\n",
    "    return corners\n",
    "\n",
    "ex1_corners = getCorners(ex1_tiles.values(), ex1_tPerEdge)\n",
    "print(f\"Corner tile(s): {', '.join(str(tl.uid) for tl in ex1_corners)}\")\n",
    "\n",
    "if len(ex1_corners) == 4:\n",
    "    p = 1\n",
    "    for tl in ex1_corners:\n",
    "        p *= tl.uid\n",
    "    print(f\"Product of corner tile IDs: {p:d}\")"
   ]
  },
  {
   "cell_type": "code",
   "execution_count": 4,
   "metadata": {
    "execution": {
     "iopub.execute_input": "2020-12-21T12:50:29.334621Z",
     "iopub.status.busy": "2020-12-21T12:50:29.333976Z",
     "iopub.status.idle": "2020-12-21T12:50:29.336448Z",
     "shell.execute_reply": "2020-12-21T12:50:29.338289Z"
    }
   },
   "outputs": [
    {
     "name": "stdout",
     "output_type": "stream",
     "text": [
      "144\n",
      "Corner tile(s): 2221, 3011, 2251, 1847\n",
      "Product of corner tile IDs: 27803643063307\n"
     ]
    }
   ],
   "source": [
    "with open(\"inputs/day20.txt\") as inF:\n",
    "    p_tiles = readTiles((ln.strip() for ln in inF))\n",
    "print(len(p_tiles))\n",
    "p_tPerEdge, p_hEdgesPerTile = getTilesStats(p_tiles.values())\n",
    "p_corners = getCorners(p_tiles.values(), p_tPerEdge)\n",
    "print(f\"Corner tile(s): {', '.join(str(tl.uid) for tl in p_corners)}\")\n",
    "if len(p_corners) == 4:\n",
    "    p = 1\n",
    "    for tl in p_corners:\n",
    "        p *= tl.uid\n",
    "    print(f\"Product of corner tile IDs: {p:d}\")"
   ]
  },
  {
   "cell_type": "markdown",
   "metadata": {},
   "source": [
    "## Part 2"
   ]
  },
  {
   "cell_type": "code",
   "execution_count": 5,
   "metadata": {
    "execution": {
     "iopub.execute_input": "2020-12-21T12:50:29.353067Z",
     "iopub.status.busy": "2020-12-21T12:50:29.350152Z",
     "iopub.status.idle": "2020-12-21T12:50:29.375984Z",
     "shell.execute_reply": "2020-12-21T12:50:29.375229Z"
    }
   },
   "outputs": [
    {
     "name": "stdout",
     "output_type": "stream",
     "text": [
      "Starting with 1951 at (0,0) in orientation 3\n",
      "Checking for (0,1), needs [None, None, None, 710]\n",
      "Putting tile 2729 at (0,1) with orientation 3 (962, 85, 9, 710)\n",
      "Checking for (1,0), needs [318, None, None, None]\n",
      "Putting tile 2311 at (1,0) with orientation 3 (318, 210, 616, 231)\n",
      "Checking for (1,1), needs [9, None, None, 210]\n",
      "Putting tile 1427 at (1,1) with orientation 3 (9, 948, 348, 210)\n",
      "Checking for (0,2), needs [None, None, None, 85]\n",
      "Putting tile 2971 at (0,2) with orientation 3 (78, 161, 689, 85)\n",
      "Checking for (1,2), needs [689, None, None, 948]\n",
      "Putting tile 1489 at (1,2) with orientation 3 (689, 848, 288, 948)\n",
      "Checking for (2,0), needs [616, None, None, None]\n",
      "Putting tile 3079 at (2,0) with orientation 7 (616, 184, 264, 702)\n",
      "Checking for (2,1), needs [348, None, None, 184]\n",
      "Putting tile 2473 at (2,1) with orientation 2 (348, 399, 481, 184)\n",
      "Checking for (2,2), needs [288, None, None, 399]\n",
      "Putting tile 1171 at (2,2) with orientation 1 (288, 96, 902, 399)\n",
      "[[1951 2729 2971]\n",
      " [2311 1427 1489]\n",
      " [3079 2473 1171]]\n"
     ]
    }
   ],
   "source": [
    "def getNeighboursFilled(solution):\n",
    "    nFilled = np.zeros(tuple(list(solution.shape)[:2]), dtype=np.int)\n",
    "    ones = np.ones(nFilled.shape, dtype=np.int)\n",
    "    zeros = np.zeros(nFilled.shape, dtype=np.int)\n",
    "    nFilled[1: , : ] += np.where(solution[:-1, : ,0] != 0, ones[1:,:], zeros[1:,:])\n",
    "    nFilled[:-1, : ] += np.where(solution[1: , : ,0] != 0, ones[1:,:], zeros[1:,:])\n",
    "    nFilled[ : ,1: ] += np.where(solution[ : ,:-1,0] != 0, ones[:,1:], zeros[:,1:])\n",
    "    nFilled[ : ,:-1] += np.where(solution[ : ,1: ,0] != 0, ones[:,1:], zeros[:,1:])\n",
    "    return nFilled\n",
    "\n",
    "def positionRequires(solution, pos, allTiles):\n",
    "    i,j = pos\n",
    "    requires = [None]*4\n",
    "    if i != 0 and solution[i-1,j,0]: # above\n",
    "        oId, oOri = solution[i-1,j]\n",
    "        requires[0] = allTiles[oId].edges[tileOrientations[oOri][edgeOfOther[0]]]\n",
    "    if j+1 != solution.shape[1] and solution[i,j+1,0]: # right\n",
    "        oId, oOri = solution[i,j+1]\n",
    "        requires[1] = allTiles[oId].edges[tileOrientations[oOri][edgeOfOther[1]]]\n",
    "    if i+1 != solution.shape[0] and solution[i+1,j,0]: # above\n",
    "        oId, oOri = solution[i+1,j]\n",
    "        requires[2] = allTiles[oId].edges[tileOrientations[oOri][edgeOfOther[2]]]\n",
    "    if j != 0 and solution[i,j-1,0]: # left\n",
    "        oId, oOri = solution[i,j-1]\n",
    "        requires[3] = allTiles[oId].edges[tileOrientations[oOri][edgeOfOther[3]]]\n",
    "    return requires\n",
    "\n",
    "from itertools import product\n",
    "\n",
    "def makePuzzle(n, tiles, perEdge):\n",
    "    corners = getCorners(tiles.values(), perEdge)\n",
    "    startTile = corners[0]\n",
    "    startTile_ors = [ i for i,ori in enumerate(tileOrientations)\n",
    "                     if len(perEdge[startTile.edges[ori[0]]]) == 1\n",
    "                     and len(perEdge[startTile.edges[ori[3]]]) == 1 ]\n",
    "    print(f\"Starting with {startTile.uid} at (0,0) in orientation {startTile_ors[0]:d}\")\n",
    "    solution = np.stack((np.zeros((n,n), dtype=np.int), -1*np.ones((n,n), dtype=np.int)), axis=2)\n",
    "    solution[0,0] = [ startTile.uid, startTile_ors[0]]\n",
    "    sol_history = [((0, 0), startTile_ors[1:])]\n",
    "    usedTiles = set()\n",
    "    usedTiles.add(startTile.uid)\n",
    "    trialIsValid = True\n",
    "    while np.any(solution[:,:,0] == 0):\n",
    "        if not trialIsValid:\n",
    "            while sol_history and not sol_history[-1][1]:\n",
    "                (i,j), _ = sol_history[-1]\n",
    "                del sol_history[-1]\n",
    "                tlId = solution[i,j,0]\n",
    "                solution[i,j] = [0, -1]\n",
    "                usedTiles.discard(tlId)\n",
    "            if not sol_history:\n",
    "                raise RuntimeError(\"Stuck and cannot roll back\")\n",
    "            (i,j), otherOptions = sol_history[-1]\n",
    "            solution[i,j,1] = otherOptions[0]\n",
    "            sol_history[-1] = ((i,j), otherOptions[1:])\n",
    "            print(f\"Rolled back until position ({i:d}, {j:d}), now taking orientation {otherOptions[0]:d}\")\n",
    "            trialIsValid = True\n",
    "        else:\n",
    "            nReq = 4\n",
    "            while nReq and trialIsValid:\n",
    "                neighFilled = getNeighboursFilled(solution)\n",
    "                if np.any(np.logical_and(neighFilled == nReq, solution[:,:,0] == 0)):\n",
    "                    nFilled = 0\n",
    "                    with np.nditer(neighFilled, flags=['multi_index']) as it:\n",
    "                        for nN in it:\n",
    "                            i,j = it.multi_index\n",
    "                            if nN == nReq and solution[i,j,0] == 0:\n",
    "                                req = positionRequires(solution, (i,j), tiles)\n",
    "                                print(f\"Checking for ({i:d},{j:d}), needs {req!r}\")\n",
    "                                options = []\n",
    "                                for tl, (k,ori) in product(tiles.values(), enumerate(tileOrientations)):\n",
    "                                    if tl.uid not in usedTiles:\n",
    "                                        if all(tl.edges[i] == rq for i,rq in zip(ori,req) if rq is not None):\n",
    "                                            options.append((tl.uid, k))\n",
    "                                if not options:\n",
    "                                    trialIsValid = False\n",
    "                                    print(solution[:,:,0])\n",
    "                                    print(\"No options, we're stuck\")\n",
    "                                    for tl, (k,ori) in product(tiles.values(), enumerate(tileOrientations)):\n",
    "                                        if tl.uid not in usedTiles:\n",
    "                                            print(f\"{tl.uid:d} ori {k:d}: ({', '.join(str(tl.edges[i]) for i in ori)})\")\n",
    "                                    break ## a problem\n",
    "                                else:\n",
    "                                    nFilled += 1\n",
    "                                    tlid, kO = options[0]\n",
    "                                    print(f\"Putting tile {tlid:d} at ({i:d},{j:d}) with orientation {kO:d} ({', '.join(str(tiles[tlid].edges[i]) for i in tileOrientations[kO])})\")\n",
    "                                    solution[i,j] = [ tlid, kO ]\n",
    "                                    sol_history.append(((i,j), options[1:]))\n",
    "                                    usedTiles.add(tlid)\n",
    "                    if nFilled:\n",
    "                        break # try again with more\n",
    "                else:\n",
    "                    nReq -= 1\n",
    "    if trialIsValid:\n",
    "        print(solution[:,:,0])\n",
    "        return solution\n",
    "\n",
    "ex_solution = makePuzzle(3, ex1_tiles, ex1_tPerEdge)"
   ]
  },
  {
   "cell_type": "code",
   "execution_count": 6,
   "metadata": {
    "execution": {
     "iopub.execute_input": "2020-12-21T12:50:29.387254Z",
     "iopub.status.busy": "2020-12-21T12:50:29.386032Z",
     "iopub.status.idle": "2020-12-21T12:50:29.554753Z",
     "shell.execute_reply": "2020-12-21T12:50:29.554079Z"
    }
   },
   "outputs": [
    {
     "name": "stdout",
     "output_type": "stream",
     "text": [
      "Starting with 2221 at (0,0) in orientation 2\n",
      "Checking for (0,1), needs [None, None, None, 22]\n",
      "Putting tile 2381 at (0,1) with orientation 7 (257, 766, 370, 22)\n",
      "Checking for (1,0), needs [930, None, None, None]\n",
      "Putting tile 2309 at (1,0) with orientation 3 (930, 326, 842, 567)\n",
      "Checking for (1,1), needs [370, None, None, 326]\n",
      "Putting tile 1997 at (1,1) with orientation 7 (370, 38, 8, 326)\n",
      "Checking for (0,2), needs [None, None, None, 766]\n",
      "Putting tile 3449 at (0,2) with orientation 4 (856, 224, 372, 766)\n",
      "Checking for (1,2), needs [372, None, None, 38]\n",
      "Putting tile 1237 at (1,2) with orientation 5 (372, 271, 153, 38)\n",
      "Checking for (2,0), needs [842, None, None, None]\n",
      "Putting tile 3191 at (2,0) with orientation 4 (842, 71, 249, 746)\n",
      "Checking for (2,1), needs [8, None, None, 71]\n",
      "Putting tile 3947 at (2,1) with orientation 4 (8, 352, 770, 71)\n",
      "Checking for (2,2), needs [153, None, None, 352]\n",
      "Putting tile 1307 at (2,2) with orientation 5 (153, 1016, 218, 352)\n",
      "Checking for (0,3), needs [None, None, None, 224]\n",
      "Putting tile 3407 at (0,3) with orientation 5 (355, 677, 339, 224)\n",
      "Checking for (1,3), needs [339, None, None, 271]\n",
      "Putting tile 2677 at (1,3) with orientation 0 (339, 846, 844, 271)\n",
      "Checking for (2,3), needs [844, None, None, 1016]\n",
      "Putting tile 1597 at (2,3) with orientation 7 (844, 150, 348, 1016)\n",
      "Checking for (3,0), needs [249, None, None, None]\n",
      "Putting tile 1669 at (3,0) with orientation 5 (249, 586, 542, 23)\n",
      "Checking for (3,1), needs [770, None, None, 586]\n",
      "Putting tile 2753 at (3,1) with orientation 2 (770, 85, 25, 586)\n",
      "Checking for (3,2), needs [218, None, None, 85]\n",
      "Putting tile 1721 at (3,2) with orientation 4 (218, 461, 603, 85)\n",
      "Checking for (3,3), needs [348, None, None, 461]\n",
      "Putting tile 1019 at (3,3) with orientation 6 (348, 121, 793, 461)\n",
      "Checking for (0,4), needs [None, None, None, 677]\n",
      "Putting tile 3643 at (0,4) with orientation 0 (688, 360, 570, 677)\n",
      "Checking for (1,4), needs [570, None, None, 846]\n",
      "Putting tile 3917 at (1,4) with orientation 5 (570, 54, 146, 846)\n",
      "Checking for (2,4), needs [146, None, None, 150]\n",
      "Putting tile 3001 at (2,4) with orientation 4 (146, 417, 475, 150)\n",
      "Checking for (3,4), needs [475, None, None, 121]\n",
      "Putting tile 1129 at (3,4) with orientation 0 (475, 808, 530, 121)\n",
      "Checking for (4,0), needs [542, None, None, None]\n",
      "Putting tile 2399 at (4,0) with orientation 5 (542, 175, 877, 915)\n",
      "Checking for (4,1), needs [25, None, None, 175]\n",
      "Putting tile 1187 at (4,1) with orientation 2 (25, 628, 882, 175)\n",
      "Checking for (4,2), needs [603, None, None, 628]\n",
      "Putting tile 1613 at (4,2) with orientation 6 (603, 935, 415, 628)\n",
      "Checking for (4,3), needs [793, None, None, 935]\n",
      "Putting tile 2281 at (4,3) with orientation 3 (793, 833, 729, 935)\n",
      "Checking for (4,4), needs [530, None, None, 833]\n",
      "Putting tile 2851 at (4,4) with orientation 2 (530, 143, 805, 833)\n",
      "Checking for (0,5), needs [None, None, None, 360]\n",
      "Putting tile 1097 at (0,5) with orientation 2 (112, 184, 214, 360)\n",
      "Checking for (1,5), needs [214, None, None, 54]\n",
      "Putting tile 2803 at (1,5) with orientation 0 (214, 473, 341, 54)\n",
      "Checking for (2,5), needs [341, None, None, 417]\n",
      "Putting tile 1201 at (2,5) with orientation 7 (341, 880, 1004, 417)\n",
      "Checking for (3,5), needs [1004, None, None, 808]\n",
      "Putting tile 2657 at (3,5) with orientation 0 (1004, 320, 260, 808)\n",
      "Checking for (4,5), needs [260, None, None, 143]\n",
      "Putting tile 2539 at (4,5) with orientation 6 (260, 286, 734, 143)\n",
      "Checking for (5,0), needs [877, None, None, None]\n",
      "Putting tile 3461 at (5,0) with orientation 2 (877, 773, 293, 850)\n",
      "Checking for (5,1), needs [882, None, None, 773]\n",
      "Putting tile 3361 at (5,1) with orientation 3 (882, 291, 745, 773)\n",
      "Checking for (5,2), needs [415, None, None, 291]\n",
      "Putting tile 2237 at (5,2) with orientation 7 (415, 788, 912, 291)\n",
      "Checking for (5,3), needs [729, None, None, 788]\n",
      "Putting tile 2131 at (5,3) with orientation 6 (729, 735, 181, 788)\n",
      "Checking for (5,4), needs [805, None, None, 735]\n",
      "Putting tile 3709 at (5,4) with orientation 7 (805, 1000, 568, 735)\n",
      "Checking for (5,5), needs [734, None, None, 1000]\n",
      "Putting tile 3793 at (5,5) with orientation 0 (734, 109, 383, 1000)\n",
      "Checking for (0,6), needs [None, None, None, 184]\n",
      "Putting tile 2203 at (0,6) with orientation 7 (396, 119, 377, 184)\n",
      "Checking for (1,6), needs [377, None, None, 473]\n",
      "Putting tile 3529 at (1,6) with orientation 6 (377, 1003, 963, 473)\n",
      "Checking for (2,6), needs [963, None, None, 880]\n",
      "Putting tile 1637 at (2,6) with orientation 2 (963, 741, 453, 880)\n",
      "Checking for (3,6), needs [453, None, None, 320]\n",
      "Putting tile 1381 at (3,6) with orientation 4 (453, 601, 309, 320)\n",
      "Checking for (4,6), needs [309, None, None, 286]\n",
      "Putting tile 3881 at (4,6) with orientation 7 (309, 699, 221, 286)\n",
      "Checking for (5,6), needs [221, None, None, 109]\n",
      "Putting tile 3229 at (5,6) with orientation 5 (221, 881, 979, 109)\n",
      "Checking for (6,0), needs [293, None, None, None]\n",
      "Putting tile 2137 at (6,0) with orientation 6 (293, 813, 973, 145)\n",
      "Checking for (6,1), needs [745, None, None, 813]\n",
      "Putting tile 2939 at (6,1) with orientation 4 (745, 1006, 908, 813)\n",
      "Checking for (6,2), needs [912, None, None, 1006]\n",
      "Putting tile 2377 at (6,2) with orientation 6 (912, 298, 36, 1006)\n",
      "Checking for (6,3), needs [181, None, None, 298]\n",
      "Putting tile 2069 at (6,3) with orientation 6 (181, 995, 431, 298)\n",
      "Checking for (6,4), needs [568, None, None, 995]\n",
      "Putting tile 3373 at (6,4) with orientation 7 (568, 169, 937, 995)\n",
      "Checking for (6,5), needs [383, None, None, 169]\n",
      "Putting tile 1801 at (6,5) with orientation 2 (383, 1011, 981, 169)\n",
      "Checking for (6,6), needs [979, None, None, 1011]\n",
      "Putting tile 1051 at (6,6) with orientation 6 (979, 894, 694, 1011)\n",
      "Checking for (0,7), needs [None, None, None, 119]\n",
      "Putting tile 1321 at (0,7) with orientation 0 (94, 347, 663, 119)\n",
      "Checking for (1,7), needs [663, None, None, 1003]\n",
      "Putting tile 2693 at (1,7) with orientation 2 (663, 616, 988, 1003)\n",
      "Checking for (2,7), needs [988, None, None, 741]\n",
      "Putting tile 2161 at (2,7) with orientation 0 (988, 192, 670, 741)\n",
      "Checking for (3,7), needs [670, None, None, 601]\n",
      "Putting tile 1181 at (3,7) with orientation 3 (670, 463, 865, 601)\n",
      "Checking for (4,7), needs [865, None, None, 699]\n",
      "Putting tile 1061 at (4,7) with orientation 3 (865, 541, 895, 699)\n",
      "Checking for (5,7), needs [895, None, None, 881]\n",
      "Putting tile 2837 at (5,7) with orientation 3 (895, 775, 647, 881)\n",
      "Checking for (6,7), needs [647, None, None, 894]\n",
      "Putting tile 3697 at (6,7) with orientation 5 (647, 624, 382, 894)\n",
      "Checking for (7,0), needs [973, None, None, None]\n",
      "Putting tile 2113 at (7,0) with orientation 2 (973, 954, 918, 803)\n",
      "Checking for (7,1), needs [908, None, None, 954]\n",
      "Putting tile 3739 at (7,1) with orientation 7 (908, 261, 489, 954)\n",
      "Checking for (7,2), needs [36, None, None, 261]\n",
      "Putting tile 2087 at (7,2) with orientation 4 (36, 205, 711, 261)\n",
      "Checking for (7,3), needs [431, None, None, 205]\n",
      "Putting tile 3251 at (7,3) with orientation 4 (431, 913, 555, 205)\n",
      "Checking for (7,4), needs [937, None, None, 913]\n",
      "Putting tile 2957 at (7,4) with orientation 3 (937, 1007, 985, 913)\n",
      "Checking for (7,5), needs [981, None, None, 1007]\n",
      "Putting tile 3631 at (7,5) with orientation 7 (981, 802, 968, 1007)\n",
      "Checking for (7,6), needs [694, None, None, 802]\n",
      "Putting tile 3163 at (7,6) with orientation 7 (694, 159, 397, 802)\n",
      "Checking for (7,7), needs [382, None, None, 159]\n",
      "Putting tile 2273 at (7,7) with orientation 0 (382, 335, 701, 159)\n",
      "Checking for (0,8), needs [None, None, None, 347]\n",
      "Putting tile 1447 at (0,8) with orientation 2 (92, 319, 733, 347)\n",
      "Checking for (1,8), needs [733, None, None, 616]\n",
      "Putting tile 3299 at (1,8) with orientation 6 (733, 832, 6, 616)\n",
      "Checking for (2,8), needs [6, None, None, 192]\n",
      "Putting tile 1987 at (2,8) with orientation 7 (6, 243, 187, 192)\n",
      "Checking for (3,8), needs [187, None, None, 463]\n",
      "Putting tile 3833 at (3,8) with orientation 0 (187, 889, 859, 463)\n",
      "Checking for (4,8), needs [859, None, None, 541]\n",
      "Putting tile 3049 at (4,8) with orientation 0 (859, 691, 869, 541)\n",
      "Checking for (5,8), needs [869, None, None, 775]\n",
      "Putting tile 1223 at (5,8) with orientation 2 (869, 587, 747, 775)\n",
      "Checking for (6,8), needs [747, None, None, 624]\n",
      "Putting tile 2819 at (6,8) with orientation 3 (747, 517, 497, 624)\n",
      "Checking for (7,8), needs [497, None, None, 335]\n",
      "Putting tile 2861 at (7,8) with orientation 4 (497, 720, 672, 335)\n",
      "Checking for (8,0), needs [918, None, None, None]\n",
      "Putting tile 1567 at (8,0) with orientation 7 (918, 229, 165, 558)\n",
      "Checking for (8,1), needs [489, None, None, 229]\n",
      "Putting tile 2239 at (8,1) with orientation 7 (489, 533, 515, 229)\n",
      "Checking for (8,2), needs [711, None, None, 533]\n",
      "Putting tile 1171 at (8,2) with orientation 6 (711, 538, 600, 533)\n",
      "Checking for (8,3), needs [555, None, None, 538]\n",
      "Putting tile 1433 at (8,3) with orientation 5 (555, 684, 160, 538)\n",
      "Checking for (8,4), needs [985, None, None, 684]\n",
      "Putting tile 2027 at (8,4) with orientation 0 (985, 678, 448, 684)\n",
      "Checking for (8,5), needs [968, None, None, 678]\n",
      "Putting tile 2083 at (8,5) with orientation 2 (968, 88, 138, 678)\n",
      "Checking for (8,6), needs [397, None, None, 88]\n",
      "Putting tile 1091 at (8,6) with orientation 0 (397, 1014, 140, 88)\n",
      "Checking for (8,7), needs [701, None, None, 1014]\n",
      "Putting tile 2389 at (8,7) with orientation 0 (701, 553, 207, 1014)"
     ]
    },
    {
     "name": "stdout",
     "output_type": "stream",
     "text": [
      "\n",
      "Checking for (8,8), needs [672, None, None, 553]\n",
      "Putting tile 3499 at (8,8) with orientation 7 (672, 135, 679, 553)\n",
      "Checking for (0,9), needs [None, None, None, 319]\n",
      "Putting tile 1087 at (0,9) with orientation 3 (476, 367, 921, 319)\n",
      "Checking for (1,9), needs [921, None, None, 832]\n",
      "Putting tile 3061 at (1,9) with orientation 6 (921, 580, 274, 832)\n",
      "Checking for (2,9), needs [274, None, None, 243]\n",
      "Putting tile 2833 at (2,9) with orientation 3 (274, 300, 572, 243)\n",
      "Checking for (3,9), needs [572, None, None, 889]\n",
      "Putting tile 3637 at (3,9) with orientation 4 (572, 195, 965, 889)\n",
      "Checking for (4,9), needs [965, None, None, 691]\n",
      "Putting tile 3467 at (4,9) with orientation 7 (965, 560, 1020, 691)\n",
      "Checking for (5,9), needs [1020, None, None, 587]\n",
      "Putting tile 3607 at (5,9) with orientation 2 (1020, 487, 851, 587)\n",
      "Checking for (6,9), needs [851, None, None, 517]\n",
      "Putting tile 2293 at (6,9) with orientation 7 (851, 537, 1013, 517)\n",
      "Checking for (7,9), needs [1013, None, None, 720]\n",
      "Putting tile 2333 at (7,9) with orientation 6 (1013, 627, 147, 720)\n",
      "Checking for (8,9), needs [147, None, None, 135]\n",
      "Putting tile 3343 at (8,9) with orientation 0 (147, 835, 531, 135)\n",
      "Checking for (9,0), needs [165, None, None, None]\n",
      "Putting tile 1163 at (9,0) with orientation 4 (165, 591, 253, 268)\n",
      "Checking for (9,1), needs [515, None, None, 591]\n",
      "Putting tile 1823 at (9,1) with orientation 2 (515, 545, 543, 591)\n",
      "Checking for (9,2), needs [600, None, None, 545]\n",
      "Putting tile 3593 at (9,2) with orientation 0 (600, 82, 758, 545)\n",
      "Checking for (9,3), needs [160, None, None, 82]\n",
      "Putting tile 2467 at (9,3) with orientation 5 (160, 422, 18, 82)\n",
      "Checking for (9,4), needs [448, None, None, 422]\n",
      "Putting tile 2617 at (9,4) with orientation 4 (448, 35, 219, 422)\n",
      "Checking for (9,5), needs [138, None, None, 35]\n",
      "Putting tile 1373 at (9,5) with orientation 5 (138, 511, 953, 35)\n",
      "Checking for (9,6), needs [140, None, None, 511]\n",
      "Putting tile 2843 at (9,6) with orientation 7 (140, 235, 809, 511)\n",
      "Checking for (9,7), needs [207, None, None, 235]\n",
      "Putting tile 3533 at (9,7) with orientation 3 (207, 651, 961, 235)\n",
      "Checking for (9,8), needs [679, None, None, 651]\n",
      "Putting tile 2411 at (9,8) with orientation 4 (679, 947, 683, 651)\n",
      "Checking for (9,9), needs [531, None, None, 947]\n",
      "Putting tile 3371 at (9,9) with orientation 7 (531, 740, 546, 947)\n",
      "Checking for (0,10), needs [None, None, None, 367]\n",
      "Putting tile 2711 at (0,10) with orientation 0 (114, 209, 763, 367)\n",
      "Checking for (1,10), needs [763, None, None, 580]\n",
      "Putting tile 1873 at (1,10) with orientation 4 (763, 519, 133, 580)\n",
      "Checking for (2,10), needs [133, None, None, 300]\n",
      "Putting tile 2659 at (2,10) with orientation 0 (133, 707, 93, 300)\n",
      "Checking for (3,10), needs [93, None, None, 195]\n",
      "Putting tile 2687 at (3,10) with orientation 7 (93, 959, 999, 195)\n",
      "Checking for (4,10), needs [999, None, None, 560]\n",
      "Putting tile 3863 at (4,10) with orientation 6 (999, 721, 321, 560)\n",
      "Checking for (5,10), needs [321, None, None, 487]\n",
      "Putting tile 1291 at (5,10) with orientation 7 (321, 547, 665, 487)\n",
      "Checking for (6,10), needs [665, None, None, 537]\n",
      "Putting tile 3019 at (6,10) with orientation 7 (665, 708, 868, 537)\n",
      "Checking for (7,10), needs [868, None, None, 627]\n",
      "Putting tile 1951 at (7,10) with orientation 7 (868, 345, 939, 627)\n",
      "Checking for (8,10), needs [939, None, None, 835]\n",
      "Putting tile 1559 at (8,10) with orientation 3 (939, 946, 526, 835)\n",
      "Checking for (9,10), needs [526, None, None, 740]\n",
      "Putting tile 3203 at (9,10) with orientation 3 (526, 357, 323, 740)\n",
      "Checking for (10,0), needs [253, None, None, None]\n",
      "Putting tile 1123 at (10,0) with orientation 4 (253, 583, 931, 183)\n",
      "Checking for (10,1), needs [543, None, None, 583]\n",
      "Putting tile 2903 at (10,1) with orientation 0 (543, 755, 925, 583)\n",
      "Checking for (10,2), needs [758, None, None, 755]\n",
      "Putting tile 3067 at (10,2) with orientation 0 (758, 495, 675, 755)\n",
      "Checking for (10,3), needs [18, None, None, 495]\n",
      "Putting tile 2897 at (10,3) with orientation 2 (18, 73, 657, 495)\n",
      "Checking for (10,4), needs [219, None, None, 73]\n",
      "Putting tile 3797 at (10,4) with orientation 6 (219, 777, 983, 73)\n",
      "Checking for (10,5), needs [953, None, None, 777]\n",
      "Putting tile 3989 at (10,5) with orientation 4 (953, 1009, 1017, 777)\n",
      "Checking for (10,6), needs [809, None, None, 1009]\n",
      "Putting tile 3517 at (10,6) with orientation 4 (809, 866, 638, 1009)\n",
      "Checking for (10,7), needs [961, None, None, 866]\n",
      "Putting tile 3617 at (10,7) with orientation 7 (961, 518, 374, 866)"
     ]
    },
    {
     "name": "stdout",
     "output_type": "stream",
     "text": [
      "\n",
      "Checking for (10,8), needs [683, None, None, 518]\n",
      "Putting tile 3929 at (10,8) with orientation 0 (683, 689, 373, 518)\n",
      "Checking for (10,9), needs [546, None, None, 689]\n",
      "Putting tile 1487 at (10,9) with orientation 5 (546, 456, 712, 689)\n",
      "Checking for (10,10), needs [323, None, None, 456]\n",
      "Putting tile 1831 at (10,10) with orientation 5 (323, 602, 492, 456)\n",
      "Checking for (0,11), needs [None, None, None, 209]\n",
      "Putting tile 2251 at (0,11) with orientation 7 (123, 858, 588, 209)\n",
      "Checking for (1,11), needs [588, None, None, 519]\n",
      "Putting tile 3613 at (1,11) with orientation 7 (588, 32, 762, 519)\n",
      "Checking for (2,11), needs [762, None, None, 707]\n",
      "Putting tile 2593 at (2,11) with orientation 2 (762, 217, 753, 707)\n",
      "Checking for (3,11), needs [753, None, None, 959]\n",
      "Putting tile 3089 at (3,11) with orientation 2 (753, 722, 800, 959)\n",
      "Checking for (4,11), needs [800, None, None, 721]\n",
      "Putting tile 3319 at (4,11) with orientation 5 (800, 246, 742, 721)\n",
      "Checking for (5,11), needs [742, None, None, 547]\n",
      "Putting tile 1063 at (5,11) with orientation 0 (742, 457, 559, 547)\n",
      "Checking for (6,11), needs [559, None, None, 708]\n",
      "Putting tile 1931 at (6,11) with orientation 2 (559, 705, 263, 708)\n",
      "Checking for (7,11), needs [263, None, None, 345]\n",
      "Putting tile 1259 at (7,11) with orientation 3 (263, 535, 671, 345)\n",
      "Checking for (8,11), needs [671, None, None, 946]\n",
      "Putting tile 3331 at (8,11) with orientation 6 (671, 768, 496, 946)\n",
      "Checking for (9,11), needs [496, None, None, 357]\n",
      "Putting tile 3079 at (9,11) with orientation 5 (496, 458, 760, 357)\n",
      "Checking for (10,11), needs [760, None, None, 602]\n",
      "Putting tile 2543 at (10,11) with orientation 4 (760, 285, 401, 602)\n",
      "Checking for (11,0), needs [931, None, None, None]\n",
      "Putting tile 1847 at (11,0) with orientation 6 (931, 822, 464, 958)\n",
      "Checking for (11,1), needs [925, None, None, 822]\n",
      "Putting tile 3853 at (11,1) with orientation 5 (925, 839, 131, 822)\n",
      "Checking for (11,2), needs [675, None, None, 839]\n",
      "Putting tile 1153 at (11,2) with orientation 5 (675, 715, 695, 839)\n",
      "Checking for (11,3), needs [657, None, None, 715]\n",
      "Putting tile 3469 at (11,3) with orientation 0 (657, 847, 577, 715)\n",
      "Checking for (11,4), needs [983, None, None, 847]\n",
      "Putting tile 3041 at (11,4) with orientation 0 (983, 697, 867, 847)\n",
      "Checking for (11,5), needs [1017, None, None, 697]\n",
      "Putting tile 1483 at (11,5) with orientation 7 (1017, 685, 879, 697)\n",
      "Checking for (11,6), needs [638, None, None, 685]\n",
      "Putting tile 3259 at (11,6) with orientation 0 (638, 247, 797, 685)\n",
      "Checking for (11,7), needs [374, None, None, 247]\n",
      "Putting tile 1069 at (11,7) with orientation 6 (374, 494, 674, 247)\n",
      "Checking for (11,8), needs [373, None, None, 494]\n",
      "Putting tile 1471 at (11,8) with orientation 3 (373, 563, 81, 494)\n",
      "Checking for (11,9), needs [712, None, None, 563]\n",
      "Putting tile 3761 at (11,9) with orientation 4 (712, 365, 637, 563)\n",
      "Checking for (11,10), needs [492, None, None, 365]\n",
      "Putting tile 2699 at (11,10) with orientation 4 (492, 15, 767, 365)\n",
      "Checking for (11,11), needs [401, None, None, 15]\n",
      "Putting tile 3011 at (11,11) with orientation 3 (401, 727, 649, 15)\n",
      "[[2221 2381 3449 3407 3643 1097 2203 1321 1447 1087 2711 2251]\n",
      " [2309 1997 1237 2677 3917 2803 3529 2693 3299 3061 1873 3613]\n",
      " [3191 3947 1307 1597 3001 1201 1637 2161 1987 2833 2659 2593]\n",
      " [1669 2753 1721 1019 1129 2657 1381 1181 3833 3637 2687 3089]\n",
      " [2399 1187 1613 2281 2851 2539 3881 1061 3049 3467 3863 3319]\n",
      " [3461 3361 2237 2131 3709 3793 3229 2837 1223 3607 1291 1063]\n",
      " [2137 2939 2377 2069 3373 1801 1051 3697 2819 2293 3019 1931]\n",
      " [2113 3739 2087 3251 2957 3631 3163 2273 2861 2333 1951 1259]\n",
      " [1567 2239 1171 1433 2027 2083 1091 2389 3499 3343 1559 3331]\n",
      " [1163 1823 3593 2467 2617 1373 2843 3533 2411 3371 3203 3079]\n",
      " [1123 2903 3067 2897 3797 3989 3517 3617 3929 1487 1831 2543]\n",
      " [1847 3853 1153 3469 3041 1483 3259 1069 1471 3761 2699 3011]]\n"
     ]
    }
   ],
   "source": [
    "p_solution = makePuzzle(12, p_tiles, p_tPerEdge)"
   ]
  },
  {
   "cell_type": "code",
   "execution_count": 7,
   "metadata": {
    "execution": {
     "iopub.execute_input": "2020-12-21T12:50:29.564199Z",
     "iopub.status.busy": "2020-12-21T12:50:29.563387Z",
     "iopub.status.idle": "2020-12-21T12:50:29.568405Z",
     "shell.execute_reply": "2020-12-21T12:50:29.567746Z"
    }
   },
   "outputs": [
    {
     "name": "stdout",
     "output_type": "stream",
     "text": [
      "0 [[1. 2. 3.]\n",
      " [4. 5. 6.]\n",
      " [7. 8. 9.]]\n",
      "1 [[3. 6. 9.]\n",
      " [2. 5. 8.]\n",
      " [1. 4. 7.]]\n",
      "2 [[9. 8. 7.]\n",
      " [6. 5. 4.]\n",
      " [3. 2. 1.]]\n",
      "3 [[7. 4. 1.]\n",
      " [8. 5. 2.]\n",
      " [9. 6. 3.]]\n",
      "4 [[3. 2. 1.]\n",
      " [6. 5. 4.]\n",
      " [9. 8. 7.]]\n",
      "5 [[9. 6. 3.]\n",
      " [8. 5. 2.]\n",
      " [7. 4. 1.]]\n",
      "6 [[7. 8. 9.]\n",
      " [4. 5. 6.]\n",
      " [1. 2. 3.]]\n",
      "7 [[1. 4. 7.]\n",
      " [2. 5. 8.]\n",
      " [3. 6. 9.]]\n"
     ]
    }
   ],
   "source": [
    "oriTransforms = [\n",
    "    lambda a : a,                            #  N E S W = leave\n",
    "    lambda a : np.rot90(a),                  #  E-S W-N = np.rot90\n",
    "    lambda a : np.rot90(a, k=2),             # -S-W-N-E = np.rot90(, k=2)\n",
    "    lambda a : np.rot90(a, k=-1),            # -W N-E S = np.rot90(, k=-1)\n",
    "    lambda a : np.fliplr(a),                 # -N W-S E = fliplr\n",
    "    lambda a : np.rot90(np.fliplr(a), k=-1), # -E-N-W-S = np.rot90(fliplr, k=-1)\n",
    "    lambda a : np.flipud(a),                 #  S-E N-W = flipud\n",
    "    lambda a : np.transpose(a)]              #  W S E N = transpose\n",
    "\n",
    "m = np.array([ [ 1., 2., 3. ], [ 4., 5., 6. ], [ 7., 8., 9. ] ])\n",
    "for i,t in enumerate(oriTransforms):\n",
    "    print(i, t(m))"
   ]
  },
  {
   "cell_type": "code",
   "execution_count": 8,
   "metadata": {
    "execution": {
     "iopub.execute_input": "2020-12-21T12:50:29.575390Z",
     "iopub.status.busy": "2020-12-21T12:50:29.574552Z",
     "iopub.status.idle": "2020-12-21T12:50:29.577402Z",
     "shell.execute_reply": "2020-12-21T12:50:29.576549Z"
    }
   },
   "outputs": [],
   "source": [
    "ex1_full = [ [ oriTransforms[ori](ex1_tiles[uid].values) for uid,ori in row ] for row in ex_solution ]\n",
    "p_full = [ [ oriTransforms[ori](p_tiles[uid].values) for uid,ori in row ] for row in p_solution ]"
   ]
  },
  {
   "cell_type": "code",
   "execution_count": 9,
   "metadata": {
    "execution": {
     "iopub.execute_input": "2020-12-21T12:50:29.589897Z",
     "iopub.status.busy": "2020-12-21T12:50:29.589152Z",
     "iopub.status.idle": "2020-12-21T12:50:29.595811Z",
     "shell.execute_reply": "2020-12-21T12:50:29.596489Z"
    }
   },
   "outputs": [
    {
     "name": "stdout",
     "output_type": "stream",
     "text": [
      "#..#..#.## ####....#. ...#..###."
     ]
    },
    {
     "name": "stdout",
     "output_type": "stream",
     "text": [
      "\n",
      "..####.... .#####..#. ....###...\n",
      ".#####..## #..#.#.##. .##..#.#.#\n",
      "..#.#...## #.###...## #.##.##...\n",
      "##.#.##.#. .##.#.##.. .##.######\n",
      "#..##.###. ..####..## #.####.##.\n",
      "....#.#... .##.##.... .#..#..##.\n",
      "##.##.#..# ##.#..#..# ###.#.#...\n",
      "..###.##.# #....#.... .###.#....\n",
      ".#..#####. ......#..# #.#.##...#\n",
      "\n",
      ".#..#####. ......#..# #.#.##...#\n",
      ".#.####.#. ..#....### #.#..#.#.#\n",
      "###...#..# ##....#..# ##...####.\n",
      "#..#.##..# #.###..#.. .#####..##\n",
      "#....#.##. ..#.###### #....#....\n",
      "...##.##.# ####.....# ##.##..#.#\n",
      ".#...#.... .###..###. .#....##..\n",
      "#.#.##.... .#.##.#.## #.###...#.\n",
      "##.###.#.# #.####.... .##..#....\n",
      "#..##.#... .#.#.###.. .#..#.....\n",
      "\n",
      "#..##.#... .#.#.###.. .#..#.....\n",
      ".#.###.... .#.##...## #.######..\n",
      "#.###.#### #.######## #..#####..\n",
      "...##.#... .#..#.###. .####.####\n",
      "##.#..##.# #########. ...#..##.#\n",
      "##.#####.# #.#.#...#. .#..#.....\n",
      "##....##.# #.#.###### #####..##.\n",
      "##...#.... ...#..##.# #..###.##.\n",
      "##..###... ...##.#..# #.##.##.#.\n",
      ".#....#... .####....# ###....##.\n",
      "\n"
     ]
    }
   ],
   "source": [
    "def getLineStr(arr):\n",
    "    return [ \"\".join((\"#\" if ch else \".\") for ch in row) for row in arr ]\n",
    "\n",
    "for i,row in enumerate(ex1_full):\n",
    "    for linePerBlock in zip(*(getLineStr(tile) for tile in row)):\n",
    "        print(\" \".join(linePerBlock))\n",
    "    print(\"\")"
   ]
  },
  {
   "cell_type": "code",
   "execution_count": 10,
   "metadata": {
    "execution": {
     "iopub.execute_input": "2020-12-21T12:50:29.603026Z",
     "iopub.status.busy": "2020-12-21T12:50:29.602144Z",
     "iopub.status.idle": "2020-12-21T12:50:29.608175Z",
     "shell.execute_reply": "2020-12-21T12:50:29.607563Z"
    }
   },
   "outputs": [
    {
     "name": "stdout",
     "output_type": "stream",
     "text": [
      ".#.#..#.##...#.##..#####\n",
      "###....#.#....#..#......\n",
      "##.##.###.#.#..######...\n",
      "###.#####...#.#####.#..#\n",
      "##.#....#.##.####...#.##\n",
      "...########.#....#####.#\n",
      "....#..#...##..#.#.###..\n",
      ".####...#..#.....#......\n",
      "#..#.##..#..###.#.##....\n",
      "#.####..#.####.#.#.###..\n",
      "###.#.#...#.######.#..##\n",
      "#.####....##..########.#\n",
      "##..##.#...#...#.#.#.#..\n",
      "...#..#..#.#.##..###.###\n",
      ".#.#....#.##.#...###.##.\n",
      "###.#...#..#.##.######..\n",
      ".#.#.###.##.##.#..#.##..\n",
      ".####.###.#...###.#..#.#\n",
      "..#.#..#..#.#.#.####.###\n",
      "#..####...#.#.#.###.###.\n",
      "#####..#####...###....##\n",
      "#.##..#..#...#..####...#\n",
      ".#.###..##..##..####.##.\n",
      "...###...##...#...#..###\n"
     ]
    },
    {
     "name": "stderr",
     "output_type": "stream",
     "text": [
      "<ipython-input-1-b9b9daeccc52>:1: FutureWarning: arrays to stack must be passed as a \"sequence\" type such as list or tuple. Support for non-sequence iterables such as generators is deprecated as of NumPy 1.16 and will raise an error in the future.\n",
      "  ex_merged = np.vstack((np.hstack((vals[1:-1,1:-1] for vals in row)) for row in ex1_full)).T\n"
     ]
    }
   ],
   "source": [
    "ex_merged = np.vstack((np.hstack((vals[1:-1,1:-1] for vals in row)) for row in ex1_full)).T\n",
    "print(\"\\n\".join(\"\".join((\"#\" if ch else \".\") for ch in row) for row in ex_merged))"
   ]
  },
  {
   "cell_type": "code",
   "execution_count": 11,
   "metadata": {
    "execution": {
     "iopub.execute_input": "2020-12-21T12:50:29.619442Z",
     "iopub.status.busy": "2020-12-21T12:50:29.618234Z",
     "iopub.status.idle": "2020-12-21T12:50:29.622586Z",
     "shell.execute_reply": "2020-12-21T12:50:29.621991Z"
    }
   },
   "outputs": [
    {
     "name": "stderr",
     "output_type": "stream",
     "text": [
      "<ipython-input-1-df8e425207ec>:1: FutureWarning: arrays to stack must be passed as a \"sequence\" type such as list or tuple. Support for non-sequence iterables such as generators is deprecated as of NumPy 1.16 and will raise an error in the future.\n",
      "  p_merged = np.vstack((np.hstack((vals[1:-1,1:-1] for vals in row)) for row in p_full)).T\n"
     ]
    }
   ],
   "source": [
    "p_merged = np.vstack((np.hstack((vals[1:-1,1:-1] for vals in row)) for row in p_full)).T"
   ]
  },
  {
   "cell_type": "code",
   "execution_count": 12,
   "metadata": {
    "execution": {
     "iopub.execute_input": "2020-12-21T12:50:29.628653Z",
     "iopub.status.busy": "2020-12-21T12:50:29.627987Z",
     "iopub.status.idle": "2020-12-21T12:50:29.629943Z",
     "shell.execute_reply": "2020-12-21T12:50:29.630468Z"
    }
   },
   "outputs": [],
   "source": [
    "monster_pat = np.array([ [(True if ch == \"#\" else False) for ch in row] for row in \"\"\"                  # \n",
    "#    ##    ##    ###\n",
    " #  #  #  #  #  #   \"\"\".split(\"\\n\") ], dtype=np.bool)"
   ]
  },
  {
   "cell_type": "code",
   "execution_count": 13,
   "metadata": {
    "execution": {
     "iopub.execute_input": "2020-12-21T12:50:29.651362Z",
     "iopub.status.busy": "2020-12-21T12:50:29.638482Z",
     "iopub.status.idle": "2020-12-21T12:50:29.655019Z",
     "shell.execute_reply": "2020-12-21T12:50:29.655857Z"
    }
   },
   "outputs": [
    {
     "name": "stdout",
     "output_type": "stream",
     "text": [
      "Example monsters: 2, [((1, 16), 7), ((2, 2), 7)]\n",
      "Example roughness: 273\n"
     ]
    }
   ],
   "source": [
    "ex_nMonsters = 0\n",
    "ex_monsters = []\n",
    "for k,tr in enumerate(oriTransforms):\n",
    "    t_m = tr(monster_pat)\n",
    "    for i in range(ex_merged.shape[0]-t_m.shape[0]):\n",
    "        for j in range(ex_merged.shape[1]-t_m.shape[1]):\n",
    "            if np.all(t_m == np.logical_and(ex_merged[i:i+t_m.shape[0], j:j+t_m.shape[1]], t_m)):\n",
    "                ex_monsters.append(((i,j), k))\n",
    "                ex_nMonsters += 1\n",
    "print(f\"Example monsters: {ex_nMonsters:d}, {ex_monsters!r}\")\n",
    "ex_forRough = np.array(ex_merged)\n",
    "for (i,j), k in ex_monsters:\n",
    "    t_m = oriTransforms[k](monster_pat)\n",
    "    ex_forRough[i:i+t_m.shape[0], j:j+t_m.shape[1]] = np.where(\n",
    "        np.logical_and(ex_forRough[i:i+t_m.shape[0], j:j+t_m.shape[1]], t_m),\n",
    "        np.full(t_m.shape, False), ex_forRough[i:i+t_m.shape[0], j:j+t_m.shape[1]])\n",
    "print(f\"Example roughness: {np.sum(ex_forRough):d}\")"
   ]
  },
  {
   "cell_type": "code",
   "execution_count": 14,
   "metadata": {
    "execution": {
     "iopub.execute_input": "2020-12-21T12:50:29.672502Z",
     "iopub.status.busy": "2020-12-21T12:50:29.665238Z",
     "iopub.status.idle": "2020-12-21T12:50:30.298213Z",
     "shell.execute_reply": "2020-12-21T12:50:30.299026Z"
    }
   },
   "outputs": [
    {
     "name": "stdout",
     "output_type": "stream",
     "text": [
      "Puzzle monsters: 37, [((2, 71), 4), ((3, 7), 4), ((3, 32), 4), ((7, 65), 4), ((8, 21), 4), ((13, 43), 4), ((14, 15), 4), ((15, 70), 4), ((21, 55), 4), ((24, 18), 4), ((27, 60), 4), ((31, 26), 4), ((32, 57), 4), ((36, 2), 4), ((37, 70), 4), ((38, 42), 4), ((42, 7), 4), ((43, 30), 4), ((46, 52), 4), ((47, 23), 4), ((52, 34), 4), ((53, 5), 4), ((54, 70), 4), ((59, 58), 4), ((61, 35), 4), ((62, 8), 4), ((65, 67), 4), ((69, 23), 4), ((70, 60), 4), ((74, 40), 4), ((75, 13), 4), ((76, 63), 4), ((80, 10), 4), ((80, 58), 4), ((85, 16), 4), ((86, 67), 4), ((90, 8), 4)]\n",
      "Puzzle roughness: 1644\n"
     ]
    }
   ],
   "source": [
    "p_nMonsters = 0\n",
    "p_monsters = []\n",
    "for k,tr in enumerate(oriTransforms):\n",
    "    t_m = tr(monster_pat)\n",
    "    for i in range(p_merged.shape[0]-t_m.shape[0]):\n",
    "        for j in range(p_merged.shape[1]-t_m.shape[1]):\n",
    "            if np.all(t_m == np.logical_and(p_merged[i:i+t_m.shape[0], j:j+t_m.shape[1]], t_m)):\n",
    "                p_monsters.append(((i,j), k))\n",
    "                p_nMonsters += 1\n",
    "print(f\"Puzzle monsters: {p_nMonsters:d}, {p_monsters!r}\")\n",
    "p_forRough = np.array(p_merged)\n",
    "for (i,j), k in p_monsters:\n",
    "    t_m = oriTransforms[k](monster_pat)\n",
    "    p_forRough[i:i+t_m.shape[0], j:j+t_m.shape[1]] = np.where(\n",
    "        np.logical_and(p_forRough[i:i+t_m.shape[0], j:j+t_m.shape[1]], t_m),\n",
    "        np.full(t_m.shape, False), p_forRough[i:i+t_m.shape[0], j:j+t_m.shape[1]])\n",
    "print(f\"Puzzle roughness: {np.sum(p_forRough):d}\")"
   ]
  }
 ],
 "metadata": {
  "kernelspec": {
   "display_name": "Python 3",
   "language": "python",
   "name": "python3"
  },
  "language_info": {
   "codemirror_mode": {
    "name": "ipython",
    "version": 3
   },
   "file_extension": ".py",
   "mimetype": "text/x-python",
   "name": "python",
   "nbconvert_exporter": "python",
   "pygments_lexer": "ipython3",
   "version": "3.9.1"
  }
 },
 "nbformat": 4,
 "nbformat_minor": 4
}
