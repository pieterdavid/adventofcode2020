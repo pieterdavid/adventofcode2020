{
 "cells": [
  {
   "cell_type": "code",
   "execution_count": 1,
   "metadata": {},
   "outputs": [],
   "source": [
    "example_input = \"\"\"\n",
    "abc\n",
    "\n",
    "a\n",
    "b\n",
    "c\n",
    "\n",
    "ab\n",
    "ac\n",
    "\n",
    "a\n",
    "a\n",
    "a\n",
    "a\n",
    "\n",
    "b\n",
    "\"\"\"\n",
    "from itertools import groupby\n",
    "from collections import defaultdict"
   ]
  },
  {
   "cell_type": "code",
   "execution_count": 2,
   "metadata": {},
   "outputs": [
    {
     "name": "stdout",
     "output_type": "stream",
     "text": [
      "[{'a', 'b', 'c'}, {'a', 'b', 'c'}, {'a', 'b', 'c'}, {'a'}, {'b'}] 11\n"
     ]
    }
   ],
   "source": [
    "def readGroups(lines):\n",
    "    for bV,lnGrp in groupby((ln.strip() for ln in lines), bool):\n",
    "        if bV:\n",
    "            yield lnGrp\n",
    "\n",
    "def collect_questions(inputLines):\n",
    "    questions_per_group = []\n",
    "    for grp in readGroups(inputLines):\n",
    "        sGrp = set()\n",
    "        for ln in grp:\n",
    "            for c in ln:\n",
    "                sGrp.add(c)\n",
    "        questions_per_group.append(sGrp)\n",
    "    return questions_per_group\n",
    "\n",
    "ex_qs = collect_questions(example_input.split(\"\\n\"))\n",
    "print(ex_qs, sum(len(st) for st in ex_qs))"
   ]
  },
  {
   "cell_type": "code",
   "execution_count": 3,
   "metadata": {},
   "outputs": [
    {
     "name": "stdout",
     "output_type": "stream",
     "text": [
      "6742\n"
     ]
    }
   ],
   "source": [
    "with open(\"inputs/day06.txt\") as puzzleInput:\n",
    "    puzzle_questions_per_group = collect_questions(puzzleInput)\n",
    "print(sum(len(grp) for grp in puzzle_questions_per_group))"
   ]
  },
  {
   "cell_type": "code",
   "execution_count": 4,
   "metadata": {},
   "outputs": [
    {
     "name": "stdout",
     "output_type": "stream",
     "text": [
      "['abc', '', 'a', 'a', 'b'] 6\n"
     ]
    }
   ],
   "source": [
    "def collect_questions_2(inputLines):\n",
    "    questions_per_group = []\n",
    "    for grp in readGroups(inputLines):\n",
    "        allAnswered = None\n",
    "        for ln in grp:\n",
    "            if allAnswered is None:\n",
    "                allAnswered = ln\n",
    "            else:\n",
    "                allAnswered = \"\".join(c for c in allAnswered if c in ln)\n",
    "        questions_per_group.append(allAnswered)\n",
    "    return questions_per_group\n",
    "\n",
    "ex_qs_2 = collect_questions_2(example_input.split(\"\\n\"))\n",
    "print(ex_qs_2, sum(len(st) for st in ex_qs_2))"
   ]
  },
  {
   "cell_type": "code",
   "execution_count": 6,
   "metadata": {},
   "outputs": [
    {
     "name": "stdout",
     "output_type": "stream",
     "text": [
      "3447\n"
     ]
    }
   ],
   "source": [
    "with open(\"inputs/day06.txt\") as puzzleInput:\n",
    "    puzzle_questions_per_group_2 = collect_questions_2(puzzleInput)\n",
    "print(sum(len(grp) for grp in puzzle_questions_per_group_2))"
   ]
  },
  {
   "cell_type": "code",
   "execution_count": null,
   "metadata": {},
   "outputs": [],
   "source": []
  }
 ],
 "metadata": {
  "kernelspec": {
   "display_name": "Python 3",
   "language": "python",
   "name": "python3"
  },
  "language_info": {
   "codemirror_mode": {
    "name": "ipython",
    "version": 3
   },
   "file_extension": ".py",
   "mimetype": "text/x-python",
   "name": "python",
   "nbconvert_exporter": "python",
   "pygments_lexer": "ipython3",
   "version": "3.9.0"
  }
 },
 "nbformat": 4,
 "nbformat_minor": 4
}
