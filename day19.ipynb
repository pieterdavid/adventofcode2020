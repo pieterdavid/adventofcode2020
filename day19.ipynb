{
 "cells": [
  {
   "cell_type": "markdown",
   "metadata": {},
   "source": [
    "# Advent of code 2020: day 19\n",
    "\n",
    "Problem [here](https://adventofcode.com/2020/day/19)"
   ]
  },
  {
   "cell_type": "markdown",
   "metadata": {},
   "source": [
    "## Part 1"
   ]
  },
  {
   "cell_type": "code",
   "execution_count": 1,
   "metadata": {
    "execution": {
     "iopub.execute_input": "2020-12-19T19:01:18.858070Z",
     "iopub.status.busy": "2020-12-19T19:01:18.856789Z",
     "iopub.status.idle": "2020-12-19T19:01:18.860292Z",
     "shell.execute_reply": "2020-12-19T19:01:18.860986Z"
    }
   },
   "outputs": [
    {
     "name": "stdout",
     "output_type": "stream",
     "text": [
      "a ( a b | b a )\n"
     ]
    }
   ],
   "source": [
    "class StrRule:\n",
    "    def __init__(self, sub):\n",
    "        self.sub = sub\n",
    "    def __call__(self, pattern, start=0):\n",
    "        yield from ([ start+len(self.sub) ] if pattern[start:start+len(self.sub)] == self.sub else [])\n",
    "    def __str__(self):\n",
    "        return self.sub\n",
    "\n",
    "class SeqRule:\n",
    "    def __init__(self, parts):\n",
    "        self.parts = parts\n",
    "    def __call__(self, pattern, start=0, parts=None):\n",
    "        if parts is None:\n",
    "            parts = self.parts\n",
    "        if len(parts) > 1:\n",
    "            for m in parts[0](pattern, start=start):\n",
    "                yield from self(pattern, start=m, parts=parts[1:])\n",
    "        else:\n",
    "            yield from parts[0](pattern, start=start)\n",
    "    def __str__(self):\n",
    "        return \" \".join(str(p) for p in self.parts)\n",
    "\n",
    "class OrRule:\n",
    "    def __init__(self, options):\n",
    "        self.options = options\n",
    "    def __call__(self, pattern, start=0):\n",
    "        for opt in self.options:\n",
    "            yield from opt(pattern, start=start)\n",
    "    def __str__(self):\n",
    "        return \"( {0} )\".format(\" | \".join(str(p) for p in self.options))\n",
    "    \n",
    "def parseRule(rule, allRulesIn, allRules):\n",
    "    if rule.startswith('\"') and rule.endswith('\"'):\n",
    "        pRule = StrRule(rule[1:-1])\n",
    "    elif \"|\" in rule:\n",
    "        pRule = OrRule([ parseRule(tok, allRulesIn, allRules) for tok in rule.split(\" | \") ])\n",
    "    elif all(tk.isnumeric() for tk in rule.split()):\n",
    "        ids = [ int(tk) for tk in rule.split() ]\n",
    "        for iTk in ids:\n",
    "            if iTk not in allRules:\n",
    "                allRules[iTk] = parseRule(allRulesIn[iTk], allRulesIn, allRules)\n",
    "        pRule = SeqRule([ allRules[iP] for iP in ids ])\n",
    "    else:\n",
    "        raise RuntimeError(f\"Invalid rule: {rule}\")\n",
    "    return pRule\n",
    "\n",
    "ex1_in = dict((int(ln.split(\": \")[0]), ln.split(\": \")[1]) for ln in '''0: 1 2\n",
    "1: \"a\"\n",
    "2: 1 3 | 3 1\n",
    "3: \"b\"'''.split(\"\\n\"))\n",
    "\n",
    "ex1_p = dict()\n",
    "ex1_r0 = parseRule(ex1_in[0], ex1_in, ex1_p)\n",
    "print(ex1_r0)"
   ]
  },
  {
   "cell_type": "code",
   "execution_count": 2,
   "metadata": {
    "execution": {
     "iopub.execute_input": "2020-12-19T19:01:18.870640Z",
     "iopub.status.busy": "2020-12-19T19:01:18.869794Z",
     "iopub.status.idle": "2020-12-19T19:01:18.874962Z",
     "shell.execute_reply": "2020-12-19T19:01:18.875899Z"
    }
   },
   "outputs": [
    {
     "name": "stdout",
     "output_type": "stream",
     "text": [
      "a ( ( a a | b b ) ( a b | b a ) | ( a b | b a ) ( a a | b b ) ) b\n",
      "'ababbb' passes the rule\n",
      "'bababa' does not pass the rule\n",
      "'abbbab' passes the rule\n",
      "'aaabbb' does not pass the rule\n",
      "'aaaabbb' does not pass the rule\n"
     ]
    }
   ],
   "source": [
    "ex2_in = dict((int(ln.split(\": \")[0]), ln.split(\": \")[1]) for ln in '''0: 4 1 5\n",
    "1: 2 3 | 3 2\n",
    "2: 4 4 | 5 5\n",
    "3: 4 5 | 5 4\n",
    "4: \"a\"\n",
    "5: \"b\"'''.split(\"\\n\"))\n",
    "\n",
    "ex2_p = dict()\n",
    "ex2_r0 = parseRule(ex2_in[0], ex2_in, ex2_p)\n",
    "print(ex2_r0)\n",
    "\n",
    "ex2_msg = list(\"\"\"ababbb\n",
    "bababa\n",
    "abbbab\n",
    "aaabbb\n",
    "aaaabbb\"\"\".split(\"\\n\"))\n",
    "for msg in ex2_msg:\n",
    "    if any(end == len(msg) for end in ex2_r0(msg)):\n",
    "        print(f\"'{msg}' passes the rule\")\n",
    "    else:\n",
    "        print(f\"'{msg}' does not pass the rule\")"
   ]
  },
  {
   "cell_type": "code",
   "execution_count": 3,
   "metadata": {
    "execution": {
     "iopub.execute_input": "2020-12-19T19:01:18.886682Z",
     "iopub.status.busy": "2020-12-19T19:01:18.885687Z",
     "iopub.status.idle": "2020-12-19T19:01:18.896065Z",
     "shell.execute_reply": "2020-12-19T19:01:18.897181Z"
    }
   },
   "outputs": [],
   "source": [
    "p_rules = {}\n",
    "p_msg = []\n",
    "with open(\"inputs/day19.txt\") as inF:\n",
    "    lines = iter(inF)\n",
    "    try:\n",
    "        ln = next(lines).strip()\n",
    "        while ln:\n",
    "            num, rule = ln.split(\": \")\n",
    "            p_rules[int(num)] = rule\n",
    "            ln = next(lines).strip()\n",
    "        ln = next(lines).strip()\n",
    "        while ln:\n",
    "            p_msg.append(ln)\n",
    "            ln = next(lines).strip()\n",
    "    except StopIteration:\n",
    "        pass"
   ]
  },
  {
   "cell_type": "code",
   "execution_count": 4,
   "metadata": {
    "execution": {
     "iopub.execute_input": "2020-12-19T19:01:18.913375Z",
     "iopub.status.busy": "2020-12-19T19:01:18.911925Z",
     "iopub.status.idle": "2020-12-19T19:01:19.241837Z",
     "shell.execute_reply": "2020-12-19T19:01:19.240963Z"
    }
   },
   "outputs": [
    {
     "name": "stdout",
     "output_type": "stream",
     "text": [
      "216 out of 464 messages match\n"
     ]
    }
   ],
   "source": [
    "p_p = dict() # parsed rules memo\n",
    "p_r0 = parseRule(p_rules[0], p_rules, p_p)\n",
    "nMatch = 0\n",
    "for msg in p_msg:\n",
    "    if any(end == len(msg) for end in p_r0(msg)):\n",
    "        nMatch += 1\n",
    "print(f\"{nMatch:d} out of {len(p_msg):d} messages match\")"
   ]
  },
  {
   "cell_type": "markdown",
   "metadata": {},
   "source": [
    "## Part 2\n",
    "\n",
    "Changed the classes above to yield all matches instead of returning the first match only, and changed matching criteria to any."
   ]
  },
  {
   "cell_type": "code",
   "execution_count": 5,
   "metadata": {
    "execution": {
     "iopub.execute_input": "2020-12-19T19:01:19.251986Z",
     "iopub.status.busy": "2020-12-19T19:01:19.250632Z",
     "iopub.status.idle": "2020-12-19T19:01:19.256112Z",
     "shell.execute_reply": "2020-12-19T19:01:19.257172Z"
    }
   },
   "outputs": [],
   "source": [
    "class DelegatingRule: # inserted to avoid infinite recursion with eager parsing\n",
    "    def __init__(self, allRules, idx):\n",
    "        self.allRules = allRules\n",
    "        self.idx = idx\n",
    "    def __call__(self, pattern, start=0):\n",
    "        yield from self.allRules[self.idx](pattern, start=start)\n",
    "    def __str__(self):\n",
    "        return f\"#{self.idx}\"\n",
    "\n",
    "def parseRule_v2(rule, allRulesIn, allRules, stack=None):\n",
    "    if rule.startswith('\"') and rule.endswith('\"'):\n",
    "        pRule = StrRule(rule[1:-1])\n",
    "    elif \"|\" in rule:\n",
    "        pRule = OrRule([ parseRule_v2(tok, allRulesIn, allRules, stack=stack) for tok in rule.split(\" | \") ])\n",
    "    elif all(tk.isnumeric() for tk in rule.split()):\n",
    "        ids = [ int(tk) for tk in rule.split() ]\n",
    "        itemRules = []\n",
    "        for iTk in ids:\n",
    "            if iTk in stack:\n",
    "                itemRules.append(DelegatingRule(allRules, iTk))\n",
    "            else:\n",
    "                if iTk not in allRules:\n",
    "                    allRules[iTk] = parseRule_v2(allRulesIn[iTk], allRulesIn, allRules, stack=stack+[iTk])\n",
    "                itemRules.append(allRules[iTk])\n",
    "        pRule = SeqRule(itemRules)\n",
    "    else:\n",
    "        raise RuntimeError(f\"Invalid rule: {rule}\")\n",
    "    return pRule"
   ]
  },
  {
   "cell_type": "code",
   "execution_count": 6,
   "metadata": {
    "execution": {
     "iopub.execute_input": "2020-12-19T19:01:19.277760Z",
     "iopub.status.busy": "2020-12-19T19:01:19.270440Z",
     "iopub.status.idle": "2020-12-19T19:01:19.282000Z",
     "shell.execute_reply": "2020-12-19T19:01:19.280888Z"
    }
   },
   "outputs": [
    {
     "name": "stdout",
     "output_type": "stream",
     "text": [
      "'bbabbbbaabaabba' passes the rule\n",
      "'ababaaaaaabaaab' passes the rule\n",
      "'ababaaaaabbbaba' passes the rule\n"
     ]
    }
   ],
   "source": [
    "ex3_rules = dict((int(ln.split(\": \")[0]), ln.split(\": \")[1]) for ln in '''42: 9 14 | 10 1\n",
    "9: 14 27 | 1 26\n",
    "10: 23 14 | 28 1\n",
    "1: \"a\"\n",
    "11: 42 31\n",
    "5: 1 14 | 15 1\n",
    "19: 14 1 | 14 14\n",
    "12: 24 14 | 19 1\n",
    "16: 15 1 | 14 14\n",
    "31: 14 17 | 1 13\n",
    "6: 14 14 | 1 14\n",
    "2: 1 24 | 14 4\n",
    "0: 8 11\n",
    "13: 14 3 | 1 12\n",
    "15: 1 | 14\n",
    "17: 14 2 | 1 7\n",
    "23: 25 1 | 22 14\n",
    "28: 16 1\n",
    "4: 1 1\n",
    "20: 14 14 | 1 15\n",
    "3: 5 14 | 16 1\n",
    "27: 1 6 | 14 18\n",
    "14: \"b\"\n",
    "21: 14 1 | 1 14\n",
    "25: 1 1 | 1 14\n",
    "22: 14 14\n",
    "8: 42\n",
    "26: 14 22 | 1 20\n",
    "18: 15 15\n",
    "7: 14 5 | 1 21\n",
    "24: 14 1'''.split(\"\\n\"))\n",
    "ex3_msg = list('''abbbbbabbbaaaababbaabbbbabababbbabbbbbbabaaaa\n",
    "bbabbbbaabaabba\n",
    "babbbbaabbbbbabbbbbbaabaaabaaa\n",
    "aaabbbbbbaaaabaababaabababbabaaabbababababaaa\n",
    "bbbbbbbaaaabbbbaaabbabaaa\n",
    "bbbababbbbaaaaaaaabbababaaababaabab\n",
    "ababaaaaaabaaab\n",
    "ababaaaaabbbaba\n",
    "baabbaaaabbaaaababbaababb\n",
    "abbbbabbbbaaaababbbbbbaaaababb\n",
    "aaaaabbaabaaaaababaa\n",
    "aaaabbaaaabbaaa\n",
    "aaaabbaabbaaaaaaabbbabbbaaabbaabaaa\n",
    "babaaabbbaaabaababbaabababaaab\n",
    "aabbbbbaabbbaaaaaabbbbbababaaaaabbaaabba'''.split(\"\\n\"))\n",
    "\n",
    "p_ex3 = dict()\n",
    "ex3_r0 = parseRule_v2(ex3_rules[0], ex3_rules, p_ex3, stack=[0])\n",
    "\n",
    "for msg in ex3_msg:\n",
    "    if any(end == len(msg) for end in ex3_r0(msg)):\n",
    "        print(f\"'{msg}' passes the rule\")"
   ]
  },
  {
   "cell_type": "code",
   "execution_count": 7,
   "metadata": {
    "execution": {
     "iopub.execute_input": "2020-12-19T19:01:19.295190Z",
     "iopub.status.busy": "2020-12-19T19:01:19.294194Z",
     "iopub.status.idle": "2020-12-19T19:01:19.319684Z",
     "shell.execute_reply": "2020-12-19T19:01:19.321800Z"
    }
   },
   "outputs": [
    {
     "name": "stdout",
     "output_type": "stream",
     "text": [
      "'bbabbbbaabaabba' passes the rule\n",
      "'babbbbaabbbbbabbbbbbaabaaabaaa' passes the rule\n",
      "'aaabbbbbbaaaabaababaabababbabaaabbababababaaa' passes the rule\n",
      "'bbbbbbbaaaabbbbaaabbabaaa' passes the rule\n",
      "'bbbababbbbaaaaaaaabbababaaababaabab' passes the rule\n",
      "'ababaaaaaabaaab' passes the rule\n",
      "'ababaaaaabbbaba' passes the rule\n",
      "'baabbaaaabbaaaababbaababb' passes the rule\n",
      "'abbbbabbbbaaaababbbbbbaaaababb' passes the rule\n",
      "'aaaaabbaabaaaaababaa' passes the rule\n",
      "'aaaabbaabbaaaaaaabbbabbbaaabbaabaaa' passes the rule\n",
      "'aabbbbbaabbbaaaaaabbbbbababaaaaabbaaabba' passes the rule\n"
     ]
    }
   ],
   "source": [
    "ex3_rules_m = dict(ex3_rules)\n",
    "ex3_rules_m[8] = \"42 | 42 8\"\n",
    "ex3_rules_m[11] = \"42 31 | 42 11 31\"\n",
    "p_ex3_m = dict()\n",
    "ex3_m_r0 = parseRule_v2(ex3_rules_m[0], ex3_rules_m, p_ex3_m, stack=[0])\n",
    "for msg in ex3_msg:\n",
    "    if any(end == len(msg) for end in ex3_m_r0(msg)):\n",
    "        print(f\"'{msg}' passes the rule\")"
   ]
  },
  {
   "cell_type": "code",
   "execution_count": 8,
   "metadata": {
    "execution": {
     "iopub.execute_input": "2020-12-19T19:01:19.400583Z",
     "iopub.status.busy": "2020-12-19T19:01:19.365240Z",
     "iopub.status.idle": "2020-12-19T19:01:20.156741Z",
     "shell.execute_reply": "2020-12-19T19:01:20.156024Z"
    }
   },
   "outputs": [
    {
     "name": "stdout",
     "output_type": "stream",
     "text": [
      "400 out of 464 messages match\n"
     ]
    }
   ],
   "source": [
    "p_rules_2 = dict(p_rules)\n",
    "p_rules_2[8] = \"42 | 42 8\"\n",
    "p_rules_2[11] = \"42 31 | 42 11 31\"\n",
    "\n",
    "p_p2 = dict() # parsed rules memo\n",
    "p2_r0 = parseRule_v2(p_rules_2[0], p_rules_2, p_p2, stack=[0])\n",
    "nMatch2 = 0\n",
    "for msg in p_msg:\n",
    "    if any(end == len(msg) for end in p2_r0(msg)):\n",
    "        nMatch2 += 1\n",
    "print(f\"{nMatch2:d} out of {len(p_msg):d} messages match\")"
   ]
  }
 ],
 "metadata": {
  "kernelspec": {
   "display_name": "Python 3",
   "language": "python",
   "name": "python3"
  },
  "language_info": {
   "codemirror_mode": {
    "name": "ipython",
    "version": 3
   },
   "file_extension": ".py",
   "mimetype": "text/x-python",
   "name": "python",
   "nbconvert_exporter": "python",
   "pygments_lexer": "ipython3",
   "version": "3.9.1"
  }
 },
 "nbformat": 4,
 "nbformat_minor": 4
}
