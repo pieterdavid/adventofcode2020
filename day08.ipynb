{
 "cells": [
  {
   "cell_type": "code",
   "execution_count": 1,
   "metadata": {},
   "outputs": [
    {
     "name": "stdout",
     "output_type": "stream",
     "text": [
      "DEBUG: Executing #0: nop 0\n",
      "DEBUG: Executing #1: acc 1\n",
      "DEBUG: Executing #2: jmp 4\n",
      "DEBUG: Executing #6: acc 1\n",
      "DEBUG: Executing #7: jmp -4\n",
      "DEBUG: Executing #3: acc 3\n",
      "DEBUG: Executing #4: jmp -3\n",
      "Executing instruction 1 for a second time. Accumulator value is 5\n"
     ]
    },
    {
     "data": {
      "text/plain": [
       "(1, 5)"
      ]
     },
     "execution_count": 1,
     "metadata": {},
     "output_type": "execute_result"
    }
   ],
   "source": [
    "example_input = \"\"\"\n",
    "nop +0\n",
    "acc +1\n",
    "jmp +4\n",
    "acc +3\n",
    "jmp -3\n",
    "acc -99\n",
    "acc +1\n",
    "jmp -4\n",
    "acc +6\n",
    "\"\"\"\n",
    "\n",
    "def parse_instructions(lines):\n",
    "    instructions = []\n",
    "    for ln in lines:\n",
    "        instr,arg = ln.split()\n",
    "        instructions.append((instr, int(arg)))\n",
    "    return instructions\n",
    "\n",
    "def execute_break_loop(instructions, debug=False, silent=False, tryFix=False, pos=0, acc=0, stack=None):\n",
    "    executed = stack if stack else []\n",
    "    while pos not in executed and pos < len(instructions):\n",
    "        instr, arg = instructions[pos]\n",
    "        if debug:\n",
    "            print(f\"DEBUG: Executing #{pos:d}: {instr} {arg:d}\")\n",
    "        if instr == \"nop\":\n",
    "            nPos = pos+1\n",
    "        elif instr == \"acc\":\n",
    "            acc += arg\n",
    "            nPos = pos+1\n",
    "        elif instr == \"jmp\":\n",
    "            nPos = pos+arg\n",
    "        executed.append(pos)\n",
    "        pos = nPos\n",
    "    if pos in executed and tryFix:\n",
    "        if not silent:\n",
    "            print(\"Detected loop, stepping back and trying to fix\")\n",
    "        rAcc = acc\n",
    "        for i,rPos in enumerate(reversed(executed)):\n",
    "            rInstr, rArg = instructions[rPos]\n",
    "            if rInstr == \"nop\":\n",
    "                tryInstr = list(instructions)\n",
    "                tryInstr[rPos] = (\"jmp\", rArg)\n",
    "                if debug:\n",
    "                    print(f\"Trying to fix by changing line {rPos:d} from '{rInstr} {rArg:d}' to 'jmp {rArg:d}'\")\n",
    "                tPos, tAcc = execute_break_loop(tryInstr, silent=(not debug), tryFix=False,\n",
    "                                                pos=rPos, acc=rAcc, stack=executed[:-1-i])\n",
    "                if tPos == len(instructions):\n",
    "                    pos, acc = tPos, tAcc\n",
    "                    break\n",
    "            elif rInstr == \"jmp\":\n",
    "                tryInstr = list(instructions)\n",
    "                tryInstr[rPos] = (\"nop\", rArg)\n",
    "                if debug:\n",
    "                    print(f\"Trying to fix by changing line {rPos:d} from '{rInstr} {rArg:d}' to 'nop {rArg:d}'\")\n",
    "                tPos, tAcc = execute_break_loop(tryInstr, silent=(not debug), tryFix=False,\n",
    "                                                pos=rPos, acc=rAcc, stack=executed[:-1-i])                    \n",
    "                if tPos == len(instructions):\n",
    "                    pos, acc = tPos, tAcc\n",
    "                    break\n",
    "            elif rInstr == \"acc\":\n",
    "                rAcc -= rArg\n",
    "    if not silent:\n",
    "        if pos in executed:\n",
    "            print(f\"Executing instruction {pos:d} for a second time. Accumulator value is {acc:d}\")\n",
    "        elif pos == len(instructions):\n",
    "            print(f\"Terminated successfully! Accumulator is {acc:d}\")\n",
    "    return pos, acc\n",
    "\n",
    "example_instructions = parse_instructions((ln.strip() for ln in example_input.split(\"\\n\") if ln.strip()))\n",
    "execute_break_loop(example_instructions, debug=True)"
   ]
  },
  {
   "cell_type": "code",
   "execution_count": 2,
   "metadata": {},
   "outputs": [
    {
     "name": "stdout",
     "output_type": "stream",
     "text": [
      "Executing instruction 228 for a second time. Accumulator value is 2034\n"
     ]
    },
    {
     "data": {
      "text/plain": [
       "(228, 2034)"
      ]
     },
     "execution_count": 2,
     "metadata": {},
     "output_type": "execute_result"
    }
   ],
   "source": [
    "with open(\"inputs/day08.txt\") as inF:\n",
    "    puzzle_instructions = parse_instructions((ln.strip() for ln in inF if ln.strip()))\n",
    "\n",
    "execute_break_loop(puzzle_instructions)"
   ]
  },
  {
   "cell_type": "code",
   "execution_count": 3,
   "metadata": {},
   "outputs": [
    {
     "name": "stdout",
     "output_type": "stream",
     "text": [
      "DEBUG: Executing #0: nop 0\n",
      "DEBUG: Executing #1: acc 1\n",
      "DEBUG: Executing #2: jmp 4\n",
      "DEBUG: Executing #6: acc 1\n",
      "DEBUG: Executing #7: nop -4\n",
      "DEBUG: Executing #8: acc 6\n",
      "Terminated successfully! Accumulator is 8\n"
     ]
    },
    {
     "data": {
      "text/plain": [
       "(9, 8)"
      ]
     },
     "execution_count": 3,
     "metadata": {},
     "output_type": "execute_result"
    }
   ],
   "source": [
    "example_input_fixed = \"\"\"\n",
    "nop +0\n",
    "acc +1\n",
    "jmp +4\n",
    "acc +3\n",
    "jmp -3\n",
    "acc -99\n",
    "acc +1\n",
    "nop -4\n",
    "acc +6\n",
    "\"\"\"\n",
    "\n",
    "example_instructions_fixed = parse_instructions((ln.strip() for ln in example_input_fixed.split(\"\\n\") if ln.strip()))\n",
    "execute_break_loop(example_instructions_fixed, debug=True)"
   ]
  },
  {
   "cell_type": "code",
   "execution_count": 4,
   "metadata": {},
   "outputs": [
    {
     "name": "stdout",
     "output_type": "stream",
     "text": [
      "DEBUG: Executing #0: nop 0\n",
      "DEBUG: Executing #1: acc 1\n",
      "DEBUG: Executing #2: jmp 4\n",
      "DEBUG: Executing #6: acc 1\n",
      "DEBUG: Executing #7: jmp -4\n",
      "DEBUG: Executing #3: acc 3\n",
      "DEBUG: Executing #4: jmp -3\n",
      "Detected loop, stepping back and trying to fix\n",
      "Trying to fix by changing line 4 from 'jmp -3' to 'nop -3'\n",
      "Executing instruction 6 for a second time. Accumulator value is -94\n",
      "Trying to fix by changing line 7 from 'jmp -4' to 'nop -4'\n",
      "Terminated successfully! Accumulator is 8\n",
      "Terminated successfully! Accumulator is 8\n"
     ]
    },
    {
     "data": {
      "text/plain": [
       "(9, 8)"
      ]
     },
     "execution_count": 4,
     "metadata": {},
     "output_type": "execute_result"
    }
   ],
   "source": [
    "execute_break_loop(example_instructions, debug=True, tryFix=True)"
   ]
  },
  {
   "cell_type": "code",
   "execution_count": 5,
   "metadata": {},
   "outputs": [
    {
     "name": "stdout",
     "output_type": "stream",
     "text": [
      "Detected loop, stepping back and trying to fix\n",
      "Terminated successfully! Accumulator is 672\n"
     ]
    },
    {
     "data": {
      "text/plain": [
       "(631, 672)"
      ]
     },
     "execution_count": 5,
     "metadata": {},
     "output_type": "execute_result"
    }
   ],
   "source": [
    "execute_break_loop(puzzle_instructions, debug=False, tryFix=True)"
   ]
  },
  {
   "cell_type": "code",
   "execution_count": null,
   "metadata": {},
   "outputs": [],
   "source": []
  }
 ],
 "metadata": {
  "kernelspec": {
   "display_name": "Python 3",
   "language": "python",
   "name": "python3"
  },
  "language_info": {
   "codemirror_mode": {
    "name": "ipython",
    "version": 3
   },
   "file_extension": ".py",
   "mimetype": "text/x-python",
   "name": "python",
   "nbconvert_exporter": "python",
   "pygments_lexer": "ipython3",
   "version": "3.9.0"
  }
 },
 "nbformat": 4,
 "nbformat_minor": 4
}
