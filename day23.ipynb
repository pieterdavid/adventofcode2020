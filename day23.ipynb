{
 "cells": [
  {
   "cell_type": "markdown",
   "metadata": {},
   "source": [
    "# Advent of code 2020: day 23\n",
    "\n",
    "Problem [here](https://adventofcode.com/2020/day/23)"
   ]
  },
  {
   "cell_type": "markdown",
   "metadata": {},
   "source": [
    "## Part 1"
   ]
  },
  {
   "cell_type": "code",
   "execution_count": 1,
   "metadata": {
    "execution": {
     "iopub.execute_input": "2020-12-26T11:14:50.998871Z",
     "iopub.status.busy": "2020-12-26T11:14:50.988818Z",
     "iopub.status.idle": "2020-12-26T11:14:51.016451Z",
     "shell.execute_reply": "2020-12-26T11:14:51.017138Z"
    }
   },
   "outputs": [
    {
     "name": "stdout",
     "output_type": "stream",
     "text": [
      "-- move 1 --\n",
      "cups:  (3) 8 9 1 2 5 4 6 7\n",
      "Pick up: 8 9 1\n",
      "Destination: 2\n",
      "\n",
      "-- move 2 --\n",
      "cups: 3 (2) 8 9 1 5 4 6 7\n",
      "Pick up: 8 9 1\n",
      "Destination: 7\n",
      "\n",
      "-- move 3 --\n",
      "cups: 3 2 (5) 4 6 7 8 9 1\n",
      "Pick up: 4 6 7\n",
      "Destination: 3\n",
      "\n",
      "-- move 4 --\n",
      "cups: 3 4 6 7 2 5 (8) 9 1\n",
      "Pick up: 9 1 3\n",
      "Destination: 7\n",
      "\n",
      "-- move 5 --\n",
      "cups:  (4) 6 7 9 1 3 2 5 8\n",
      "Pick up: 6 7 9\n",
      "Destination: 3\n",
      "\n",
      "-- move 6 --\n",
      "cups: 4 (1) 3 6 7 9 2 5 8\n",
      "Pick up: 3 6 7\n",
      "Destination: 9\n",
      "\n",
      "-- move 7 --\n",
      "cups: 4 1 (9) 3 6 7 2 5 8\n",
      "Pick up: 3 6 7\n",
      "Destination: 8\n",
      "\n",
      "-- move 8 --\n",
      "cups: 4 1 9 (2) 5 8 3 6 7\n",
      "Pick up: 5 8 3\n",
      "Destination: 1\n",
      "\n",
      "-- move 9 --\n",
      "cups: 4 1 5 8 3 9 2 (6) 7\n",
      "Pick up: 7 4 1\n",
      "Destination: 5\n",
      "\n",
      "-- move 10 --\n",
      "cups:  (5) 7 4 1 8 3 9 2 6\n",
      "Pick up: 7 4 1\n",
      "Destination: 3\n",
      "\n",
      "-- final --\n",
      "cups: (8) 3 7 4 1 9 2 6 5\n",
      "After 10:  92658374\n",
      "Done round 100\n",
      "After 100:  67384529\n"
     ]
    }
   ],
   "source": [
    "def crabCupGame(cups, nRounds, debug=False):\n",
    "    start = 0\n",
    "    highest = max(cups)\n",
    "    lowest = min(cups)\n",
    "    for i in range(nRounds):\n",
    "        if debug:\n",
    "            print(f\"-- move {i+1:d} --\")\n",
    "            print(f\"cups: {' '.join(str(v) for v in cups[:start])} ({cups[start]:d}) {' '.join(str(v) for v in cups[start+1:])}\")\n",
    "        curVal = cups[start]\n",
    "        crab = []\n",
    "        for j in range(1,4): # crab takes away\n",
    "            pos = start+1\n",
    "            if pos >= len(cups):\n",
    "                pos -= len(cups) # could be modulo\n",
    "                start -= 1       # will remove one before\n",
    "            crab.append(cups.pop(pos))\n",
    "        if debug:\n",
    "            print(f\"Pick up: {' '.join(str(v) for v in crab)}\")\n",
    "        assert curVal == cups[start] # check: did start follow?\n",
    "        destVal = (curVal-1)\n",
    "        if destVal < lowest:\n",
    "            destVal = highest\n",
    "        while destVal in crab:\n",
    "            destVal -= 1\n",
    "            if destVal < lowest:\n",
    "                destVal = highest\n",
    "        if debug:\n",
    "            print(f\"Destination: {destVal}\")\n",
    "        destPos = cups.index(destVal)+1\n",
    "        cups[destPos:destPos] = crab\n",
    "        if destPos <= start:\n",
    "            start += 3 # inserted before\n",
    "        assert curVal == cups[start] # check: did start follow?\n",
    "        start = (start + 1) % len(cups) # move on for the next round\n",
    "        if debug:\n",
    "            print()\n",
    "        if ((i+1) % 100) == 0:\n",
    "            print(f\"Done round {i+1:d}\")\n",
    "    if debug:\n",
    "        print(\"-- final --\")\n",
    "        print(f\"cups: ({cups[start]:d}) {' '.join(str(v) for v in cups[start+1:]+cups[:start])}\")\n",
    "    return cups\n",
    "\n",
    "ex10_cups = crabCupGame([int(ch) for ch in \"389125467\"], 10, debug=True)\n",
    "ex10_i1 = ex10_cups.index(1)\n",
    "print(\"After 10: \", \"\".join(str(v) for v in ex10_cups[ex10_i1+1:]+ex10_cups[:ex10_i1]))\n",
    "ex100_cups = crabCupGame([int(ch) for ch in \"389125467\"], 100, debug=False)\n",
    "ex100_i1 = ex100_cups.index(1)\n",
    "print(\"After 100: \", \"\".join(str(v) for v in ex100_cups[ex100_i1+1:]+ex100_cups[:ex100_i1]))"
   ]
  },
  {
   "cell_type": "code",
   "execution_count": 2,
   "metadata": {
    "execution": {
     "iopub.execute_input": "2020-12-26T11:14:51.027282Z",
     "iopub.status.busy": "2020-12-26T11:14:51.024541Z",
     "iopub.status.idle": "2020-12-26T11:14:51.030940Z",
     "shell.execute_reply": "2020-12-26T11:14:51.030181Z"
    },
    "lines_to_next_cell": 2
   },
   "outputs": [
    {
     "name": "stdout",
     "output_type": "stream",
     "text": [
      "Done round 100\n",
      "After 100:  78569234\n"
     ]
    }
   ],
   "source": [
    "p1_cups = crabCupGame([int(ch) for ch in \"394618527\"], 100, debug=False)\n",
    "p1_i1 = p1_cups.index(1)\n",
    "print(\"After 100: \", \"\".join(str(v) for v in p1_cups[p1_i1+1:]+p1_cups[:p1_i1]))"
   ]
  },
  {
   "cell_type": "markdown",
   "metadata": {},
   "source": [
    "## Part 2"
   ]
  },
  {
   "cell_type": "code",
   "execution_count": 3,
   "metadata": {
    "execution": {
     "iopub.execute_input": "2020-12-26T11:14:51.048854Z",
     "iopub.status.busy": "2020-12-26T11:14:51.047730Z",
     "iopub.status.idle": "2020-12-26T11:14:51.338335Z",
     "shell.execute_reply": "2020-12-26T11:14:51.337067Z"
    }
   },
   "outputs": [
    {
     "data": {
      "text/plain": [
       "(2, 5)"
      ]
     },
     "execution_count": 1,
     "metadata": {},
     "output_type": "execute_result"
    }
   ],
   "source": [
    "import numpy as np\n",
    "def crabCupGame2(firstNums, nRounds, totalLen=None, debug=False):\n",
    "    if totalLen is None:\n",
    "        totalLen = len(firstNums)\n",
    "    iNext = np.zeros((totalLen,), dtype=np.int)\n",
    "    for i,n in zip(firstNums[:-1], firstNums[1:]):\n",
    "        iNext[i-1] = n-1\n",
    "    if totalLen != len(firstNums):\n",
    "        iNext[firstNums[-1]-1] = len(firstNums)\n",
    "        for i in range(len(firstNums), iNext.shape[0]-1):\n",
    "            iNext[i] = i+1\n",
    "        iNext[-1] = firstNums[0]-1\n",
    "    else:\n",
    "        iNext[firstNums[-1]-1] = firstNums[0]-1\n",
    "    if debug:\n",
    "        print(iNext)\n",
    "    iStart = firstNums[0]-1\n",
    "    for i in range(nRounds):\n",
    "        if debug:\n",
    "            print(f\"-- move {i+1:d} --\")\n",
    "            cupsFromStart = []\n",
    "            idx = iNext[iStart]\n",
    "            while idx != iStart:\n",
    "                cupsFromStart.append(idx+1)\n",
    "                idx = iNext[idx]\n",
    "            print(f\"cups: ({iStart+1:d}) {' '.join(str(v) for v in cupsFromStart)}\")\n",
    "        iSlB = iNext[iStart]\n",
    "        iSlLast = iNext[iNext[iSlB]]\n",
    "        iSlAfter = iNext[iSlLast]\n",
    "        iNext[iStart] = iSlAfter\n",
    "        iCrab = [ iSlB, iNext[iSlB], iSlLast ] # values -1\n",
    "        if debug:\n",
    "            print(f\"Pick up: {iCrab[0]+1:d} {iCrab[1]+1:d} {iCrab[2]+1:d}\")\n",
    "        iDest = iStart-1\n",
    "        if iDest < 0:\n",
    "            iDest = totalLen-1\n",
    "        while iDest in iCrab:\n",
    "            iDest -= 1\n",
    "            if iDest < 0:\n",
    "                iDest = totalLen-1\n",
    "        if debug:\n",
    "            print(f\"Destination: {iDest+1}\")\n",
    "        iNext[iSlLast] = iNext[iDest]\n",
    "        iNext[iDest] = iSlB\n",
    "        iStart = iSlAfter\n",
    "    if debug:\n",
    "        cupsFromStart = []\n",
    "        idx = iNext[iStart]\n",
    "        while idx != iStart:\n",
    "            cupsFromStart.append(idx+1)\n",
    "            idx = iNext[idx]\n",
    "        print(\"-- final --\")\n",
    "        print(f\"cups: ({iStart+1:d}) {' '.join(str(v) for v in cupsFromStart)}\")\n",
    "    if totalLen == len(firstNums):\n",
    "        cupsFrom1 = []\n",
    "        idx = iNext[0]\n",
    "        while idx != 0:\n",
    "            cupsFrom1.append(idx+1)\n",
    "            idx = iNext[idx]\n",
    "        return cupsFrom1\n",
    "    else:\n",
    "        return iNext[0]+1, iNext[iNext[0]]+1\n",
    "\n",
    "crabCupGame2([int(ch) for ch in \"389125467\"], 0)\n",
    "crabCupGame2([int(ch) for ch in \"389125467\"], 0, totalLen=12)"
   ]
  },
  {
   "cell_type": "code",
   "execution_count": 4,
   "metadata": {
    "execution": {
     "iopub.execute_input": "2020-12-26T11:14:51.350300Z",
     "iopub.status.busy": "2020-12-26T11:14:51.349358Z",
     "iopub.status.idle": "2020-12-26T11:14:51.356497Z",
     "shell.execute_reply": "2020-12-26T11:14:51.358987Z"
    }
   },
   "outputs": [
    {
     "name": "stdout",
     "output_type": "stream",
     "text": [
      "[1 4 7 5 3 6 2 8 0]\n",
      "-- move 1 --\n",
      "cups: (3) 8 9 1 2 5 4 6 7\n",
      "Pick up: 8 9 1\n",
      "Destination: 2\n",
      "-- move 2 --\n",
      "cups: (2) 8 9 1 5 4 6 7 3\n",
      "Pick up: 8 9 1\n",
      "Destination: 7\n",
      "-- move 3 --\n",
      "cups: (5) 4 6 7 8 9 1 3 2\n",
      "Pick up: 4 6 7\n",
      "Destination: 3\n",
      "-- move 4 --\n",
      "cups: (8) 9 1 3 4 6 7 2 5\n",
      "Pick up: 9 1 3\n",
      "Destination: 7\n",
      "-- move 5 --\n",
      "cups: (4) 6 7 9 1 3 2 5 8\n",
      "Pick up: 6 7 9\n",
      "Destination: 3\n",
      "-- move 6 --\n",
      "cups: (1) 3 6 7 9 2 5 8 4\n",
      "Pick up: 3 6 7\n",
      "Destination: 9\n",
      "-- move 7 --\n",
      "cups: (9) 3 6 7 2 5 8 4 1\n",
      "Pick up: 3 6 7\n",
      "Destination: 8\n",
      "-- move 8 --\n",
      "cups: (2) 5 8 3 6 7 4 1 9\n",
      "Pick up: 5 8 3\n",
      "Destination: 1\n",
      "-- move 9 --\n",
      "cups: (6) 7 4 1 5 8 3 9 2\n",
      "Pick up: 7 4 1\n",
      "Destination: 5\n",
      "-- move 10 --\n",
      "cups: (5) 7 4 1 8 3 9 2 6\n",
      "Pick up: 7 4 1\n",
      "Destination: 3\n",
      "-- final --\n",
      "cups: (8) 3 7 4 1 9 2 6 5\n",
      "After 10:  92658374\n"
     ]
    }
   ],
   "source": [
    "ex10_cups = crabCupGame2([int(ch) for ch in \"389125467\"], 10, debug=True)\n",
    "print(\"After 10: \", \"\".join(str(v) for v in ex10_cups))"
   ]
  },
  {
   "cell_type": "code",
   "execution_count": 5,
   "metadata": {
    "execution": {
     "iopub.execute_input": "2020-12-26T11:14:51.366795Z",
     "iopub.status.busy": "2020-12-26T11:14:51.365833Z",
     "iopub.status.idle": "2020-12-26T11:14:51.368693Z",
     "shell.execute_reply": "2020-12-26T11:14:51.369266Z"
    }
   },
   "outputs": [
    {
     "name": "stdout",
     "output_type": "stream",
     "text": [
      "After 100:  67384529\n"
     ]
    }
   ],
   "source": [
    "ex100_cups = crabCupGame2([int(ch) for ch in \"389125467\"], 100, debug=False)\n",
    "print(\"After 100: \", \"\".join(str(v) for v in ex100_cups))"
   ]
  },
  {
   "cell_type": "code",
   "execution_count": 6,
   "metadata": {
    "execution": {
     "iopub.execute_input": "2020-12-26T11:14:51.444727Z",
     "iopub.status.busy": "2020-12-26T11:14:51.409518Z",
     "iopub.status.idle": "2020-12-26T11:15:20.907492Z",
     "shell.execute_reply": "2020-12-26T11:15:20.908120Z"
    }
   },
   "outputs": [
    {
     "name": "stdout",
     "output_type": "stream",
     "text": [
      "(934001, 159792) 149245887792\n"
     ]
    }
   ],
   "source": [
    "ex1M_cups = crabCupGame2([int(ch) for ch in \"389125467\"], 10000000, totalLen=1000000, debug=False)\n",
    "print(ex1M_cups, ex1M_cups[0]*ex1M_cups[1])"
   ]
  },
  {
   "cell_type": "code",
   "execution_count": 7,
   "metadata": {
    "execution": {
     "iopub.execute_input": "2020-12-26T11:15:20.915902Z",
     "iopub.status.busy": "2020-12-26T11:15:20.915143Z",
     "iopub.status.idle": "2020-12-26T11:15:41.666717Z",
     "shell.execute_reply": "2020-12-26T11:15:41.665911Z"
    }
   },
   "outputs": [
    {
     "name": "stdout",
     "output_type": "stream",
     "text": [
      "(835237, 677192) 565615814504\n"
     ]
    }
   ],
   "source": [
    "p1M_cups = crabCupGame2([int(ch) for ch in \"394618527\"], 10000000, totalLen=1000000, debug=False)\n",
    "print(p1M_cups, p1M_cups[0]*p1M_cups[1])"
   ]
  }
 ],
 "metadata": {
  "kernelspec": {
   "display_name": "Python 3",
   "language": "python",
   "name": "python3"
  },
  "language_info": {
   "codemirror_mode": {
    "name": "ipython",
    "version": 3
   },
   "file_extension": ".py",
   "mimetype": "text/x-python",
   "name": "python",
   "nbconvert_exporter": "python",
   "pygments_lexer": "ipython3",
   "version": "3.9.1"
  }
 },
 "nbformat": 4,
 "nbformat_minor": 4
}
