{
 "cells": [
  {
   "cell_type": "markdown",
   "metadata": {},
   "source": [
    "# Advent of code 2020: day 10\n",
    "\n",
    "Problem [here](https://adventofcode.com/2020/day/10)\n",
    "\n",
    "## Part 1"
   ]
  },
  {
   "cell_type": "code",
   "execution_count": 1,
   "metadata": {
    "execution": {
     "iopub.execute_input": "2020-12-12T14:55:20.926576Z",
     "iopub.status.busy": "2020-12-12T14:55:20.925800Z",
     "iopub.status.idle": "2020-12-12T14:55:20.928646Z",
     "shell.execute_reply": "2020-12-12T14:55:20.927920Z"
    }
   },
   "outputs": [],
   "source": [
    "ex1_input = [ int(ln.strip()) for ln in \"\"\"\n",
    "16\n",
    "10\n",
    "15\n",
    "5\n",
    "1\n",
    "11\n",
    "7\n",
    "19\n",
    "6\n",
    "12\n",
    "4\n",
    "\"\"\".split() if ln.strip() ]\n",
    "\n",
    "ex2_input = [ int(ln.strip()) for ln in \"\"\"\n",
    "28\n",
    "33\n",
    "18\n",
    "42\n",
    "31\n",
    "14\n",
    "46\n",
    "20\n",
    "48\n",
    "47\n",
    "24\n",
    "23\n",
    "49\n",
    "45\n",
    "19\n",
    "38\n",
    "39\n",
    "11\n",
    "1\n",
    "32\n",
    "25\n",
    "35\n",
    "8\n",
    "17\n",
    "7\n",
    "9\n",
    "4\n",
    "2\n",
    "34\n",
    "10\n",
    "3\n",
    "\"\"\".split() if ln.strip() ]"
   ]
  },
  {
   "cell_type": "code",
   "execution_count": 2,
   "metadata": {
    "execution": {
     "iopub.execute_input": "2020-12-12T14:55:20.933778Z",
     "iopub.status.busy": "2020-12-12T14:55:20.933134Z",
     "iopub.status.idle": "2020-12-12T14:55:20.999971Z",
     "shell.execute_reply": "2020-12-12T14:55:20.999432Z"
    }
   },
   "outputs": [
    {
     "name": "stdout",
     "output_type": "stream",
     "text": [
      "[7, 0, 5]\n"
     ]
    }
   ],
   "source": [
    "import numpy as np\n",
    "\n",
    "def count_steps(inputs):\n",
    "    inputs = np.array(sorted(inputs))\n",
    "    steps = inputs[1:]-inputs[:-1]\n",
    "    counts = [ np.count_nonzero(steps == i+1) for i in range(3) ]\n",
    "    counts[0] += 1 ## initial, from 0\n",
    "    counts[2] += 1 ## final, to max+3\n",
    "    return counts\n",
    "\n",
    "print(count_steps(ex1_input))"
   ]
  },
  {
   "cell_type": "code",
   "execution_count": 3,
   "metadata": {
    "execution": {
     "iopub.execute_input": "2020-12-12T14:55:21.003258Z",
     "iopub.status.busy": "2020-12-12T14:55:21.002700Z",
     "iopub.status.idle": "2020-12-12T14:55:21.005181Z",
     "shell.execute_reply": "2020-12-12T14:55:21.004689Z"
    }
   },
   "outputs": [
    {
     "name": "stdout",
     "output_type": "stream",
     "text": [
      "[22, 0, 10]\n"
     ]
    }
   ],
   "source": [
    "print(count_steps(ex2_input))"
   ]
  },
  {
   "cell_type": "code",
   "execution_count": 4,
   "metadata": {
    "execution": {
     "iopub.execute_input": "2020-12-12T14:55:21.009171Z",
     "iopub.status.busy": "2020-12-12T14:55:21.008649Z",
     "iopub.status.idle": "2020-12-12T14:55:21.011155Z",
     "shell.execute_reply": "2020-12-12T14:55:21.010625Z"
    },
    "lines_to_end_of_cell_marker": 0,
    "lines_to_next_cell": 1
   },
   "outputs": [
    {
     "name": "stdout",
     "output_type": "stream",
     "text": [
      "[68, 0, 32] 2176\n"
     ]
    }
   ],
   "source": [
    "with open(\"inputs/day10.txt\") as inF:\n",
    "    puzzle_inputs = [ int(ln.strip()) for ln in inF if ln.strip() ]\n",
    "\n",
    "nSteps_puzzle = count_steps(puzzle_inputs)\n",
    "print(nSteps_puzzle, nSteps_puzzle[0]*nSteps_puzzle[2])"
   ]
  },
  {
   "cell_type": "markdown",
   "metadata": {},
   "source": [
    "## Part 2"
   ]
  },
  {
   "cell_type": "markdown",
   "metadata": {},
   "source": [
    "Since the largest difference is 3, the number of ways to reach N is\n",
    "the sum of the number of ways to get to N-1, N-2 and N-3.\n",
    "Therefore it is sufficient to loop over the range of voltages once,\n",
    "keeping track of three adaptors at a time, to count the number of\n",
    "ways to bridge the whole interval."
   ]
  },
  {
   "cell_type": "code",
   "execution_count": 5,
   "metadata": {
    "execution": {
     "iopub.execute_input": "2020-12-12T14:55:21.015764Z",
     "iopub.status.busy": "2020-12-12T14:55:21.015251Z",
     "iopub.status.idle": "2020-12-12T14:55:21.016986Z",
     "shell.execute_reply": "2020-12-12T14:55:21.017408Z"
    }
   },
   "outputs": [
    {
     "name": "stdout",
     "output_type": "stream",
     "text": [
      "8\n"
     ]
    }
   ],
   "source": [
    "def count_ways(inputs):\n",
    "    input_s = set(inputs)\n",
    "    assert len(input_s) == len(inputs)\n",
    "    target = max(inputs)\n",
    "    n = 0\n",
    "    nWaysTo = [None]*3\n",
    "    for n in range(3):         # initialize the first 3\n",
    "        nWaysTo[n] = (1+sum(nWaysTo[:n]) if n+1 in input_s else 0)\n",
    "    for n in range(3, target): # then count the rest\n",
    "        nWaysTo[n%3] = (sum(nWaysTo) if n+1 in input_s else 0)\n",
    "    return nWaysTo[(target-1)%3]\n",
    "\n",
    "print(count_ways(ex1_input))"
   ]
  },
  {
   "cell_type": "code",
   "execution_count": 6,
   "metadata": {
    "execution": {
     "iopub.execute_input": "2020-12-12T14:55:21.020429Z",
     "iopub.status.busy": "2020-12-12T14:55:21.019927Z",
     "iopub.status.idle": "2020-12-12T14:55:21.022282Z",
     "shell.execute_reply": "2020-12-12T14:55:21.021758Z"
    }
   },
   "outputs": [
    {
     "name": "stdout",
     "output_type": "stream",
     "text": [
      "19208\n"
     ]
    }
   ],
   "source": [
    "print(count_ways(ex2_input))"
   ]
  },
  {
   "cell_type": "code",
   "execution_count": 7,
   "metadata": {
    "execution": {
     "iopub.execute_input": "2020-12-12T14:55:21.025277Z",
     "iopub.status.busy": "2020-12-12T14:55:21.024776Z",
     "iopub.status.idle": "2020-12-12T14:55:21.027014Z",
     "shell.execute_reply": "2020-12-12T14:55:21.026492Z"
    }
   },
   "outputs": [
    {
     "name": "stdout",
     "output_type": "stream",
     "text": [
      "18512297918464\n"
     ]
    }
   ],
   "source": [
    "print(count_ways(puzzle_inputs))"
   ]
  }
 ],
 "metadata": {
  "kernelspec": {
   "display_name": "Python 3",
   "language": "python",
   "name": "python3"
  },
  "language_info": {
   "codemirror_mode": {
    "name": "ipython",
    "version": 3
   },
   "file_extension": ".py",
   "mimetype": "text/x-python",
   "name": "python",
   "nbconvert_exporter": "python",
   "pygments_lexer": "ipython3",
   "version": "3.9.0"
  }
 },
 "nbformat": 4,
 "nbformat_minor": 4
}
