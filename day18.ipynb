{
 "cells": [
  {
   "cell_type": "markdown",
   "metadata": {},
   "source": [
    "# Advent of code 2020: day 18\n",
    "\n",
    "Problem [here](https://adventofcode.com/2020/day/18)"
   ]
  },
  {
   "cell_type": "markdown",
   "metadata": {},
   "source": [
    "## Part 1"
   ]
  },
  {
   "cell_type": "code",
   "execution_count": 1,
   "metadata": {
    "execution": {
     "iopub.execute_input": "2020-12-19T19:01:12.025068Z",
     "iopub.status.busy": "2020-12-19T19:01:12.024118Z",
     "iopub.status.idle": "2020-12-19T19:01:12.027468Z",
     "shell.execute_reply": "2020-12-19T19:01:12.028112Z"
    }
   },
   "outputs": [
    {
     "name": "stdout",
     "output_type": "stream",
     "text": [
      "71\n"
     ]
    }
   ],
   "source": [
    "ex_in = \"1 + 2 * 3 + 4 * 5 + 6\"\n",
    "\n",
    "def execute_noParen(expr):\n",
    "    tokens = iter(expr.split())\n",
    "    result = int(next(tokens))\n",
    "    try:\n",
    "        while True:\n",
    "            op = next(tokens)\n",
    "            val = next(tokens)\n",
    "            if op == \"+\":\n",
    "                result += int(val)\n",
    "            elif op == \"*\":\n",
    "                result *= int(val)\n",
    "    except StopIteration:\n",
    "        pass\n",
    "    return result\n",
    "\n",
    "print(execute_noParen(ex_in))"
   ]
  },
  {
   "cell_type": "code",
   "execution_count": 2,
   "metadata": {
    "execution": {
     "iopub.execute_input": "2020-12-19T19:01:12.038704Z",
     "iopub.status.busy": "2020-12-19T19:01:12.037506Z",
     "iopub.status.idle": "2020-12-19T19:01:12.041020Z",
     "shell.execute_reply": "2020-12-19T19:01:12.041860Z"
    }
   },
   "outputs": [
    {
     "name": "stdout",
     "output_type": "stream",
     "text": [
      "2 * 3 + (4 * 5) 26\n",
      "5 + (8 * 3 + 9 + 3 * 4 * 3) 437\n",
      "5 * 9 * (7 * 3 * 3 + 9 * 3 + (8 + 6 * 4)) 12240\n",
      "((2 + 4 * 9) * (6 + 9 * 8 + 6) + 6) + 2 + 4 * 2 13632\n"
     ]
    }
   ],
   "source": [
    "import re\n",
    "patSub = re.compile(\"\\([0-9\\+\\* ]+\\)\")\n",
    "def execute_with_subexpr(expr, execNoParen=execute_noParen):\n",
    "    while m := patSub.search(expr):\n",
    "        subRes = execNoParen(expr[m.start()+1:m.end()-1])\n",
    "        expr = \"\".join((expr[:m.start()], str(subRes), expr[m.end():]))\n",
    "    return execNoParen(expr)\n",
    "\n",
    "examples = [\n",
    "    \"2 * 3 + (4 * 5)\",\n",
    "    \"5 + (8 * 3 + 9 + 3 * 4 * 3)\",\n",
    "    \"5 * 9 * (7 * 3 * 3 + 9 * 3 + (8 + 6 * 4))\",\n",
    "    \"((2 + 4 * 9) * (6 + 9 * 8 + 6) + 6) + 2 + 4 * 2\"\n",
    "]\n",
    "for ex_in in examples:\n",
    "    print(ex_in, execute_with_subexpr(ex_in))"
   ]
  },
  {
   "cell_type": "code",
   "execution_count": 3,
   "metadata": {
    "execution": {
     "iopub.execute_input": "2020-12-19T19:01:12.048917Z",
     "iopub.status.busy": "2020-12-19T19:01:12.047773Z",
     "iopub.status.idle": "2020-12-19T19:01:12.061421Z",
     "shell.execute_reply": "2020-12-19T19:01:12.062308Z"
    }
   },
   "outputs": [
    {
     "name": "stdout",
     "output_type": "stream",
     "text": [
      "4696493914530\n"
     ]
    }
   ],
   "source": [
    "with open(\"inputs/day18.txt\") as inF:\n",
    "    puzzle_expressions = [ ln.strip() for ln in inF if ln.strip() ]\n",
    "\n",
    "print(sum(execute_with_subexpr(expr) for expr in puzzle_expressions))"
   ]
  },
  {
   "cell_type": "markdown",
   "metadata": {},
   "source": [
    "## Part 2"
   ]
  },
  {
   "cell_type": "code",
   "execution_count": 4,
   "metadata": {
    "execution": {
     "iopub.execute_input": "2020-12-19T19:01:12.076060Z",
     "iopub.status.busy": "2020-12-19T19:01:12.074447Z",
     "iopub.status.idle": "2020-12-19T19:01:12.078480Z",
     "shell.execute_reply": "2020-12-19T19:01:12.079322Z"
    }
   },
   "outputs": [
    {
     "name": "stdout",
     "output_type": "stream",
     "text": [
      "231\n",
      "51\n",
      "2 * 3 + (4 * 5) 46\n",
      "5 + (8 * 3 + 9 + 3 * 4 * 3) 1445\n",
      "5 * 9 * (7 * 3 * 3 + 9 * 3 + (8 + 6 * 4)) 669060\n",
      "((2 + 4 * 9) * (6 + 9 * 8 + 6) + 6) + 2 + 4 * 2 23340\n"
     ]
    }
   ],
   "source": [
    "def execute_noParen_2(expr):\n",
    "    res = 1\n",
    "    for factor in expr.split(\" * \"):\n",
    "        res *= sum(int(tk) for tk in factor.split(\" + \"))\n",
    "    return res\n",
    "\n",
    "print(execute_noParen_2(\"1 + 2 * 3 + 4 * 5 + 6\"))\n",
    "print(execute_with_subexpr(\"1 + (2 * 3) + (4 * (5 + 6))\", execNoParen=execute_noParen_2))\n",
    "for ex_in in examples:\n",
    "    print(ex_in, execute_with_subexpr(ex_in, execNoParen=execute_noParen_2))"
   ]
  },
  {
   "cell_type": "code",
   "execution_count": 5,
   "metadata": {
    "execution": {
     "iopub.execute_input": "2020-12-19T19:01:12.093734Z",
     "iopub.status.busy": "2020-12-19T19:01:12.088129Z",
     "iopub.status.idle": "2020-12-19T19:01:12.096205Z",
     "shell.execute_reply": "2020-12-19T19:01:12.097088Z"
    }
   },
   "outputs": [
    {
     "name": "stdout",
     "output_type": "stream",
     "text": [
      "362880372308125\n"
     ]
    }
   ],
   "source": [
    "print(sum(execute_with_subexpr(expr, execNoParen=execute_noParen_2) for expr in puzzle_expressions))"
   ]
  }
 ],
 "metadata": {
  "kernelspec": {
   "display_name": "Python 3",
   "language": "python",
   "name": "python3"
  },
  "language_info": {
   "codemirror_mode": {
    "name": "ipython",
    "version": 3
   },
   "file_extension": ".py",
   "mimetype": "text/x-python",
   "name": "python",
   "nbconvert_exporter": "python",
   "pygments_lexer": "ipython3",
   "version": "3.9.1"
  }
 },
 "nbformat": 4,
 "nbformat_minor": 4
}
