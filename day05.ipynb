{
 "cells": [
  {
   "cell_type": "code",
   "execution_count": 1,
   "metadata": {},
   "outputs": [],
   "source": [
    "with open(\"inputs/day05.txt\") as inF:\n",
    "    boardingPasses = [ ln.strip() for ln in inF ]"
   ]
  },
  {
   "cell_type": "markdown",
   "metadata": {},
   "source": [
    "Actually these boarding passes are numbers in binary format, so a simple translation to 0 and 1, and a conversion to integers, is sufficient"
   ]
  },
  {
   "cell_type": "code",
   "execution_count": 2,
   "metadata": {},
   "outputs": [],
   "source": [
    "trans_rows = str.maketrans({\"F\":\"0\",\"B\":\"1\"})\n",
    "trans_cols = str.maketrans({\"L\":\"0\",\"R\":\"1\"})\n",
    "def getRowAndSeat(bPass):\n",
    "    return (int(bPass[:7].translate(trans_rows), base=2),\n",
    "            int(bPass[7:].translate(trans_cols), base=2))"
   ]
  },
  {
   "cell_type": "markdown",
   "metadata": {},
   "source": [
    "Check the first example"
   ]
  },
  {
   "cell_type": "code",
   "execution_count": 3,
   "metadata": {},
   "outputs": [
    {
     "name": "stdout",
     "output_type": "stream",
     "text": [
      "(44, 5)\n"
     ]
    }
   ],
   "source": [
    "print(getRowAndSeat(\"FBFBBFFRLR\"))"
   ]
  },
  {
   "cell_type": "markdown",
   "metadata": {},
   "source": [
    "Check the other three examples, and the unique seat IDs (the full number)"
   ]
  },
  {
   "cell_type": "code",
   "execution_count": 4,
   "metadata": {},
   "outputs": [
    {
     "name": "stdout",
     "output_type": "stream",
     "text": [
      "BFFFBBFRRR 70 7 567\n",
      "FFFBBBFRRR 14 7 119\n",
      "BBFFBBFRLL 102 4 820\n"
     ]
    }
   ],
   "source": [
    "for bPass in (\"BFFFBBFRRR\", \"FFFBBBFRRR\", \"BBFFBBFRLL\"):\n",
    "    row,seat = getRowAndSeat(bPass)\n",
    "    print(bPass, row, seat, 8*row+seat)"
   ]
  },
  {
   "cell_type": "markdown",
   "metadata": {},
   "source": [
    "Part 1: the highest seatID. We will need them for the next part, so it's convenient to keep the whole list around"
   ]
  },
  {
   "cell_type": "code",
   "execution_count": 5,
   "metadata": {},
   "outputs": [
    {
     "name": "stdout",
     "output_type": "stream",
     "text": [
      "965\n"
     ]
    }
   ],
   "source": [
    "takenRowsAndSeats = [ getRowAndSeat(bPass) for bPass in boardingPasses ]\n",
    "bPassIDs = [ 8*row+seat for row,seat in takenRowsAndSeats ]\n",
    "highestID = max(bPassIDs)\n",
    "print(highestID)"
   ]
  },
  {
   "cell_type": "markdown",
   "metadata": {},
   "source": [
    "Part 2: find the one empty seat between two that are taken. An efficient way (in python) to do this is by comparing the \"previous ID\" and \"next ID\" lists (sorted), the difference should be two."
   ]
  },
  {
   "cell_type": "code",
   "execution_count": 6,
   "metadata": {},
   "outputs": [
    {
     "name": "stdout",
     "output_type": "stream",
     "text": [
      "[524]\n"
     ]
    }
   ],
   "source": [
    "import numpy as np\n",
    "sortedIDs = np.array(sorted(bPassIDs))\n",
    "mask_beforeMySeat = sortedIDs[:-1]+2 == sortedIDs[1:]\n",
    "mySeatCandidates = sortedIDs[:-1][mask_beforeMySeat]+1\n",
    "print(mySeatCandidates)"
   ]
  },
  {
   "cell_type": "code",
   "execution_count": null,
   "metadata": {},
   "outputs": [],
   "source": []
  }
 ],
 "metadata": {
  "kernelspec": {
   "display_name": "Python 3",
   "language": "python",
   "name": "python3"
  },
  "language_info": {
   "codemirror_mode": {
    "name": "ipython",
    "version": 3
   },
   "file_extension": ".py",
   "mimetype": "text/x-python",
   "name": "python",
   "nbconvert_exporter": "python",
   "pygments_lexer": "ipython3",
   "version": "3.9.0"
  }
 },
 "nbformat": 4,
 "nbformat_minor": 4
}
