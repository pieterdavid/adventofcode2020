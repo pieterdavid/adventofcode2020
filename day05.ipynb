{
 "cells": [
  {
   "cell_type": "markdown",
   "metadata": {},
   "source": [
    "# Advent of code 2020: day 5\n",
    "\n",
    "Problem [here](https://adventofcode.com/2020/day/5)\n",
    "\n",
    "Actually these boarding passes are numbers in binary format,\n",
    "so a simple translation to 0 and 1, and a conversion to integers,\n",
    "gets them into a very convenient format."
   ]
  },
  {
   "cell_type": "code",
   "execution_count": 1,
   "metadata": {
    "execution": {
     "iopub.execute_input": "2020-12-12T14:38:50.976048Z",
     "iopub.status.busy": "2020-12-12T14:38:50.975050Z",
     "iopub.status.idle": "2020-12-12T14:38:50.977317Z",
     "shell.execute_reply": "2020-12-12T14:38:50.977919Z"
    },
    "lines_to_end_of_cell_marker": 0,
    "lines_to_next_cell": 1
   },
   "outputs": [],
   "source": [
    "with open(\"inputs/day05.txt\") as inF:\n",
    "    boardingPasses = [ ln.strip() for ln in inF ]\n",
    "\n",
    "trans_rows = str.maketrans({\"F\":\"0\",\"B\":\"1\"})\n",
    "trans_cols = str.maketrans({\"L\":\"0\",\"R\":\"1\"})\n",
    "\n",
    "def getRowAndSeat(bPass):\n",
    "    return (int(bPass[:7].translate(trans_rows), base=2),\n",
    "            int(bPass[7:].translate(trans_cols), base=2))"
   ]
  },
  {
   "cell_type": "markdown",
   "metadata": {},
   "source": [
    "Check the first example"
   ]
  },
  {
   "cell_type": "code",
   "execution_count": 2,
   "metadata": {
    "execution": {
     "iopub.execute_input": "2020-12-12T14:38:50.982811Z",
     "iopub.status.busy": "2020-12-12T14:38:50.982069Z",
     "iopub.status.idle": "2020-12-12T14:38:50.985088Z",
     "shell.execute_reply": "2020-12-12T14:38:50.985683Z"
    }
   },
   "outputs": [
    {
     "name": "stdout",
     "output_type": "stream",
     "text": [
      "(44, 5)\n"
     ]
    }
   ],
   "source": [
    "print(getRowAndSeat(\"FBFBBFFRLR\"))"
   ]
  },
  {
   "cell_type": "markdown",
   "metadata": {},
   "source": [
    "Check the other three examples, and the unique seat IDs (the full number)"
   ]
  },
  {
   "cell_type": "code",
   "execution_count": 3,
   "metadata": {
    "execution": {
     "iopub.execute_input": "2020-12-12T14:38:50.991385Z",
     "iopub.status.busy": "2020-12-12T14:38:50.990230Z",
     "iopub.status.idle": "2020-12-12T14:38:50.993965Z",
     "shell.execute_reply": "2020-12-12T14:38:50.994590Z"
    }
   },
   "outputs": [
    {
     "name": "stdout",
     "output_type": "stream",
     "text": [
      "BFFFBBFRRR 70 7 567\n",
      "FFFBBBFRRR 14 7 119\n",
      "BBFFBBFRLL 102 4 820\n"
     ]
    }
   ],
   "source": [
    "for bPass in (\"BFFFBBFRRR\", \"FFFBBBFRRR\", \"BBFFBBFRLL\"):\n",
    "    row,seat = getRowAndSeat(bPass)\n",
    "    print(bPass, row, seat, 8*row+seat)"
   ]
  },
  {
   "cell_type": "markdown",
   "metadata": {},
   "source": [
    "## Part 1: the highest seatID.\n",
    "\n",
    "We will need them for the next part, so it is convenient to keep the whole list around."
   ]
  },
  {
   "cell_type": "code",
   "execution_count": 4,
   "metadata": {
    "execution": {
     "iopub.execute_input": "2020-12-12T14:38:51.001423Z",
     "iopub.status.busy": "2020-12-12T14:38:51.000691Z",
     "iopub.status.idle": "2020-12-12T14:38:51.003426Z",
     "shell.execute_reply": "2020-12-12T14:38:51.004018Z"
    }
   },
   "outputs": [
    {
     "name": "stdout",
     "output_type": "stream",
     "text": [
      "965\n"
     ]
    }
   ],
   "source": [
    "takenRowsAndSeats = [ getRowAndSeat(bPass) for bPass in boardingPasses ]\n",
    "bPassIDs = [ 8*row+seat for row,seat in takenRowsAndSeats ]\n",
    "highestID = max(bPassIDs)\n",
    "print(highestID)"
   ]
  },
  {
   "cell_type": "markdown",
   "metadata": {},
   "source": [
    "## Part 2: find the one empty seat between two that are taken.\n",
    "\n",
    "An efficient way (in python) to do this is by comparing\n",
    "the \"previous ID\" and \"next ID\" lists (sorted),\n",
    "the difference should be two."
   ]
  },
  {
   "cell_type": "code",
   "execution_count": 5,
   "metadata": {
    "execution": {
     "iopub.execute_input": "2020-12-12T14:38:51.009261Z",
     "iopub.status.busy": "2020-12-12T14:38:51.008539Z",
     "iopub.status.idle": "2020-12-12T14:38:51.073738Z",
     "shell.execute_reply": "2020-12-12T14:38:51.073212Z"
    }
   },
   "outputs": [
    {
     "name": "stdout",
     "output_type": "stream",
     "text": [
      "[524]\n"
     ]
    }
   ],
   "source": [
    "import numpy as np\n",
    "sortedIDs = np.array(sorted(bPassIDs))\n",
    "mask_beforeMySeat = sortedIDs[:-1]+2 == sortedIDs[1:]\n",
    "mySeatCandidates = sortedIDs[:-1][mask_beforeMySeat]+1\n",
    "print(mySeatCandidates)"
   ]
  }
 ],
 "metadata": {
  "kernelspec": {
   "display_name": "Python 3",
   "language": "python",
   "name": "python3"
  },
  "language_info": {
   "codemirror_mode": {
    "name": "ipython",
    "version": 3
   },
   "file_extension": ".py",
   "mimetype": "text/x-python",
   "name": "python",
   "nbconvert_exporter": "python",
   "pygments_lexer": "ipython3",
   "version": "3.9.0"
  }
 },
 "nbformat": 4,
 "nbformat_minor": 4
}
