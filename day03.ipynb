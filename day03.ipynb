{
 "cells": [
  {
   "cell_type": "code",
   "execution_count": 1,
   "metadata": {},
   "outputs": [],
   "source": [
    "with open(\"inputs/day03.txt\") as inF:\n",
    "    inStr = inF.read()"
   ]
  },
  {
   "cell_type": "markdown",
   "metadata": {},
   "source": [
    "# Part 1"
   ]
  },
  {
   "cell_type": "code",
   "execution_count": 2,
   "metadata": {},
   "outputs": [
    {
     "name": "stdout",
     "output_type": "stream",
     "text": [
      "252\n"
     ]
    }
   ],
   "source": [
    "import numpy as np\n",
    "inArr = np.array([ [ (True if c == \"#\" else False) for c in ln ] for ln in inStr.strip().split(\"\\n\") ], dtype=np.bool)\n",
    "nTrees = sum((1 if inArr[i,(3*i)%inArr.shape[1]] else 0 ) for i in range(inArr.shape[0]))\n",
    "print(nTrees)"
   ]
  },
  {
   "cell_type": "markdown",
   "metadata": {},
   "source": [
    "# Part 2"
   ]
  },
  {
   "cell_type": "code",
   "execution_count": 3,
   "metadata": {},
   "outputs": [
    {
     "name": "stdout",
     "output_type": "stream",
     "text": [
      "2608962048\n"
     ]
    }
   ],
   "source": [
    "nTrees_11 = sum((1 if inArr[i,i%inArr.shape[1]] else 0 ) for i in range(inArr.shape[0]))\n",
    "nTrees_31 = sum((1 if inArr[i,(3*i)%inArr.shape[1]] else 0 ) for i in range(inArr.shape[0]))\n",
    "nTrees_51 = sum((1 if inArr[i,(5*i)%inArr.shape[1]] else 0 ) for i in range(inArr.shape[0]))\n",
    "nTrees_71 = sum((1 if inArr[i,(7*i)%inArr.shape[1]] else 0 ) for i in range(inArr.shape[0]))\n",
    "nTrees_12 = sum((1 if inArr[i,(i//2)%inArr.shape[1]] else 0 ) for i in range(0, inArr.shape[0], 2))\n",
    "print(nTrees_11*nTrees_31*nTrees_51*nTrees_71*nTrees_12)"
   ]
  },
  {
   "cell_type": "code",
   "execution_count": null,
   "metadata": {},
   "outputs": [],
   "source": []
  }
 ],
 "metadata": {
  "kernelspec": {
   "display_name": "Python 3",
   "language": "python",
   "name": "python3"
  },
  "language_info": {
   "codemirror_mode": {
    "name": "ipython",
    "version": 3
   },
   "file_extension": ".py",
   "mimetype": "text/x-python",
   "name": "python",
   "nbconvert_exporter": "python",
   "pygments_lexer": "ipython3",
   "version": "3.9.0"
  }
 },
 "nbformat": 4,
 "nbformat_minor": 4
}
