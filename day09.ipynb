{
 "cells": [
  {
   "cell_type": "code",
   "execution_count": 1,
   "metadata": {},
   "outputs": [],
   "source": [
    "example_input = [int(ln.strip()) for ln in \"\"\"35\n",
    "20\n",
    "15\n",
    "25\n",
    "47\n",
    "40\n",
    "62\n",
    "55\n",
    "65\n",
    "95\n",
    "102\n",
    "117\n",
    "150\n",
    "182\n",
    "127\n",
    "219\n",
    "299\n",
    "277\n",
    "309\n",
    "576\"\"\".split(\"\\n\") ]"
   ]
  },
  {
   "cell_type": "code",
   "execution_count": 2,
   "metadata": {},
   "outputs": [
    {
     "name": "stdout",
     "output_type": "stream",
     "text": [
      "Invalid for element 14: 127\n"
     ]
    }
   ],
   "source": [
    "from itertools import combinations\n",
    "\n",
    "def run_while_valid(inputs, preambleSize):\n",
    "    buffer = inputs[:preambleSize]\n",
    "    iB = 0\n",
    "    for i,num in enumerate(inputs[preambleSize:], start=preambleSize):\n",
    "        if not any(a+b == num for a,b in combinations(buffer, 2)):\n",
    "            print(f\"Invalid for element {i:d}: {num:d}\")\n",
    "            return num\n",
    "        buffer[iB] = num\n",
    "        iB = (iB + 1) % preambleSize\n",
    "\n",
    "example_invalid = run_while_valid(example_input, 5)"
   ]
  },
  {
   "cell_type": "code",
   "execution_count": 3,
   "metadata": {},
   "outputs": [
    {
     "name": "stdout",
     "output_type": "stream",
     "text": [
      "Invalid for element 509: 31161678\n"
     ]
    }
   ],
   "source": [
    "with open(\"inputs/day09.txt\") as inF:\n",
    "    puzzle_input = [ int(ln.strip()) for ln in inF if ln.strip() ]\n",
    "\n",
    "puzzle_invalid = run_while_valid(puzzle_input, 25)"
   ]
  },
  {
   "cell_type": "code",
   "execution_count": 4,
   "metadata": {},
   "outputs": [
    {
     "name": "stdout",
     "output_type": "stream",
     "text": [
      "Found weakness: [15, 25, 47, 40]\n",
      "Weakness min and max: 15, 47; sum=62\n"
     ]
    }
   ],
   "source": [
    "def find_weakness(inputs, invalid):\n",
    "    iB,iE = 0,0\n",
    "    rngSum = 0\n",
    "    while iE < len(inputs):\n",
    "        while rngSum < invalid and iE < len(inputs):\n",
    "            rngSum += inputs[iE]\n",
    "            iE += 1\n",
    "        if rngSum == invalid:\n",
    "            weakness = inputs[iB:iE]\n",
    "            print(f\"Found weakness: {weakness!r}\")\n",
    "            mn = min(weakness)\n",
    "            mx = max(weakness)\n",
    "            print(f\"Weakness min and max: {mn!r}, {mx!r}; sum={mn+mx!r}\")\n",
    "            break\n",
    "        else:\n",
    "            rngSum -= inputs[iB]\n",
    "            iB += 1\n",
    "            while rngSum > invalid:\n",
    "                iE -= 1\n",
    "                rngSum -= inputs[iE]\n",
    "\n",
    "find_weakness(example_input, example_invalid)"
   ]
  },
  {
   "cell_type": "code",
   "execution_count": 5,
   "metadata": {},
   "outputs": [
    {
     "name": "stdout",
     "output_type": "stream",
     "text": [
      "Found weakness: [1221256, 1212280, 1297771, 2600543, 1262698, 1532207, 1275754, 1432328, 1294462, 2199548, 2708082, 1380490, 2768025, 1526574, 1602882, 4241588, 1605190]\n",
      "Weakness min and max: 1212280, 4241588; sum=5453868\n"
     ]
    }
   ],
   "source": [
    "find_weakness(puzzle_input, puzzle_invalid)"
   ]
  },
  {
   "cell_type": "code",
   "execution_count": null,
   "metadata": {},
   "outputs": [],
   "source": []
  }
 ],
 "metadata": {
  "kernelspec": {
   "display_name": "Python 3",
   "language": "python",
   "name": "python3"
  },
  "language_info": {
   "codemirror_mode": {
    "name": "ipython",
    "version": 3
   },
   "file_extension": ".py",
   "mimetype": "text/x-python",
   "name": "python",
   "nbconvert_exporter": "python",
   "pygments_lexer": "ipython3",
   "version": "3.9.0"
  }
 },
 "nbformat": 4,
 "nbformat_minor": 4
}
