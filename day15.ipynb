{
 "cells": [
  {
   "cell_type": "markdown",
   "metadata": {},
   "source": [
    "# Advent of code 2020: day 15\n",
    "\n",
    "Problem [here](https://adventofcode.com/2020/day/15)"
   ]
  },
  {
   "cell_type": "markdown",
   "metadata": {},
   "source": [
    "## Part 1"
   ]
  },
  {
   "cell_type": "code",
   "execution_count": 1,
   "metadata": {
    "execution": {
     "iopub.execute_input": "2020-12-15T07:52:06.410541Z",
     "iopub.status.busy": "2020-12-15T07:52:06.409569Z",
     "iopub.status.idle": "2020-12-15T07:52:06.413878Z",
     "shell.execute_reply": "2020-12-15T07:52:06.413116Z"
    }
   },
   "outputs": [
    {
     "name": "stdout",
     "output_type": "stream",
     "text": [
      "Adding 0 as number 0, past 0\n",
      "Adding 3 as number 1, past 0\n",
      "Adding 6 as number 2, past 0\n",
      "Adding 0 as number 3, past 3\n",
      "Adding 3 as number 4, past 3\n",
      "Adding 3 as number 5, past 1\n",
      "Adding 1 as number 6, past 0\n",
      "Adding 0 as number 7, past 4\n",
      "Adding 4 as number 8, past 0\n",
      "Adding 0 as number 9, past 2\n",
      "436\n"
     ]
    }
   ],
   "source": [
    "class MemoryGame:\n",
    "    def __init__(self):\n",
    "        self.mem = dict()\n",
    "        self.count = 0\n",
    "        self.last = None\n",
    "    def add(self, nb, debug=False):\n",
    "        prev,_ = self.mem.get(nb, (None, None))\n",
    "        intv = ((self.count-prev) if prev is not None else 0)\n",
    "        if debug:\n",
    "            print(f\"Adding {nb:d} as number {self.count:d}, past {intv}\")\n",
    "        self.mem[nb] = (self.count, intv)\n",
    "        self.last = nb\n",
    "        self.count += 1\n",
    "    def runUntil(self, mx, debug=False):\n",
    "        while self.count != mx:\n",
    "            _,intv = self.mem[self.last]\n",
    "            self.add(intv, debug=debug)\n",
    "        return self.last\n",
    "\n",
    "ex_game = MemoryGame()\n",
    "for nb in [0, 3, 6]:\n",
    "    ex_game.add(nb, debug=True)\n",
    "ex_game.runUntil(10, debug=True)\n",
    "print(ex_game.runUntil(2020))"
   ]
  },
  {
   "cell_type": "code",
   "execution_count": 2,
   "metadata": {
    "execution": {
     "iopub.execute_input": "2020-12-15T07:52:06.428576Z",
     "iopub.status.busy": "2020-12-15T07:52:06.427772Z",
     "iopub.status.idle": "2020-12-15T07:52:06.430978Z",
     "shell.execute_reply": "2020-12-15T07:52:06.431536Z"
    }
   },
   "outputs": [
    {
     "name": "stdout",
     "output_type": "stream",
     "text": [
      "[1, 3, 2] 1\n",
      "[2, 1, 3] 10\n",
      "[1, 2, 3] 27\n",
      "[2, 3, 1] 78\n",
      "[3, 2, 1] 438\n",
      "[3, 1, 2] 1836\n"
     ]
    }
   ],
   "source": [
    "for ex_init in [ [1,3,2], [2,1,3], [1,2,3], [2,3,1], [3,2,1], [3,1,2] ]:\n",
    "    gm = MemoryGame()\n",
    "    for nb in ex_init:\n",
    "        gm.add(nb)\n",
    "    print(ex_init, gm.runUntil(2020))"
   ]
  },
  {
   "cell_type": "code",
   "execution_count": 3,
   "metadata": {
    "execution": {
     "iopub.execute_input": "2020-12-15T07:52:06.438013Z",
     "iopub.status.busy": "2020-12-15T07:52:06.437142Z",
     "iopub.status.idle": "2020-12-15T07:52:06.439957Z",
     "shell.execute_reply": "2020-12-15T07:52:06.440500Z"
    }
   },
   "outputs": [
    {
     "name": "stdout",
     "output_type": "stream",
     "text": [
      "234\n"
     ]
    }
   ],
   "source": [
    "p1_gm = MemoryGame()\n",
    "for inb in [0,13,1,16,6,17]:\n",
    "    p1_gm.add(inb)\n",
    "print(p1_gm.runUntil(2020))"
   ]
  },
  {
   "cell_type": "markdown",
   "metadata": {},
   "source": [
    "## Part 2"
   ]
  },
  {
   "cell_type": "code",
   "execution_count": 4,
   "metadata": {
    "execution": {
     "iopub.execute_input": "2020-12-15T07:52:06.515351Z",
     "iopub.status.busy": "2020-12-15T07:52:06.479517Z",
     "iopub.status.idle": "2020-12-15T07:52:41.082733Z",
     "shell.execute_reply": "2020-12-15T07:52:41.083345Z"
    }
   },
   "outputs": [
    {
     "name": "stdout",
     "output_type": "stream",
     "text": [
      "175594\n"
     ]
    }
   ],
   "source": [
    "print(ex_game.runUntil(30000000))"
   ]
  },
  {
   "cell_type": "code",
   "execution_count": 5,
   "metadata": {
    "execution": {
     "iopub.execute_input": "2020-12-15T07:52:41.106894Z",
     "iopub.status.busy": "2020-12-15T07:52:41.106241Z",
     "iopub.status.idle": "2020-12-15T07:53:16.029966Z",
     "shell.execute_reply": "2020-12-15T07:53:16.033374Z"
    }
   },
   "outputs": [
    {
     "name": "stdout",
     "output_type": "stream",
     "text": [
      "8984\n"
     ]
    }
   ],
   "source": [
    "print(p1_gm.runUntil(30000000))"
   ]
  }
 ],
 "metadata": {
  "kernelspec": {
   "display_name": "Python 3",
   "language": "python",
   "name": "python3"
  },
  "language_info": {
   "codemirror_mode": {
    "name": "ipython",
    "version": 3
   },
   "file_extension": ".py",
   "mimetype": "text/x-python",
   "name": "python",
   "nbconvert_exporter": "python",
   "pygments_lexer": "ipython3",
   "version": "3.9.0"
  }
 },
 "nbformat": 4,
 "nbformat_minor": 4
}
