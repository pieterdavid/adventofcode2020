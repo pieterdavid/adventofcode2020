{
 "cells": [
  {
   "cell_type": "markdown",
   "metadata": {},
   "source": [
    "# Advent of code 2020: day 14\n",
    "\n",
    "Problem [here](https://adventofcode.com/2020/day/14)"
   ]
  },
  {
   "cell_type": "code",
   "execution_count": 1,
   "metadata": {
    "execution": {
     "iopub.execute_input": "2020-12-15T07:51:56.394236Z",
     "iopub.status.busy": "2020-12-15T07:51:56.393284Z",
     "iopub.status.idle": "2020-12-15T07:51:56.396118Z",
     "shell.execute_reply": "2020-12-15T07:51:56.396681Z"
    },
    "lines_to_next_cell": 1
   },
   "outputs": [
    {
     "name": "stdout",
     "output_type": "stream",
     "text": [
      "0b11111010 250\n",
      "250\n",
      "0b111111111111111111111111111111111111\n"
     ]
    }
   ],
   "source": [
    "print(bin(0xfa), 0xfa)\n",
    "print(int(\"11111010\", 2))\n",
    "print(bin((0x1<<36)-1))"
   ]
  },
  {
   "cell_type": "markdown",
   "metadata": {},
   "source": [
    "## Part 1"
   ]
  },
  {
   "cell_type": "code",
   "execution_count": 2,
   "metadata": {
    "execution": {
     "iopub.execute_input": "2020-12-15T07:51:56.405095Z",
     "iopub.status.busy": "2020-12-15T07:51:56.404412Z",
     "iopub.status.idle": "2020-12-15T07:51:56.407449Z",
     "shell.execute_reply": "2020-12-15T07:51:56.406863Z"
    }
   },
   "outputs": [
    {
     "name": "stdout",
     "output_type": "stream",
     "text": [
      "XXXXXXXXXXXXXXXXXXXXXXXXXXXXX1XXXX0X\n"
     ]
    }
   ],
   "source": [
    "class BitMask:\n",
    "    def __init__(self, strRepr):\n",
    "        self.mask = int(\"\".join((\"0\" if ch == \"X\" else \"1\") for ch in strRepr), 2)\n",
    "        self.val  = int(\"\".join((\"0\" if ch == \"X\" else ch) for ch in strRepr), 2)\n",
    "    def mod1(self, num):\n",
    "        return (num&(~self.mask)) + (self.val&self.mask)\n",
    "    def __str__(self):\n",
    "        msk_s = f\"{self.mask:036b}\"\n",
    "        val_s = f\"{self.val:036b}\"\n",
    "        return \"\".join((\"X\" if mc == \"0\" else vc) for mc,vc in zip(msk_s, val_s))\n",
    "\n",
    "ex_mask = BitMask(\"XXXXXXXXXXXXXXXXXXXXXXXXXXXXX1XXXX0X\")\n",
    "print(str(ex_mask))"
   ]
  },
  {
   "cell_type": "code",
   "execution_count": 3,
   "metadata": {
    "execution": {
     "iopub.execute_input": "2020-12-15T07:51:56.412871Z",
     "iopub.status.busy": "2020-12-15T07:51:56.412045Z",
     "iopub.status.idle": "2020-12-15T07:51:56.415560Z",
     "shell.execute_reply": "2020-12-15T07:51:56.414851Z"
    }
   },
   "outputs": [
    {
     "name": "stdout",
     "output_type": "stream",
     "text": [
      "value:  000000000000000000000000000000001011 (decimal 11)\n",
      "mask:   XXXXXXXXXXXXXXXXXXXXXXXXXXXXX1XXXX0X\n",
      "result: 000000000000000000000000000001001001 (decimal 73)\n",
      "value:  000000000000000000000000000001100101 (decimal 101)\n",
      "mask:   XXXXXXXXXXXXXXXXXXXXXXXXXXXXX1XXXX0X\n",
      "result: 000000000000000000000000000001100101 (decimal 101)\n",
      "value:  000000000000000000000000000000000000 (decimal 0)\n",
      "mask:   XXXXXXXXXXXXXXXXXXXXXXXXXXXXX1XXXX0X\n",
      "result: 000000000000000000000000000001000000 (decimal 64)\n"
     ]
    }
   ],
   "source": [
    "for ex_val in (11, 101, 0):\n",
    "    print(f\"value:  {ex_val:036b} (decimal {ex_val})\")\n",
    "    print(f\"mask:   {ex_mask!s}\")\n",
    "    res = ex_mask.mod1(ex_val)\n",
    "    print(f\"result: {res:036b} (decimal {res})\")"
   ]
  },
  {
   "cell_type": "code",
   "execution_count": 4,
   "metadata": {
    "execution": {
     "iopub.execute_input": "2020-12-15T07:51:56.422300Z",
     "iopub.status.busy": "2020-12-15T07:51:56.421490Z",
     "iopub.status.idle": "2020-12-15T07:51:56.423971Z",
     "shell.execute_reply": "2020-12-15T07:51:56.423395Z"
    }
   },
   "outputs": [],
   "source": [
    "def init(mem, lines, msk=None):\n",
    "    if not msk:\n",
    "        msk = BitMask(\"X\"*36)\n",
    "    for ln in lines:\n",
    "        cmd, val = ln.split(\" = \")\n",
    "        if cmd == \"mask\":\n",
    "            msk = BitMask(val)\n",
    "        elif cmd.startswith(\"mem[\") and cmd.endswith(\"]\"):\n",
    "            ky = int(cmd[4:-1])\n",
    "            mem[ky] = msk.mod1(int(val))\n",
    "        else:\n",
    "            raise RuntimeError()\n",
    "    return msk"
   ]
  },
  {
   "cell_type": "code",
   "execution_count": 5,
   "metadata": {
    "execution": {
     "iopub.execute_input": "2020-12-15T07:51:56.429881Z",
     "iopub.status.busy": "2020-12-15T07:51:56.429161Z",
     "iopub.status.idle": "2020-12-15T07:51:56.431752Z",
     "shell.execute_reply": "2020-12-15T07:51:56.432427Z"
    }
   },
   "outputs": [
    {
     "name": "stdout",
     "output_type": "stream",
     "text": [
      "165 XXXXXXXXXXXXXXXXXXXXXXXXXXXXX1XXXX0X defaultdict(<class 'int'>, {8: 64, 7: 101})\n"
     ]
    }
   ],
   "source": [
    "ex_in = list(\"\"\"mask = XXXXXXXXXXXXXXXXXXXXXXXXXXXXX1XXXX0X\n",
    "mem[8] = 11\n",
    "mem[7] = 101\n",
    "mem[8] = 0\"\"\".split(\"\\n\"))\n",
    "\n",
    "from collections import defaultdict\n",
    "ex_mem = defaultdict(int)\n",
    "msk = init(ex_mem, ex_in)\n",
    "print(sum(ex_mem.values()), str(msk), ex_mem)"
   ]
  },
  {
   "cell_type": "code",
   "execution_count": 6,
   "metadata": {
    "execution": {
     "iopub.execute_input": "2020-12-15T07:51:56.438372Z",
     "iopub.status.busy": "2020-12-15T07:51:56.437595Z",
     "iopub.status.idle": "2020-12-15T07:51:56.444608Z",
     "shell.execute_reply": "2020-12-15T07:51:56.443982Z"
    }
   },
   "outputs": [
    {
     "name": "stdout",
     "output_type": "stream",
     "text": [
      "010X01011000XXXX1001101X00X01001XX01 13727901897109\n"
     ]
    }
   ],
   "source": [
    "with open(\"inputs/day14.txt\") as inF:\n",
    "    puz_lines = [ ln.strip() for ln in inF if ln.strip() ]\n",
    "\n",
    "mem = defaultdict(int)\n",
    "msk = init(mem, puz_lines)\n",
    "print(msk, sum(mem.values()))"
   ]
  },
  {
   "cell_type": "markdown",
   "metadata": {},
   "source": [
    "## Part 2"
   ]
  },
  {
   "cell_type": "code",
   "execution_count": 7,
   "metadata": {
    "execution": {
     "iopub.execute_input": "2020-12-15T07:51:56.449867Z",
     "iopub.status.busy": "2020-12-15T07:51:56.449234Z",
     "iopub.status.idle": "2020-12-15T07:51:56.451572Z",
     "shell.execute_reply": "2020-12-15T07:51:56.452112Z"
    }
   },
   "outputs": [
    {
     "name": "stdout",
     "output_type": "stream",
     "text": [
      "address:  000000000000000000000000000000101010 (decimal 42)\n",
      "mask:     000000000000000000000000000000X1001X\n",
      "result:   000000000000000000000000000000111010\n",
      "result-m: 000000000000000000000000000000011010\n"
     ]
    }
   ],
   "source": [
    "ex_mask = BitMask(\"000000000000000000000000000000X1001X\")\n",
    "adr = 0b000000000000000000000000000000101010\n",
    "print(f\"address:  {adr:036b} (decimal {adr})\")\n",
    "print(f\"mask:     {ex_mask!s}\")\n",
    "print(f\"result:   {adr|ex_mask.val:036b}\")\n",
    "print(f\"result-m: {(adr|ex_mask.val)&ex_mask.mask:036b}\")"
   ]
  },
  {
   "cell_type": "code",
   "execution_count": 8,
   "metadata": {
    "execution": {
     "iopub.execute_input": "2020-12-15T07:51:56.460552Z",
     "iopub.status.busy": "2020-12-15T07:51:56.459878Z",
     "iopub.status.idle": "2020-12-15T07:51:56.462036Z",
     "shell.execute_reply": "2020-12-15T07:51:56.462545Z"
    }
   },
   "outputs": [
    {
     "name": "stdout",
     "output_type": "stream",
     "text": [
      "000000000000000000000000000000011010\n",
      "000000000000000000000000000000011011\n",
      "000000000000000000000000000000111010\n",
      "000000000000000000000000000000111011\n"
     ]
    }
   ],
   "source": [
    "def adrFor(adr, aMask):\n",
    "    toCh = []\n",
    "    for i in range(36):\n",
    "        test = 0x1<<i\n",
    "        if (~aMask) & test: ## is an X\n",
    "            toCh.append(test)\n",
    "    vals = []\n",
    "    for i in range(2**len(toCh)):\n",
    "        yield (adr&aMask) + sum((ch if i&(0x1<<j) else 0) for j,ch in enumerate(toCh))\n",
    "\n",
    "ex_adr = 0b000000000000000000000000000000101010\n",
    "ex_msk = BitMask(\"000000000000000000000000000000X1001X\")\n",
    "print(\"\\n\".join(f\"{v:036b}\" for v in adrFor(ex_adr|ex_mask.val, ex_msk.mask)))"
   ]
  },
  {
   "cell_type": "code",
   "execution_count": 9,
   "metadata": {
    "execution": {
     "iopub.execute_input": "2020-12-15T07:51:56.467308Z",
     "iopub.status.busy": "2020-12-15T07:51:56.466704Z",
     "iopub.status.idle": "2020-12-15T07:51:56.468729Z",
     "shell.execute_reply": "2020-12-15T07:51:56.469259Z"
    }
   },
   "outputs": [
    {
     "name": "stdout",
     "output_type": "stream",
     "text": [
      "000000000000000000000000000000010000\n",
      "000000000000000000000000000000010001\n",
      "000000000000000000000000000000010010\n",
      "000000000000000000000000000000010011\n",
      "000000000000000000000000000000011000\n",
      "000000000000000000000000000000011001\n",
      "000000000000000000000000000000011010\n",
      "000000000000000000000000000000011011\n"
     ]
    }
   ],
   "source": [
    "ex_adr2 = 0b000000000000000000000000000000011010\n",
    "ex_msk2 = BitMask(\"00000000000000000000000000000000X0XX\")\n",
    "print(\"\\n\".join(f\"{v:036b}\" for v in adrFor(ex_adr2|ex_msk2.val, ex_msk2.mask)))"
   ]
  },
  {
   "cell_type": "code",
   "execution_count": 10,
   "metadata": {
    "execution": {
     "iopub.execute_input": "2020-12-15T07:51:56.477530Z",
     "iopub.status.busy": "2020-12-15T07:51:56.476702Z",
     "iopub.status.idle": "2020-12-15T07:51:56.479273Z",
     "shell.execute_reply": "2020-12-15T07:51:56.479905Z"
    }
   },
   "outputs": [
    {
     "name": "stdout",
     "output_type": "stream",
     "text": [
      "208\n"
     ]
    }
   ],
   "source": [
    "def sumMemory(inLines):\n",
    "    initInstr = []\n",
    "    i = 0\n",
    "    mem = dict()\n",
    "    msk = None\n",
    "    while i != len(inLines):\n",
    "        cmd, val = inLines[i].split(\" = \")\n",
    "        if cmd == \"mask\":\n",
    "            msk = BitMask(inLines[i].split(\" = \")[1])\n",
    "        elif cmd.startswith(\"mem[\") and cmd.endswith(\"]\"):\n",
    "            ky = int(cmd[4:-1])\n",
    "            val = int(val)\n",
    "            for adr in adrFor(ky|msk.val, msk.mask):\n",
    "                mem[adr] = val\n",
    "        else:\n",
    "            raise RuntimeError(\"Unknown command\")\n",
    "        i += 1\n",
    "    return sum(mem.values())\n",
    "\n",
    "ex2_in = list(\"\"\"mask = 000000000000000000000000000000X1001X\n",
    "mem[42] = 100\n",
    "mask = 00000000000000000000000000000000X0XX\n",
    "mem[26] = 1\"\"\".split(\"\\n\"))\n",
    "\n",
    "\n",
    "print(sumMemory(ex2_in))"
   ]
  },
  {
   "cell_type": "code",
   "execution_count": 11,
   "metadata": {
    "execution": {
     "iopub.execute_input": "2020-12-15T07:51:56.523560Z",
     "iopub.status.busy": "2020-12-15T07:51:56.518678Z",
     "iopub.status.idle": "2020-12-15T07:51:56.798367Z",
     "shell.execute_reply": "2020-12-15T07:51:56.797682Z"
    }
   },
   "outputs": [
    {
     "name": "stdout",
     "output_type": "stream",
     "text": [
      "5579916171823\n"
     ]
    }
   ],
   "source": [
    "print(sumMemory(puz_lines))"
   ]
  }
 ],
 "metadata": {
  "kernelspec": {
   "display_name": "Python 3",
   "language": "python",
   "name": "python3"
  },
  "language_info": {
   "codemirror_mode": {
    "name": "ipython",
    "version": 3
   },
   "file_extension": ".py",
   "mimetype": "text/x-python",
   "name": "python",
   "nbconvert_exporter": "python",
   "pygments_lexer": "ipython3",
   "version": "3.9.0"
  }
 },
 "nbformat": 4,
 "nbformat_minor": 4
}
